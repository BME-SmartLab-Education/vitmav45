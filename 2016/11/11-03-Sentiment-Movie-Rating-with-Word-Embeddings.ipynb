{
 "cells": [
  {
   "cell_type": "markdown",
   "metadata": {},
   "source": [
    "# Copyright\n",
    "\n",
    "<PRE>\n",
    "Jelen iPython notebook a Budapesti Műszaki és Gazdaságtudományi Egyetemen tartott \n",
    "\"Deep Learning a gyakorlatban Python és LUA alapon\" tantárgy segédanyagaként készült.\n",
    "\n",
    "A tantárgy honlapja: http://smartlab.tmit.bme.hu/oktatas-deep-learning \n",
    "Deep Learning kutatás: http://smartlab.tmit.bme.hu/deep-learning\n",
    "\n",
    "A forráskódot GPLv3 licensz védi. Újrafelhasználás esetén lehetőség szerint kérjük az alábbi szerzőt értesíteni.\n",
    "\n",
    "2016 (c) Szaszák György (szaszak kukac tmit pont bme pont hu)\n",
    "</PRE>\n"
   ]
  },
  {
   "cell_type": "code",
   "execution_count": 1,
   "metadata": {
    "collapsed": false
   },
   "outputs": [
    {
     "name": "stderr",
     "output_type": "stream",
     "text": [
      "Using Theano backend.\n"
     ]
    }
   ],
   "source": [
    "import numpy as np\n",
    "from keras.datasets import imdb\n",
    "from keras.models import Sequential\n",
    "from keras.layers import Dense\n",
    "from keras.layers import Flatten\n",
    "from keras.layers import Dropout\n",
    "from keras.layers.embeddings import Embedding\n",
    "from keras.preprocessing import sequence\n",
    "# random seed a könnyebb reprodukálhatósághoz\n",
    "seed = 77\n",
    "np.random.seed(seed)"
   ]
  },
  {
   "cell_type": "markdown",
   "metadata": {},
   "source": [
    "## Sentiment elemzés (tetszik/nem tetszik) szóbeágyazás alapján filmkritikákból"
   ]
  },
  {
   "cell_type": "code",
   "execution_count": 7,
   "metadata": {
    "collapsed": false
   },
   "outputs": [
    {
     "name": "stdout",
     "output_type": "stream",
     "text": [
      "Adataink: \n",
      "(25000,)\n",
      "(25000,)\n",
      "(15000,)\n",
      "(10000,)\n",
      "Osztályok: \n",
      "[0 1]\n",
      "Szavak száma: \n",
      "5981\n",
      "Egy minta: \n",
      "[2, 89, 27, 2, 2, 2, 199, 132, 2, 4191, 2, 1339, 24, 2, 760, 2, 1385, 2, 2, 22, 1368, 2, 2, 5149, 2, 1635, 2, 2, 1368, 2, 2, 1357, 2, 2, 991, 2, 877, 38, 2, 27, 239, 2, 100, 235, 61, 483, 2, 2, 2, 2, 20, 131, 1102, 72, 2, 2, 251, 27, 1146, 2, 308, 2, 735, 1517, 2, 29, 144, 28, 77, 2305, 2, 2]\n",
      "1\n"
     ]
    }
   ],
   "source": [
    "# Betöltjük az adatokat (Keras támogatott)\n",
    "top_words=6000 # Limitáljuk a szavak számát, 6000 leggyakoribbat hagyjuk meg, többit kidobjuk\n",
    "skip_top=20 # Abból is kihagyhatjuk mondjuk a 20 leggyakoribbat -> érdemes így is futtatni és összehasonlítani az eredményt\n",
    "\n",
    "(X_train, y_train), (X_test, y_test) = imdb.load_data(nb_words=top_words,skip_top=skip_top)\n",
    "\n",
    "# Nincs validációs halmaz, lecsípünk a teszthalmazból validációhoz\n",
    "X_val=X_test[:15000]\n",
    "X_test=X_test[15000:]\n",
    "y_val=y_test[:15000]\n",
    "y_test=y_test[15000:]\n",
    "\n",
    "# Adatok alakja, osztályok száma\n",
    "print(\"Adataink: \")\n",
    "print(X_train.shape)\n",
    "print(y_train.shape)\n",
    "\n",
    "print(y_val.shape)\n",
    "print(y_test.shape)\n",
    "\n",
    "print(\"Osztályok: \")\n",
    "print(np.unique(y_train))\n",
    "\n",
    "print(\"Szavak száma: \")\n",
    "print(len(np.unique(np.hstack(X_train))))\n",
    "\n",
    "print(\"Egy minta: \")\n",
    "print(X_val[0])\n",
    "print(y_val[0])"
   ]
  },
  {
   "cell_type": "markdown",
   "metadata": {},
   "source": [
    "## Padding egyenlő hosszra"
   ]
  },
  {
   "cell_type": "code",
   "execution_count": 8,
   "metadata": {
    "collapsed": false
   },
   "outputs": [
    {
     "name": "stdout",
     "output_type": "stream",
     "text": [
      "Első minta padding után\n",
      "[   0    0    0    0    0    0    0    0    0    0    0    0    0    0    0\n",
      "    0    0    0    0    0    0    0    0    0    0    0    0    0    0    0\n",
      "    0    0    0    0    0    0    0    0    0    0    0    0    0    0    0\n",
      "    0    0    0    0    0    0    0    0    0    0    0    0    0    0    0\n",
      "    0    0    0    0    0    0    0    0    0    0    0    0    0    0    0\n",
      "    0    0    0    0    0    0    0    0    0    0    0    0    0    0    0\n",
      "    0    0    0    0    0    0    0    0    0    0    0    0    0    0    0\n",
      "    0    0    0    0    0    0    0    0    0    0    0    0    0    0    0\n",
      "    0    0    0    0    0    0    0    0    0    0    0    0    0    0    0\n",
      "    0    0    0    0    0    0    0    0    0    0    0    0    0    0    0\n",
      "    0    0    0    0    0    0    0    0    0    0    0    0    0    0    0\n",
      "    0    0    0    0    0    0    0    0    0    0    0    0    0    0    0\n",
      "    0    0    0    0    0    0    0    0    0    0    0    0    0    0    0\n",
      "    0    0    0    0    0    0    0    0    0    0    0    0    0    0    0\n",
      "    0    0    0    0    0    0    0    0    0    0    0    0    0    0    0\n",
      "    0    0    0    0    0    0    0    0    0    0    0    0    0    0    0\n",
      "    0    0    0    0    0    0    0    0    0    0    0    0    0    0    0\n",
      "    0    0    0    0    0    0    0    0    0    0    0    0    0    0    0\n",
      "    0    0    0    0    0    0    0    0    0    0    0    0    2    2   22\n",
      "    2   43  530  973 1622 1385   65  458 4468   66 3941    2  173   36  256\n",
      "    2   25  100   43  838  112   50  670    2    2   35  480  284    2  150\n",
      "    2  172  112  167    2  336  385   39    2  172 4536 1111    2  546   38\n",
      "    2  447    2  192   50    2    2  147 2025    2    2   22    2 1920 4613\n",
      "  469    2   22   71   87    2    2   43  530   38   76    2    2 1247    2\n",
      "   22    2  515    2    2    2  626    2    2    2   62  386    2    2  316\n",
      "    2  106    2    2 2223 5244    2  480   66 3785   33    2  130    2    2\n",
      "   38  619    2   25  124   51   36  135   48   25 1415   33    2   22    2\n",
      "  215   28   77   52    2    2  407    2   82    2    2    2  107  117 5952\n",
      "    2  256    2    2    2 3766    2  723   36   71   43  530  476   26  400\n",
      "  317   46    2    2    2 1029    2  104   88    2  381    2  297   98   32\n",
      " 2071   56   26  141    2  194    2    2    2  226   22   21  134  476   26\n",
      "  480    2  144   30 5535    2   51   36   28  224   92   25  104    2  226\n",
      "   65    2   38 1334   88    2    2  283    2    2 4472  113  103   32    2\n",
      "    2 5345    2  178   32]\n"
     ]
    }
   ],
   "source": [
    "# Ennyi szót fogunk kritikánként figyelembe venni, ha ennél rövidebb kritika van, azt nullákkal kipaddingeli a pad_sequences().\n",
    "max_words = 500\n",
    "X_train = sequence.pad_sequences(X_train, maxlen=max_words)\n",
    "X_val = sequence.pad_sequences(X_val, maxlen=max_words)\n",
    "X_test = sequence.pad_sequences(X_test, maxlen=max_words)\n",
    "\n",
    "print(\"Első minta padding után\")\n",
    "print(X_train[0])"
   ]
  },
  {
   "cell_type": "markdown",
   "metadata": {},
   "source": [
    "## Modell összeállítása, tanítás és tesztelés"
   ]
  },
  {
   "cell_type": "code",
   "execution_count": 9,
   "metadata": {
    "collapsed": false
   },
   "outputs": [
    {
     "name": "stdout",
     "output_type": "stream",
     "text": [
      "____________________________________________________________________________________________________\n",
      "Layer (type)                     Output Shape          Param #     Connected to                     \n",
      "====================================================================================================\n",
      "embedding_2 (Embedding)          (None, 500, 50)       300000      embedding_input_2[0][0]          \n",
      "____________________________________________________________________________________________________\n",
      "flatten_2 (Flatten)              (None, 25000)         0           embedding_2[0][0]                \n",
      "____________________________________________________________________________________________________\n",
      "dense_3 (Dense)                  (None, 250)           6250250     flatten_2[0][0]                  \n",
      "____________________________________________________________________________________________________\n",
      "dense_4 (Dense)                  (None, 1)             251         dense_3[0][0]                    \n",
      "====================================================================================================\n",
      "Total params: 6550501\n",
      "____________________________________________________________________________________________________\n",
      "None\n"
     ]
    }
   ],
   "source": [
    "embedding_dim=50\n",
    "\n",
    "model = Sequential()\n",
    "# Mi csináljuk az embeddinget is\n",
    "model.add(Embedding(top_words, embedding_dim, input_length=max_words))\n",
    "#model.add(Dropout(0.2))\n",
    "model.add(Flatten())\n",
    "model.add(Dense(250, activation='relu'))\n",
    "#model.add(Dropout(0.2))\n",
    "model.add(Dense(1, activation='sigmoid'))\n",
    "model.compile(loss='binary_crossentropy', optimizer='adam', metrics=['accuracy'])\n",
    "print(model.summary())"
   ]
  },
  {
   "cell_type": "code",
   "execution_count": 10,
   "metadata": {
    "collapsed": false
   },
   "outputs": [
    {
     "name": "stdout",
     "output_type": "stream",
     "text": [
      "Train on 25000 samples, validate on 15000 samples\n",
      "Epoch 1/2\n",
      "25000/25000 [==============================] - 27s - loss: 0.4676 - acc: 0.7529 - val_loss: 0.2823 - val_acc: 0.8813\n",
      "Epoch 2/2\n",
      "25000/25000 [==============================] - 27s - loss: 0.1632 - acc: 0.9395 - val_loss: 0.3081 - val_acc: 0.8763\n"
     ]
    },
    {
     "data": {
      "text/plain": [
       "<keras.callbacks.History at 0x7fc4e8479438>"
      ]
     },
     "execution_count": 10,
     "metadata": {},
     "output_type": "execute_result"
    }
   ],
   "source": [
    "# Tanítás (csak 2 epoch, nincs túltanulás elleni védelmünk)\n",
    "model.fit(X_train, y_train, validation_data=(X_val, y_val), nb_epoch=2, batch_size=128, verbose=1)"
   ]
  },
  {
   "cell_type": "code",
   "execution_count": 11,
   "metadata": {
    "collapsed": false
   },
   "outputs": [
    {
     "name": "stdout",
     "output_type": "stream",
     "text": [
      "Accuracy: 87.07%\n"
     ]
    }
   ],
   "source": [
    "# Kiértékelés a tesztadatokon\n",
    "scores = model.evaluate(X_test, y_test, verbose=0)\n",
    "print(\"Accuracy: %.2f%%\" % (scores[1]*100))"
   ]
  }
 ],
 "metadata": {
  "kernelspec": {
   "display_name": "Python 3",
   "language": "python",
   "name": "python3"
  },
  "language_info": {
   "codemirror_mode": {
    "name": "ipython",
    "version": 3
   },
   "file_extension": ".py",
   "mimetype": "text/x-python",
   "name": "python",
   "nbconvert_exporter": "python",
   "pygments_lexer": "ipython3",
   "version": "3.4.3"
  }
 },
 "nbformat": 4,
 "nbformat_minor": 1
}
