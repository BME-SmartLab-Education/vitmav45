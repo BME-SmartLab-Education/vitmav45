{
 "cells": [
  {
   "cell_type": "markdown",
   "metadata": {},
   "source": [
    "# Copyright\n",
    "\n",
    "<PRE>\n",
    "Jelen iPython notebook a Budapesti Műszaki és Gazdaságtudományi Egyetemen tartott \n",
    "\"Deep Learning a gyakorlatban Python és LUA alapon\" tantárgy segédanyagaként készült a   \n",
    "https://github.com/bradleypallen/keras-movielens-cf oldalon található forrás alapján.\n",
    "\n",
    "A tantárgy honlapja: http://smartlab.tmit.bme.hu/oktatas-deep-learning \n",
    "Deep Learning kutatás: http://smartlab.tmit.bme.hu/deep-learning\n",
    "\n",
    "A forráskódot MIT licensz védi.\n",
    "</PRE>"
   ]
  },
  {
   "cell_type": "code",
   "execution_count": 1,
   "metadata": {
    "scrolled": true
   },
   "outputs": [
    {
     "name": "stderr",
     "output_type": "stream",
     "text": [
      "Using TensorFlow backend.\n"
     ]
    }
   ],
   "source": [
    "import pandas as pd\n",
    "import numpy as np\n",
    "from CFModel import CFModel # letölthető innen: https://github.com/bradleypallen/keras-movielens-cf/blob/master/CFModel.py"
   ]
  },
  {
   "cell_type": "markdown",
   "metadata": {},
   "source": [
    "## Konstansok (előre elkészített adatállományok és a beágyazás dimenziószáma), valamint egy előtanított modell\n"
   ]
  },
  {
   "cell_type": "code",
   "execution_count": 2,
   "metadata": {},
   "outputs": [],
   "source": [
    "RATINGS_CSV_FILE = 'ml1m_ratings.csv'\n",
    "USERS_CSV_FILE = 'ml1m_users.csv'\n",
    "MOVIES_CSV_FILE = 'ml1m_movies.csv'\n",
    "MODEL_WEIGHTS_FILE = 'ml1m_weights.h5'\n",
    "EMBEDDING_DIM = 120"
   ]
  },
  {
   "cell_type": "markdown",
   "metadata": {},
   "source": [
    "## MovieLens 1M betöltése"
   ]
  },
  {
   "cell_type": "code",
   "execution_count": 3,
   "metadata": {},
   "outputs": [
    {
     "name": "stdout",
     "output_type": "stream",
     "text": [
      "1000209 értékelés betöltve.\n"
     ]
    }
   ],
   "source": [
    "ratings = pd.read_csv(RATINGS_CSV_FILE, sep='\\t', encoding='latin-1', usecols=['userid', 'movieid', 'rating'])\n",
    "max_userid = ratings['userid'].drop_duplicates().max()\n",
    "max_movieid = ratings['movieid'].drop_duplicates().max()\n",
    "print (len(ratings), 'értékelés betöltve.')"
   ]
  },
  {
   "cell_type": "code",
   "execution_count": 4,
   "metadata": {},
   "outputs": [
    {
     "name": "stdout",
     "output_type": "stream",
     "text": [
      "6040 felhasználó a 6040 felhasználó közül betöltve.\n"
     ]
    }
   ],
   "source": [
    "users = pd.read_csv(USERS_CSV_FILE, sep='\\t', encoding='latin-1', usecols=['userid', 'gender', 'zipcode', 'age_desc', 'occ_desc'])\n",
    "print (len(users), 'felhasználó a', max_userid, 'felhasználó közül betöltve.')"
   ]
  },
  {
   "cell_type": "code",
   "execution_count": 9,
   "metadata": {},
   "outputs": [
    {
     "name": "stdout",
     "output_type": "stream",
     "text": [
      "3883 film a 3952 film közül betöltve.\n"
     ]
    }
   ],
   "source": [
    "movies = pd.read_csv(MOVIES_CSV_FILE, sep='\\t', encoding='latin-1', usecols=['movieid', 'title', 'genre'])\n",
    "print (len(movies), 'film a', max_movieid, 'film közül betöltve.')"
   ]
  },
  {
   "cell_type": "markdown",
   "metadata": {},
   "source": [
    "## Filmajánlás egy véletlenszerűen választott felhasználónak\n",
    "A felhasználói értékelést jelezzük előre a filmekre."
   ]
  },
  {
   "cell_type": "code",
   "execution_count": 5,
   "metadata": {},
   "outputs": [
    {
     "name": "stderr",
     "output_type": "stream",
     "text": [
      "/home/deep/Letöltések/vitmav45-master/2016/11/CFModel.py:25: UserWarning: The `Merge` layer is deprecated and will be removed after 08/2017. Use instead layers from `keras.layers.merge`, e.g. `add`, `concatenate`, etc.\n",
      "  self.add(Merge([P, Q], mode='dot', dot_axes=1)) # skaláris szorzat, maga az értékelés\n"
     ]
    }
   ],
   "source": [
    "# keras.layers.embeddings.Embedding(input_dim, output_dim, init='uniform', input_length=None, W_regularizer=None, activity_regularizer=None, W_constraint=None, mask_zero=False, weights=None, dropout=0.0)\n",
    "# 2 ágon torténik közös embedding: userekre és itemekre, K_FACTORS dimenzióra\n",
    "trained_model = CFModel(max_userid, max_movieid, EMBEDDING_DIM)"
   ]
  },
  {
   "cell_type": "code",
   "execution_count": 6,
   "metadata": {},
   "outputs": [],
   "source": [
    "# 2 súlymátrixra van szükségünk, egy user->embeddingre és egy item->embeddingre\n",
    "trained_model.load_weights(MODEL_WEIGHTS_FILE)"
   ]
  },
  {
   "cell_type": "code",
   "execution_count": 7,
   "metadata": {},
   "outputs": [
    {
     "data": {
      "text/html": [
       "<div>\n",
       "<style scoped>\n",
       "    .dataframe tbody tr th:only-of-type {\n",
       "        vertical-align: middle;\n",
       "    }\n",
       "\n",
       "    .dataframe tbody tr th {\n",
       "        vertical-align: top;\n",
       "    }\n",
       "\n",
       "    .dataframe thead th {\n",
       "        text-align: right;\n",
       "    }\n",
       "</style>\n",
       "<table border=\"1\" class=\"dataframe\">\n",
       "  <thead>\n",
       "    <tr style=\"text-align: right;\">\n",
       "      <th></th>\n",
       "      <th>userid</th>\n",
       "      <th>gender</th>\n",
       "      <th>zipcode</th>\n",
       "      <th>age_desc</th>\n",
       "      <th>occ_desc</th>\n",
       "    </tr>\n",
       "  </thead>\n",
       "  <tbody>\n",
       "    <tr>\n",
       "      <th>3432</th>\n",
       "      <td>3433</td>\n",
       "      <td>M</td>\n",
       "      <td>55113</td>\n",
       "      <td>18-24</td>\n",
       "      <td>programmer</td>\n",
       "    </tr>\n",
       "  </tbody>\n",
       "</table>\n",
       "</div>"
      ],
      "text/plain": [
       "      userid gender zipcode age_desc    occ_desc\n",
       "3432    3433      M   55113    18-24  programmer"
      ]
     },
     "execution_count": 7,
     "metadata": {},
     "output_type": "execute_result"
    }
   ],
   "source": [
    "# Egy véletlen felhasználó és adatai\n",
    "test_user=np.random.randint(0,max_userid)\n",
    "users[users['userid'] == test_user]"
   ]
  },
  {
   "cell_type": "code",
   "execution_count": 10,
   "metadata": {},
   "outputs": [
    {
     "data": {
      "text/html": [
       "<div>\n",
       "<style scoped>\n",
       "    .dataframe tbody tr th:only-of-type {\n",
       "        vertical-align: middle;\n",
       "    }\n",
       "\n",
       "    .dataframe tbody tr th {\n",
       "        vertical-align: top;\n",
       "    }\n",
       "\n",
       "    .dataframe thead th {\n",
       "        text-align: right;\n",
       "    }\n",
       "</style>\n",
       "<table border=\"1\" class=\"dataframe\">\n",
       "  <thead>\n",
       "    <tr style=\"text-align: right;\">\n",
       "      <th></th>\n",
       "      <th>movieid</th>\n",
       "      <th>title</th>\n",
       "      <th>genre</th>\n",
       "    </tr>\n",
       "  </thead>\n",
       "  <tbody>\n",
       "    <tr>\n",
       "      <th>2394</th>\n",
       "      <td>2463</td>\n",
       "      <td>Ruthless People (1986)</td>\n",
       "      <td>Comedy</td>\n",
       "    </tr>\n",
       "  </tbody>\n",
       "</table>\n",
       "</div>"
      ],
      "text/plain": [
       "      movieid                   title   genre\n",
       "2394     2463  Ruthless People (1986)  Comedy"
      ]
     },
     "execution_count": 10,
     "metadata": {},
     "output_type": "execute_result"
    }
   ],
   "source": [
    "# Egy véletlen film és adatai\n",
    "test_movie=np.random.randint(0,max_movieid)\n",
    "movies[movies['movieid'] == test_movie]"
   ]
  },
  {
   "cell_type": "code",
   "execution_count": 11,
   "metadata": {},
   "outputs": [],
   "source": [
    "# Ez a metódus model.predict-et futtat, indexelést átképezzük (adatbázisban 1-től indul)\n",
    "def predict_rating(userid, movieid):\n",
    "    return trained_model.rate(userid - 1, movieid - 1)"
   ]
  },
  {
   "cell_type": "code",
   "execution_count": 13,
   "metadata": {},
   "outputs": [
    {
     "data": {
      "text/html": [
       "<div>\n",
       "<style scoped>\n",
       "    .dataframe tbody tr th:only-of-type {\n",
       "        vertical-align: middle;\n",
       "    }\n",
       "\n",
       "    .dataframe tbody tr th {\n",
       "        vertical-align: top;\n",
       "    }\n",
       "\n",
       "    .dataframe thead th {\n",
       "        text-align: right;\n",
       "    }\n",
       "</style>\n",
       "<table border=\"1\" class=\"dataframe\">\n",
       "  <thead>\n",
       "    <tr style=\"text-align: right;\">\n",
       "      <th></th>\n",
       "      <th>userid</th>\n",
       "      <th>movieid</th>\n",
       "      <th>rating</th>\n",
       "      <th>prediction</th>\n",
       "      <th>title</th>\n",
       "      <th>genre</th>\n",
       "    </tr>\n",
       "  </thead>\n",
       "  <tbody>\n",
       "    <tr>\n",
       "      <th>78</th>\n",
       "      <td>3433</td>\n",
       "      <td>2162</td>\n",
       "      <td>1</td>\n",
       "      <td>1.414796</td>\n",
       "      <td>NeverEnding Story II: The Next Chapter, The (1...</td>\n",
       "      <td>Adventure|Children's|Fantasy</td>\n",
       "    </tr>\n",
       "    <tr>\n",
       "      <th>79</th>\n",
       "      <td>3433</td>\n",
       "      <td>1981</td>\n",
       "      <td>1</td>\n",
       "      <td>1.064095</td>\n",
       "      <td>Friday the 13th Part VIII: Jason Takes Manhatt...</td>\n",
       "      <td>Horror</td>\n",
       "    </tr>\n",
       "    <tr>\n",
       "      <th>80</th>\n",
       "      <td>3433</td>\n",
       "      <td>1556</td>\n",
       "      <td>1</td>\n",
       "      <td>1.139310</td>\n",
       "      <td>Speed 2: Cruise Control (1997)</td>\n",
       "      <td>Action|Romance|Thriller</td>\n",
       "    </tr>\n",
       "    <tr>\n",
       "      <th>81</th>\n",
       "      <td>3433</td>\n",
       "      <td>1562</td>\n",
       "      <td>1</td>\n",
       "      <td>1.225156</td>\n",
       "      <td>Batman &amp; Robin (1997)</td>\n",
       "      <td>Action|Adventure|Crime</td>\n",
       "    </tr>\n",
       "    <tr>\n",
       "      <th>82</th>\n",
       "      <td>3433</td>\n",
       "      <td>1974</td>\n",
       "      <td>1</td>\n",
       "      <td>2.016993</td>\n",
       "      <td>Friday the 13th (1980)</td>\n",
       "      <td>Horror</td>\n",
       "    </tr>\n",
       "    <tr>\n",
       "      <th>83</th>\n",
       "      <td>3433</td>\n",
       "      <td>1590</td>\n",
       "      <td>1</td>\n",
       "      <td>1.346338</td>\n",
       "      <td>Event Horizon (1997)</td>\n",
       "      <td>Action|Mystery|Sci-Fi|Thriller</td>\n",
       "    </tr>\n",
       "    <tr>\n",
       "      <th>84</th>\n",
       "      <td>3433</td>\n",
       "      <td>1739</td>\n",
       "      <td>1</td>\n",
       "      <td>1.034750</td>\n",
       "      <td>3 Ninjas: High Noon On Mega Mountain (1998)</td>\n",
       "      <td>Action|Children's</td>\n",
       "    </tr>\n",
       "    <tr>\n",
       "      <th>85</th>\n",
       "      <td>3433</td>\n",
       "      <td>2706</td>\n",
       "      <td>1</td>\n",
       "      <td>3.144991</td>\n",
       "      <td>American Pie (1999)</td>\n",
       "      <td>Comedy</td>\n",
       "    </tr>\n",
       "    <tr>\n",
       "      <th>86</th>\n",
       "      <td>3433</td>\n",
       "      <td>153</td>\n",
       "      <td>1</td>\n",
       "      <td>1.943306</td>\n",
       "      <td>Batman Forever (1995)</td>\n",
       "      <td>Action|Adventure|Comedy|Crime</td>\n",
       "    </tr>\n",
       "    <tr>\n",
       "      <th>87</th>\n",
       "      <td>3433</td>\n",
       "      <td>2381</td>\n",
       "      <td>1</td>\n",
       "      <td>0.937374</td>\n",
       "      <td>Police Academy 4: Citizens on Patrol (1987)</td>\n",
       "      <td>Comedy</td>\n",
       "    </tr>\n",
       "  </tbody>\n",
       "</table>\n",
       "</div>"
      ],
      "text/plain": [
       "    userid  movieid  rating  prediction  \\\n",
       "78    3433     2162       1    1.414796   \n",
       "79    3433     1981       1    1.064095   \n",
       "80    3433     1556       1    1.139310   \n",
       "81    3433     1562       1    1.225156   \n",
       "82    3433     1974       1    2.016993   \n",
       "83    3433     1590       1    1.346338   \n",
       "84    3433     1739       1    1.034750   \n",
       "85    3433     2706       1    3.144991   \n",
       "86    3433      153       1    1.943306   \n",
       "87    3433     2381       1    0.937374   \n",
       "\n",
       "                                                title  \\\n",
       "78  NeverEnding Story II: The Next Chapter, The (1...   \n",
       "79  Friday the 13th Part VIII: Jason Takes Manhatt...   \n",
       "80                     Speed 2: Cruise Control (1997)   \n",
       "81                              Batman & Robin (1997)   \n",
       "82                             Friday the 13th (1980)   \n",
       "83                               Event Horizon (1997)   \n",
       "84        3 Ninjas: High Noon On Mega Mountain (1998)   \n",
       "85                                American Pie (1999)   \n",
       "86                              Batman Forever (1995)   \n",
       "87        Police Academy 4: Citizens on Patrol (1987)   \n",
       "\n",
       "                             genre  \n",
       "78    Adventure|Children's|Fantasy  \n",
       "79                          Horror  \n",
       "80         Action|Romance|Thriller  \n",
       "81          Action|Adventure|Crime  \n",
       "82                          Horror  \n",
       "83  Action|Mystery|Sci-Fi|Thriller  \n",
       "84               Action|Children's  \n",
       "85                          Comedy  \n",
       "86   Action|Adventure|Comedy|Crime  \n",
       "87                          Comedy  "
      ]
     },
     "execution_count": 13,
     "metadata": {},
     "output_type": "execute_result"
    }
   ],
   "source": [
    "# Betöltjük a célfelhazsnálónktól származó felhasználói értékeléseket\n",
    "user_ratings = ratings[ratings['userid'] == test_user][['userid', 'movieid', 'rating']]\n",
    "# Hozzáadunk egy ajánló oszlopot és minden filmre generáljuk, hogy mennyire passzol a felhasználónk ízléséhez\n",
    "user_ratings['prediction'] = user_ratings.apply(lambda x: predict_rating(test_user, x['movieid']), axis=1)\n",
    "# Kiiratáshoz a predikciós és filmes táblákat egyesítjük a filmazonosító (ez közös) mentén\n",
    "# Első 10-et írjuk ki\n",
    "user_ratings.sort_values(by='rating', \n",
    "                         ascending=False).merge(movies, \n",
    "                                                on='movieid', \n",
    "                                                how='inner', \n",
    "                                                suffixes=['_u', '_m']).head(12) #tail(12) az utolsó 12-t írná ki"
   ]
  },
  {
   "cell_type": "code",
   "execution_count": 15,
   "metadata": {},
   "outputs": [
    {
     "data": {
      "text/html": [
       "<div>\n",
       "<style scoped>\n",
       "    .dataframe tbody tr th:only-of-type {\n",
       "        vertical-align: middle;\n",
       "    }\n",
       "\n",
       "    .dataframe tbody tr th {\n",
       "        vertical-align: top;\n",
       "    }\n",
       "\n",
       "    .dataframe thead th {\n",
       "        text-align: right;\n",
       "    }\n",
       "</style>\n",
       "<table border=\"1\" class=\"dataframe\">\n",
       "  <thead>\n",
       "    <tr style=\"text-align: right;\">\n",
       "      <th></th>\n",
       "      <th>movieid</th>\n",
       "      <th>prediction</th>\n",
       "      <th>title</th>\n",
       "      <th>genre</th>\n",
       "    </tr>\n",
       "  </thead>\n",
       "  <tbody>\n",
       "    <tr>\n",
       "      <th>0</th>\n",
       "      <td>1234</td>\n",
       "      <td>4.818746</td>\n",
       "      <td>Sting, The (1973)</td>\n",
       "      <td>Comedy|Crime</td>\n",
       "    </tr>\n",
       "    <tr>\n",
       "      <th>1</th>\n",
       "      <td>1036</td>\n",
       "      <td>4.602067</td>\n",
       "      <td>Die Hard (1988)</td>\n",
       "      <td>Action|Thriller</td>\n",
       "    </tr>\n",
       "    <tr>\n",
       "      <th>2</th>\n",
       "      <td>858</td>\n",
       "      <td>4.563595</td>\n",
       "      <td>Godfather, The (1972)</td>\n",
       "      <td>Action|Crime|Drama</td>\n",
       "    </tr>\n",
       "    <tr>\n",
       "      <th>3</th>\n",
       "      <td>457</td>\n",
       "      <td>4.563026</td>\n",
       "      <td>Fugitive, The (1993)</td>\n",
       "      <td>Action|Thriller</td>\n",
       "    </tr>\n",
       "    <tr>\n",
       "      <th>4</th>\n",
       "      <td>1262</td>\n",
       "      <td>4.532127</td>\n",
       "      <td>Great Escape, The (1963)</td>\n",
       "      <td>Adventure|War</td>\n",
       "    </tr>\n",
       "    <tr>\n",
       "      <th>5</th>\n",
       "      <td>3421</td>\n",
       "      <td>4.517402</td>\n",
       "      <td>Animal House (1978)</td>\n",
       "      <td>Comedy</td>\n",
       "    </tr>\n",
       "    <tr>\n",
       "      <th>6</th>\n",
       "      <td>2762</td>\n",
       "      <td>4.504848</td>\n",
       "      <td>Sixth Sense, The (1999)</td>\n",
       "      <td>Thriller</td>\n",
       "    </tr>\n",
       "    <tr>\n",
       "      <th>7</th>\n",
       "      <td>1250</td>\n",
       "      <td>4.493625</td>\n",
       "      <td>Bridge on the River Kwai, The (1957)</td>\n",
       "      <td>Drama|War</td>\n",
       "    </tr>\n",
       "    <tr>\n",
       "      <th>8</th>\n",
       "      <td>1221</td>\n",
       "      <td>4.462417</td>\n",
       "      <td>Godfather: Part II, The (1974)</td>\n",
       "      <td>Action|Crime|Drama</td>\n",
       "    </tr>\n",
       "    <tr>\n",
       "      <th>9</th>\n",
       "      <td>1954</td>\n",
       "      <td>4.438286</td>\n",
       "      <td>Rocky (1976)</td>\n",
       "      <td>Action|Drama</td>\n",
       "    </tr>\n",
       "  </tbody>\n",
       "</table>\n",
       "</div>"
      ],
      "text/plain": [
       "   movieid  prediction                                 title  \\\n",
       "0     1234    4.818746                     Sting, The (1973)   \n",
       "1     1036    4.602067                       Die Hard (1988)   \n",
       "2      858    4.563595                 Godfather, The (1972)   \n",
       "3      457    4.563026                  Fugitive, The (1993)   \n",
       "4     1262    4.532127              Great Escape, The (1963)   \n",
       "5     3421    4.517402                   Animal House (1978)   \n",
       "6     2762    4.504848               Sixth Sense, The (1999)   \n",
       "7     1250    4.493625  Bridge on the River Kwai, The (1957)   \n",
       "8     1221    4.462417        Godfather: Part II, The (1974)   \n",
       "9     1954    4.438286                          Rocky (1976)   \n",
       "\n",
       "                genre  \n",
       "0        Comedy|Crime  \n",
       "1     Action|Thriller  \n",
       "2  Action|Crime|Drama  \n",
       "3     Action|Thriller  \n",
       "4       Adventure|War  \n",
       "5              Comedy  \n",
       "6            Thriller  \n",
       "7           Drama|War  \n",
       "8  Action|Crime|Drama  \n",
       "9        Action|Drama  "
      ]
     },
     "execution_count": 15,
     "metadata": {},
     "output_type": "execute_result"
    }
   ],
   "source": [
    "# Szűrés azokra a filmekre, amelyeket a felhasználónk még nem látott\n",
    "recommendations = ratings[ratings['movieid'].isin(user_ratings['movieid']) == False][['movieid']].drop_duplicates()\n",
    "# Ajánlás a még nem látott filmekre\n",
    "recommendations['prediction'] = recommendations.apply(lambda x: predict_rating(test_user, x['movieid']), axis=1)\n",
    "# Kiírjuk az első 10-et\n",
    "recommendations.sort_values(by='prediction',\n",
    "                          ascending=False).merge(movies,\n",
    "                                                 on='movieid',\n",
    "                                                 how='inner',\n",
    "                                                 suffixes=['_u', '_m']).head(10)"
   ]
  },
  {
   "cell_type": "code",
   "execution_count": 16,
   "metadata": {},
   "outputs": [
    {
     "data": {
      "text/html": [
       "<div>\n",
       "<style scoped>\n",
       "    .dataframe tbody tr th:only-of-type {\n",
       "        vertical-align: middle;\n",
       "    }\n",
       "\n",
       "    .dataframe tbody tr th {\n",
       "        vertical-align: top;\n",
       "    }\n",
       "\n",
       "    .dataframe thead th {\n",
       "        text-align: right;\n",
       "    }\n",
       "</style>\n",
       "<table border=\"1\" class=\"dataframe\">\n",
       "  <thead>\n",
       "    <tr style=\"text-align: right;\">\n",
       "      <th></th>\n",
       "      <th>movieid</th>\n",
       "      <th>prediction</th>\n",
       "      <th>title</th>\n",
       "      <th>genre</th>\n",
       "    </tr>\n",
       "  </thead>\n",
       "  <tbody>\n",
       "    <tr>\n",
       "      <th>3608</th>\n",
       "      <td>3212</td>\n",
       "      <td>0.007456</td>\n",
       "      <td>Born to Win (1971)</td>\n",
       "      <td>Drama</td>\n",
       "    </tr>\n",
       "    <tr>\n",
       "      <th>3609</th>\n",
       "      <td>3291</td>\n",
       "      <td>0.003394</td>\n",
       "      <td>Trois (2000)</td>\n",
       "      <td>Thriller</td>\n",
       "    </tr>\n",
       "    <tr>\n",
       "      <th>3610</th>\n",
       "      <td>286</td>\n",
       "      <td>-0.006884</td>\n",
       "      <td>Nemesis 2: Nebula (1995)</td>\n",
       "      <td>Action|Sci-Fi|Thriller</td>\n",
       "    </tr>\n",
       "    <tr>\n",
       "      <th>3611</th>\n",
       "      <td>843</td>\n",
       "      <td>-0.014439</td>\n",
       "      <td>Lotto Land (1995)</td>\n",
       "      <td>Drama</td>\n",
       "    </tr>\n",
       "    <tr>\n",
       "      <th>3612</th>\n",
       "      <td>139</td>\n",
       "      <td>-0.015735</td>\n",
       "      <td>Target (1995)</td>\n",
       "      <td>Action|Drama</td>\n",
       "    </tr>\n",
       "    <tr>\n",
       "      <th>3613</th>\n",
       "      <td>2619</td>\n",
       "      <td>-0.016119</td>\n",
       "      <td>Mascara (1999)</td>\n",
       "      <td>Drama</td>\n",
       "    </tr>\n",
       "    <tr>\n",
       "      <th>3614</th>\n",
       "      <td>774</td>\n",
       "      <td>-0.026956</td>\n",
       "      <td>Wend Kuuni (God's Gift) (1982)</td>\n",
       "      <td>Drama</td>\n",
       "    </tr>\n",
       "    <tr>\n",
       "      <th>3615</th>\n",
       "      <td>402</td>\n",
       "      <td>-0.029621</td>\n",
       "      <td>Open Season (1996)</td>\n",
       "      <td>Comedy</td>\n",
       "    </tr>\n",
       "    <tr>\n",
       "      <th>3616</th>\n",
       "      <td>865</td>\n",
       "      <td>-0.038349</td>\n",
       "      <td>Small Faces (1995)</td>\n",
       "      <td>Drama</td>\n",
       "    </tr>\n",
       "    <tr>\n",
       "      <th>3617</th>\n",
       "      <td>1630</td>\n",
       "      <td>-0.049691</td>\n",
       "      <td>Lay of the Land, The (1997)</td>\n",
       "      <td>Comedy|Drama</td>\n",
       "    </tr>\n",
       "  </tbody>\n",
       "</table>\n",
       "</div>"
      ],
      "text/plain": [
       "      movieid  prediction                           title  \\\n",
       "3608     3212    0.007456              Born to Win (1971)   \n",
       "3609     3291    0.003394                    Trois (2000)   \n",
       "3610      286   -0.006884        Nemesis 2: Nebula (1995)   \n",
       "3611      843   -0.014439               Lotto Land (1995)   \n",
       "3612      139   -0.015735                   Target (1995)   \n",
       "3613     2619   -0.016119                  Mascara (1999)   \n",
       "3614      774   -0.026956  Wend Kuuni (God's Gift) (1982)   \n",
       "3615      402   -0.029621              Open Season (1996)   \n",
       "3616      865   -0.038349              Small Faces (1995)   \n",
       "3617     1630   -0.049691     Lay of the Land, The (1997)   \n",
       "\n",
       "                       genre  \n",
       "3608                   Drama  \n",
       "3609                Thriller  \n",
       "3610  Action|Sci-Fi|Thriller  \n",
       "3611                   Drama  \n",
       "3612            Action|Drama  \n",
       "3613                   Drama  \n",
       "3614                   Drama  \n",
       "3615                  Comedy  \n",
       "3616                   Drama  \n",
       "3617            Comedy|Drama  "
      ]
     },
     "execution_count": 16,
     "metadata": {},
     "output_type": "execute_result"
    }
   ],
   "source": [
    "# Illetve amelyeket jó szívvel nem ajánlanánk...\n",
    "recommendations.sort_values(by='prediction',\n",
    "                          ascending=False).merge(movies,\n",
    "                                                 on='movieid',\n",
    "                                                 how='inner',\n",
    "                                                 suffixes=['_u', '_m']).tail(10)"
   ]
  },
  {
   "cell_type": "code",
   "execution_count": null,
   "metadata": {},
   "outputs": [],
   "source": []
  }
 ],
 "metadata": {
  "kernelspec": {
   "display_name": "Python 3",
   "language": "python",
   "name": "python3"
  },
  "language_info": {
   "codemirror_mode": {
    "name": "ipython",
    "version": 3
   },
   "file_extension": ".py",
   "mimetype": "text/x-python",
   "name": "python",
   "nbconvert_exporter": "python",
   "pygments_lexer": "ipython3",
   "version": "3.4.3"
  }
 },
 "nbformat": 4,
 "nbformat_minor": 1
}
