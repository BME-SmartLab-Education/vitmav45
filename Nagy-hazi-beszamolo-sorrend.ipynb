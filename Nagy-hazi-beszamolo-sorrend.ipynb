{
 "cells": [
  {
   "cell_type": "markdown",
   "metadata": {},
   "source": [
    "# Copyright\n",
    "\n",
    "<PRE>\n",
    "Jelen iPython notebook a Budapesti Műszaki és Gazdaságtudományi Egyetemen tartott \"Deep Learning a gyakorlatban Python és LUA alapon\" tantárgy segédanyagaként készült. \n",
    "A tantárgy honlapja: http://smartlab.tmit.bme.hu/oktatas-deep-learning\n",
    "Deep Learning kutatás: http://smartlab.tmit.bme.hu/deep-learning\n",
    "\n",
    "A notebook bármely részének újra felhasználása, publikálása csak a szerzők írásos beleegyezése esetén megegengedett.\n",
    "\n",
    "2016 (c) Tóth Bálint Pál (toth.b kukac tmit pont bme pont hu)\n",
    "</PRE>"
   ]
  },
  {
   "cell_type": "markdown",
   "metadata": {},
   "source": [
    "# Házi feladat sorrend\n",
    "Az alábbi script legkérdezi az index.hu aktuális hosszát, ami a random seed-je lesz a csapatok sorrendjének a bekeverésének. \n",
    "A scriptet november 24-én, a gyakorlat során futtatjuk."
   ]
  },
  {
   "cell_type": "code",
   "execution_count": 16,
   "metadata": {
    "collapsed": false
   },
   "outputs": [
    {
     "name": "stdout",
     "output_type": "stream",
     "text": [
      "Az index.hu jelenlegi hossza: 336888\n",
      "Az órán való futtatás során ekkora volt az index.hu mérete, ezért most ezzel seed-elünk: 343134\n",
      "\n",
      "A beszámolók sorrendje a következő: \n",
      "\n",
      "December 1, csütörtök\n",
      "Botz\n",
      "TensorFriends\n",
      "Ideiglenes név\n",
      "Bájösz\n",
      "VB\n",
      "train_validate_test_repeat\n",
      "\n",
      "December 6, kedd\n",
      "Epochalypse\n",
      "TensorBiceps\n",
      "Rhinos\n",
      "Fully-connected team\n",
      "YOLO\n",
      "\n",
      "December 8, csütörtök\n",
      "Rolling in the deep\n",
      "MorphoDeep\n"
     ]
    }
   ],
   "source": [
    "from urllib.request import urlopen\n",
    "import numpy as np\n",
    "url = 'http://www.index.hu/'\n",
    "csapatok=['TensorFriends','Botz','VB','Ideiglenes név','Rhinos', \\\n",
    "          'YOLO','TensorBiceps','train_validate_test_repeat', \\\n",
    "          'Bájösz','Fully-connected team']\n",
    "\n",
    "# az index.hu hosszának beolvasása és ez alapján random seed generálása\n",
    "r = urlopen(url)\n",
    "size=len(r.read())\n",
    "print(\"Az index.hu jelenlegi hossza: \"+str(size))\n",
    "size=343134\n",
    "print(\"Az órán való futtatás során ekkora volt az index.hu mérete, ezért most ezzel seed-elünk: \"+str(size))\n",
    "np.random.seed(size)\n",
    "shuffle=np.arange(len(csapatok))\n",
    "np.random.shuffle(shuffle)\n",
    "\n",
    "print(\"\\nA beszámolók sorrendje a következő: \")\n",
    "# Rolling in the deep és MorphoDeep december 8-ra, Epochalipse dec 6-ra kérte\n",
    "for i in range(len(csapatok)):\n",
    "        if i==0:\n",
    "                print(\"\\nDecember 1, csütörtök\")\n",
    "        if i==6:\n",
    "                print(\"\\nDecember 6, kedd\")\n",
    "                print(\"Epochalypse\")\n",
    "\n",
    "        print(csapatok[shuffle[i]])\n",
    "\n",
    "\n",
    "print(\"\\nDecember 8, csütörtök\")\n",
    "print(\"Rolling in the deep\")\n",
    "print(\"MorphoDeep\")"
   ]
  }
 ],
 "metadata": {
  "kernelspec": {
   "display_name": "Python 3",
   "language": "python",
   "name": "python3"
  },
  "language_info": {
   "codemirror_mode": {
    "name": "ipython",
    "version": 3
   },
   "file_extension": ".py",
   "mimetype": "text/x-python",
   "name": "python",
   "nbconvert_exporter": "python",
   "pygments_lexer": "ipython3",
   "version": "3.5.2"
  }
 },
 "nbformat": 4,
 "nbformat_minor": 1
}
