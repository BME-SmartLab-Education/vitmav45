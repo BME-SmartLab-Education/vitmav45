{
 "cells": [
  {
   "cell_type": "markdown",
   "metadata": {},
   "source": [
    "# Copyright\n",
    "\n",
    "<PRE>\n",
    "Jelen iPython notebook a Budapesti Műszaki és Gazdaságtudományi Egyetemen tartott \"Deep Learning a gyakorlatban Python és LUA alapon\" tantárgy segédanyagaként készült. \n",
    "A tantárgy honlapja: http://smartlab.tmit.bme.hu/oktatas-deep-learning\n",
    "Deep Learning kutatás: http://smartlab.tmit.bme.hu/deep-learning\n",
    "\n",
    "A notebook bármely részének újra felhasználása, publikálása csak a szerzők írásos beleegyezése esetén megegengedett.\n",
    "\n",
    "2016 (c) Tóth Bálint Pál (toth.b kukac tmit pont bme pont hu)\n",
    "</PRE>"
   ]
  },
  {
   "cell_type": "markdown",
   "metadata": {},
   "source": [
    "# Házi feladat sorrend\n",
    "Az alábbi script legkérdezi az index.hu aktuális hosszát, ami a random seed-je lesz a csapatok sorrendjének a bekeverésének. \n",
    "A scriptet november 24-én, a gyakorlat során futtatjuk."
   ]
  },
  {
   "cell_type": "code",
   "execution_count": null,
   "metadata": {
    "collapsed": true
   },
   "outputs": [],
   "source": [
    "from urllib.request import urlopen\n",
    "import numpy as np\n",
    "url = 'http://www.index.hu/'\n",
    "csapatok=['TensorFriends','Botz','VB','Ideiglenes név','Rhinos', \\\n",
    "          'MorphoDeep','YOLO','TensorBiceps','train_validate_test_repeat', \\\n",
    "          'Bájösz','Fully-connected team']\n",
    "\n",
    "# az index.hu hosszának beolvasása és ez alapján random seed generálása\n",
    "r = urlopen(url)\n",
    "size=len(r.read())\n",
    "print(\"Az index.hu jelenlegi hossza: \"+str(size))\n",
    "np.random.seed(size)\n",
    "shuffle=np.arange(len(csapatok))\n",
    "np.random.shuffle(shuffle)\n",
    "\n",
    "for i in range(len(csapatok)):\n",
    "        # Rolling in the deep december 8-ra, Epochalipse dec 6-ra kérte\n",
    "        if i==0:\n",
    "                print(\"\\nDecember 1, csütörtök\")\n",
    "        if i==6:\n",
    "                print(\"\\nDecember 6, kedd\")\n",
    "                print(\"Epochalypse\")\n",
    "        if i==10:\n",
    "                print(\"\\nDecember 8, csütörtök\")\n",
    "                print(\"Rolling in the deep\")\n",
    "\n",
    "        print(csapatok[shuffle[i]])\n"
   ]
  }
 ],
 "metadata": {
  "kernelspec": {
   "display_name": "Python 3",
   "language": "python",
   "name": "python3"
  },
  "language_info": {
   "codemirror_mode": {
    "name": "ipython",
    "version": 3
   },
   "file_extension": ".py",
   "mimetype": "text/x-python",
   "name": "python",
   "nbconvert_exporter": "python",
   "pygments_lexer": "ipython3",
   "version": "3.4.3"
  }
 },
 "nbformat": 4,
 "nbformat_minor": 1
}
