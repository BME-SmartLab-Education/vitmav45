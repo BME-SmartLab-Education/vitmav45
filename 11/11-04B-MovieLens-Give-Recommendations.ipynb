{
 "cells": [
  {
   "cell_type": "markdown",
   "metadata": {},
   "source": [
    "# Copyright\n",
    "\n",
    "Jelen iPython notebook a Budapesti Műszaki és Gazdaságtudományi Egyetemen tartott \"Deep Learning a gyakorlatban Python és LUA alapon\" tantárgy segédanyagaként készült, a https://github.com/bradleypallen/keras-movielens-cf oldalon található példák és minták alapján (MIT licensz).\n",
    "\n",
    "A tantárgy honlapja: http://smartlab.tmit.bme.hu/oktatas-deep-learning Deep Learning kutatás: http://smartlab.tmit.bme.hu/deep-learning\n",
    "\n",
    "A forráskódot GPLv3 licensz védi. Újrafelhasználás esetén lehetőség szerint kérjük az alábbi szerzőt értesíteni.\n",
    "\n",
    "2016 (c) Szaszák György (szaszak kukac tmit pont bme pont hu)"
   ]
  },
  {
   "cell_type": "code",
   "execution_count": 1,
   "metadata": {
    "collapsed": false,
    "scrolled": true
   },
   "outputs": [
    {
     "name": "stderr",
     "output_type": "stream",
     "text": [
      "Using Theano backend.\n"
     ]
    }
   ],
   "source": [
    "import pandas as pd\n",
    "import numpy as np\n",
    "from CFModel import CFModel"
   ]
  },
  {
   "cell_type": "markdown",
   "metadata": {},
   "source": [
    "## Konstansok (előre elkészített adatállományok és a beágyazás dimenziószáma), valamint egy előtanított modell\n"
   ]
  },
  {
   "cell_type": "code",
   "execution_count": 2,
   "metadata": {
    "collapsed": false
   },
   "outputs": [],
   "source": [
    "RATINGS_CSV_FILE = 'ml1m_ratings.csv'\n",
    "USERS_CSV_FILE = 'ml1m_users.csv'\n",
    "MOVIES_CSV_FILE = 'ml1m_movies.csv'\n",
    "MODEL_WEIGHTS_FILE = 'ml1m_weights.h5'\n",
    "EMBEDDING_DIM = 120"
   ]
  },
  {
   "cell_type": "markdown",
   "metadata": {},
   "source": [
    "## MovieLens 1M betöltése"
   ]
  },
  {
   "cell_type": "code",
   "execution_count": 3,
   "metadata": {
    "collapsed": false
   },
   "outputs": [
    {
     "name": "stdout",
     "output_type": "stream",
     "text": [
      "1000209 értékelés betöltve.\n"
     ]
    }
   ],
   "source": [
    "ratings = pd.read_csv(RATINGS_CSV_FILE, sep='\\t', encoding='latin-1', usecols=['userid', 'movieid', 'rating'])\n",
    "max_userid = ratings['userid'].drop_duplicates().max()\n",
    "max_movieid = ratings['movieid'].drop_duplicates().max()\n",
    "print (len(ratings), 'értékelés betöltve.')"
   ]
  },
  {
   "cell_type": "code",
   "execution_count": 4,
   "metadata": {
    "collapsed": false
   },
   "outputs": [
    {
     "name": "stdout",
     "output_type": "stream",
     "text": [
      "6040 felhasználó a 6040 felhasználó közül betöltve.\n"
     ]
    }
   ],
   "source": [
    "users = pd.read_csv(USERS_CSV_FILE, sep='\\t', encoding='latin-1', usecols=['userid', 'gender', 'zipcode', 'age_desc', 'occ_desc'])\n",
    "print (len(users), 'felhasználó a', max_userid, 'felhasználó közül betöltve.')"
   ]
  },
  {
   "cell_type": "code",
   "execution_count": 5,
   "metadata": {
    "collapsed": false
   },
   "outputs": [
    {
     "name": "stdout",
     "output_type": "stream",
     "text": [
      "3883 film a 3952 film közül betöltve.\n"
     ]
    }
   ],
   "source": [
    "movies = pd.read_csv(MOVIES_CSV_FILE, sep='\\t', encoding='latin-1', usecols=['movieid', 'title', 'genre'])\n",
    "print (len(movies), 'film a', max_movieid, 'film közül betöltve.')"
   ]
  },
  {
   "cell_type": "markdown",
   "metadata": {},
   "source": [
    "## Filmajánlás egy véletlenszerűen választott felhasználónak\n",
    "A felhasználói értékelést jelezzük előre a filmekre."
   ]
  },
  {
   "cell_type": "code",
   "execution_count": 6,
   "metadata": {
    "collapsed": true
   },
   "outputs": [],
   "source": [
    "# keras.layers.embeddings.Embedding(input_dim, output_dim, init='uniform', input_length=None, W_regularizer=None, activity_regularizer=None, W_constraint=None, mask_zero=False, weights=None, dropout=0.0)\n",
    "# 2 ágon torténik közös embedding: userekre és itemekre, K_FACTORS dimenzióra\n",
    "trained_model = CFModel(max_userid, max_movieid, EMBEDDING_DIM)"
   ]
  },
  {
   "cell_type": "code",
   "execution_count": 7,
   "metadata": {
    "collapsed": true
   },
   "outputs": [],
   "source": [
    "# 2 súlymátrixra van szükségünk, egy user->embeddingre és egy item->embeddingre\n",
    "trained_model.load_weights(MODEL_WEIGHTS_FILE)"
   ]
  },
  {
   "cell_type": "code",
   "execution_count": 8,
   "metadata": {
    "collapsed": false
   },
   "outputs": [
    {
     "data": {
      "text/html": [
       "<div>\n",
       "<table border=\"1\" class=\"dataframe\">\n",
       "  <thead>\n",
       "    <tr style=\"text-align: right;\">\n",
       "      <th></th>\n",
       "      <th>userid</th>\n",
       "      <th>gender</th>\n",
       "      <th>zipcode</th>\n",
       "      <th>age_desc</th>\n",
       "      <th>occ_desc</th>\n",
       "    </tr>\n",
       "  </thead>\n",
       "  <tbody>\n",
       "    <tr>\n",
       "      <th>5679</th>\n",
       "      <td>5680</td>\n",
       "      <td>M</td>\n",
       "      <td>94117</td>\n",
       "      <td>50-55</td>\n",
       "      <td>writer</td>\n",
       "    </tr>\n",
       "  </tbody>\n",
       "</table>\n",
       "</div>"
      ],
      "text/plain": [
       "      userid gender zipcode age_desc occ_desc\n",
       "5679    5680      M   94117    50-55   writer"
      ]
     },
     "execution_count": 8,
     "metadata": {},
     "output_type": "execute_result"
    }
   ],
   "source": [
    "# Egy véletlen felhasználó és adatai\n",
    "test_user=np.random.randint(0,max_userid)\n",
    "users[users['userid'] == test_user]"
   ]
  },
  {
   "cell_type": "code",
   "execution_count": 10,
   "metadata": {
    "collapsed": false
   },
   "outputs": [
    {
     "data": {
      "text/html": [
       "<div>\n",
       "<table border=\"1\" class=\"dataframe\">\n",
       "  <thead>\n",
       "    <tr style=\"text-align: right;\">\n",
       "      <th></th>\n",
       "      <th>movieid</th>\n",
       "      <th>title</th>\n",
       "      <th>genre</th>\n",
       "    </tr>\n",
       "  </thead>\n",
       "  <tbody>\n",
       "    <tr>\n",
       "      <th>2366</th>\n",
       "      <td>2435</td>\n",
       "      <td>Hurlyburly (1998)</td>\n",
       "      <td>Drama</td>\n",
       "    </tr>\n",
       "  </tbody>\n",
       "</table>\n",
       "</div>"
      ],
      "text/plain": [
       "      movieid              title  genre\n",
       "2366     2435  Hurlyburly (1998)  Drama"
      ]
     },
     "execution_count": 10,
     "metadata": {},
     "output_type": "execute_result"
    }
   ],
   "source": [
    "# Egy véletlen film és adatai\n",
    "test_movie=np.random.randint(0,max_movieid)\n",
    "movies[movies['movieid'] == test_movie]"
   ]
  },
  {
   "cell_type": "code",
   "execution_count": 9,
   "metadata": {
    "collapsed": true
   },
   "outputs": [],
   "source": [
    "# Ez a metódus model.predict-et futtat, indexelést átképezzük (adatbázisban 1-től indul)\n",
    "def predict_rating(userid, movieid):\n",
    "    return trained_model.rate(userid - 1, movieid - 1)"
   ]
  },
  {
   "cell_type": "code",
   "execution_count": 11,
   "metadata": {
    "collapsed": false
   },
   "outputs": [
    {
     "data": {
      "text/html": [
       "<div>\n",
       "<table border=\"1\" class=\"dataframe\">\n",
       "  <thead>\n",
       "    <tr style=\"text-align: right;\">\n",
       "      <th></th>\n",
       "      <th>userid</th>\n",
       "      <th>movieid</th>\n",
       "      <th>rating</th>\n",
       "      <th>prediction</th>\n",
       "      <th>title</th>\n",
       "      <th>genre</th>\n",
       "    </tr>\n",
       "  </thead>\n",
       "  <tbody>\n",
       "    <tr>\n",
       "      <th>0</th>\n",
       "      <td>5680</td>\n",
       "      <td>1408</td>\n",
       "      <td>5</td>\n",
       "      <td>3.986941</td>\n",
       "      <td>Last of the Mohicans, The (1992)</td>\n",
       "      <td>Action|Romance|War</td>\n",
       "    </tr>\n",
       "    <tr>\n",
       "      <th>1</th>\n",
       "      <td>5680</td>\n",
       "      <td>1284</td>\n",
       "      <td>5</td>\n",
       "      <td>4.547963</td>\n",
       "      <td>Big Sleep, The (1946)</td>\n",
       "      <td>Film-Noir|Mystery</td>\n",
       "    </tr>\n",
       "    <tr>\n",
       "      <th>2</th>\n",
       "      <td>5680</td>\n",
       "      <td>1264</td>\n",
       "      <td>5</td>\n",
       "      <td>4.593738</td>\n",
       "      <td>Diva (1981)</td>\n",
       "      <td>Action|Drama|Mystery|Romance|Thriller</td>\n",
       "    </tr>\n",
       "    <tr>\n",
       "      <th>3</th>\n",
       "      <td>5680</td>\n",
       "      <td>3176</td>\n",
       "      <td>5</td>\n",
       "      <td>4.477126</td>\n",
       "      <td>Talented Mr. Ripley, The (1999)</td>\n",
       "      <td>Drama|Mystery|Thriller</td>\n",
       "    </tr>\n",
       "    <tr>\n",
       "      <th>4</th>\n",
       "      <td>5680</td>\n",
       "      <td>1267</td>\n",
       "      <td>5</td>\n",
       "      <td>4.743114</td>\n",
       "      <td>Manchurian Candidate, The (1962)</td>\n",
       "      <td>Film-Noir|Thriller</td>\n",
       "    </tr>\n",
       "    <tr>\n",
       "      <th>5</th>\n",
       "      <td>5680</td>\n",
       "      <td>3134</td>\n",
       "      <td>5</td>\n",
       "      <td>5.227365</td>\n",
       "      <td>Grand Illusion (Grande illusion, La) (1937)</td>\n",
       "      <td>Drama|War</td>\n",
       "    </tr>\n",
       "    <tr>\n",
       "      <th>6</th>\n",
       "      <td>5680</td>\n",
       "      <td>2186</td>\n",
       "      <td>5</td>\n",
       "      <td>4.789973</td>\n",
       "      <td>Strangers on a Train (1951)</td>\n",
       "      <td>Film-Noir|Thriller</td>\n",
       "    </tr>\n",
       "    <tr>\n",
       "      <th>7</th>\n",
       "      <td>5680</td>\n",
       "      <td>750</td>\n",
       "      <td>5</td>\n",
       "      <td>4.875195</td>\n",
       "      <td>Dr. Strangelove or: How I Learned to Stop Worr...</td>\n",
       "      <td>Sci-Fi|War</td>\n",
       "    </tr>\n",
       "    <tr>\n",
       "      <th>8</th>\n",
       "      <td>5680</td>\n",
       "      <td>1289</td>\n",
       "      <td>5</td>\n",
       "      <td>4.525403</td>\n",
       "      <td>Koyaanisqatsi (1983)</td>\n",
       "      <td>Documentary|War</td>\n",
       "    </tr>\n",
       "    <tr>\n",
       "      <th>9</th>\n",
       "      <td>5680</td>\n",
       "      <td>1262</td>\n",
       "      <td>5</td>\n",
       "      <td>4.528728</td>\n",
       "      <td>Great Escape, The (1963)</td>\n",
       "      <td>Adventure|War</td>\n",
       "    </tr>\n",
       "  </tbody>\n",
       "</table>\n",
       "</div>"
      ],
      "text/plain": [
       "   userid  movieid  rating  prediction  \\\n",
       "0    5680     1408       5    3.986941   \n",
       "1    5680     1284       5    4.547963   \n",
       "2    5680     1264       5    4.593738   \n",
       "3    5680     3176       5    4.477126   \n",
       "4    5680     1267       5    4.743114   \n",
       "5    5680     3134       5    5.227365   \n",
       "6    5680     2186       5    4.789973   \n",
       "7    5680      750       5    4.875195   \n",
       "8    5680     1289       5    4.525403   \n",
       "9    5680     1262       5    4.528728   \n",
       "\n",
       "                                               title  \\\n",
       "0                   Last of the Mohicans, The (1992)   \n",
       "1                              Big Sleep, The (1946)   \n",
       "2                                        Diva (1981)   \n",
       "3                    Talented Mr. Ripley, The (1999)   \n",
       "4                   Manchurian Candidate, The (1962)   \n",
       "5        Grand Illusion (Grande illusion, La) (1937)   \n",
       "6                        Strangers on a Train (1951)   \n",
       "7  Dr. Strangelove or: How I Learned to Stop Worr...   \n",
       "8                               Koyaanisqatsi (1983)   \n",
       "9                           Great Escape, The (1963)   \n",
       "\n",
       "                                   genre  \n",
       "0                     Action|Romance|War  \n",
       "1                      Film-Noir|Mystery  \n",
       "2  Action|Drama|Mystery|Romance|Thriller  \n",
       "3                 Drama|Mystery|Thriller  \n",
       "4                     Film-Noir|Thriller  \n",
       "5                              Drama|War  \n",
       "6                     Film-Noir|Thriller  \n",
       "7                             Sci-Fi|War  \n",
       "8                        Documentary|War  \n",
       "9                          Adventure|War  "
      ]
     },
     "execution_count": 11,
     "metadata": {},
     "output_type": "execute_result"
    }
   ],
   "source": [
    "# Betöltjük a felhasználói értékeléseket\n",
    "user_ratings = ratings[ratings['userid'] == test_user][['userid', 'movieid', 'rating']]\n",
    "# Hozzáadunk egy ajánló oszlopot és minden filmre generáljuk, hogy mennyire passzol a felhasználó ízléséhez\n",
    "user_ratings['prediction'] = user_ratings.apply(lambda x: predict_rating(test_user, x['movieid']), axis=1)\n",
    "# Kiiratáshoz a predikciós és filmes táblákat egyesítjük a filmazonosító (ez közös) mentén\n",
    "# Első 10-et írjuk ki\n",
    "user_ratings.sort_values(by='rating', \n",
    "                         ascending=False).merge(movies, \n",
    "                                                on='movieid', \n",
    "                                                how='inner', \n",
    "                                                suffixes=['_u', '_m']).head(10)"
   ]
  },
  {
   "cell_type": "code",
   "execution_count": 12,
   "metadata": {
    "collapsed": false
   },
   "outputs": [
    {
     "data": {
      "text/html": [
       "<div>\n",
       "<table border=\"1\" class=\"dataframe\">\n",
       "  <thead>\n",
       "    <tr style=\"text-align: right;\">\n",
       "      <th></th>\n",
       "      <th>movieid</th>\n",
       "      <th>prediction</th>\n",
       "      <th>title</th>\n",
       "      <th>genre</th>\n",
       "    </tr>\n",
       "  </thead>\n",
       "  <tbody>\n",
       "    <tr>\n",
       "      <th>0</th>\n",
       "      <td>2351</td>\n",
       "      <td>5.208909</td>\n",
       "      <td>Nights of Cabiria (Le Notti di Cabiria) (1957)</td>\n",
       "      <td>Drama</td>\n",
       "    </tr>\n",
       "    <tr>\n",
       "      <th>1</th>\n",
       "      <td>669</td>\n",
       "      <td>5.177761</td>\n",
       "      <td>Aparajito (1956)</td>\n",
       "      <td>Drama</td>\n",
       "    </tr>\n",
       "    <tr>\n",
       "      <th>2</th>\n",
       "      <td>1423</td>\n",
       "      <td>5.150979</td>\n",
       "      <td>Hearts and Minds (1996)</td>\n",
       "      <td>Drama</td>\n",
       "    </tr>\n",
       "    <tr>\n",
       "      <th>3</th>\n",
       "      <td>668</td>\n",
       "      <td>5.130191</td>\n",
       "      <td>Pather Panchali (1955)</td>\n",
       "      <td>Drama</td>\n",
       "    </tr>\n",
       "    <tr>\n",
       "      <th>4</th>\n",
       "      <td>3092</td>\n",
       "      <td>5.117554</td>\n",
       "      <td>Chushingura (1962)</td>\n",
       "      <td>Drama</td>\n",
       "    </tr>\n",
       "    <tr>\n",
       "      <th>5</th>\n",
       "      <td>3415</td>\n",
       "      <td>5.074968</td>\n",
       "      <td>Mirror, The (Zerkalo) (1975)</td>\n",
       "      <td>Drama</td>\n",
       "    </tr>\n",
       "    <tr>\n",
       "      <th>6</th>\n",
       "      <td>3338</td>\n",
       "      <td>5.067842</td>\n",
       "      <td>For All Mankind (1989)</td>\n",
       "      <td>Documentary</td>\n",
       "    </tr>\n",
       "    <tr>\n",
       "      <th>7</th>\n",
       "      <td>2905</td>\n",
       "      <td>5.056692</td>\n",
       "      <td>Sanjuro (1962)</td>\n",
       "      <td>Action|Adventure</td>\n",
       "    </tr>\n",
       "    <tr>\n",
       "      <th>8</th>\n",
       "      <td>3030</td>\n",
       "      <td>5.036850</td>\n",
       "      <td>Yojimbo (1961)</td>\n",
       "      <td>Comedy|Drama|Western</td>\n",
       "    </tr>\n",
       "    <tr>\n",
       "      <th>9</th>\n",
       "      <td>3634</td>\n",
       "      <td>5.036220</td>\n",
       "      <td>Seven Days in May (1964)</td>\n",
       "      <td>Thriller</td>\n",
       "    </tr>\n",
       "  </tbody>\n",
       "</table>\n",
       "</div>"
      ],
      "text/plain": [
       "   movieid  prediction                                           title  \\\n",
       "0     2351    5.208909  Nights of Cabiria (Le Notti di Cabiria) (1957)   \n",
       "1      669    5.177761                                Aparajito (1956)   \n",
       "2     1423    5.150979                         Hearts and Minds (1996)   \n",
       "3      668    5.130191                          Pather Panchali (1955)   \n",
       "4     3092    5.117554                              Chushingura (1962)   \n",
       "5     3415    5.074968                    Mirror, The (Zerkalo) (1975)   \n",
       "6     3338    5.067842                          For All Mankind (1989)   \n",
       "7     2905    5.056692                                  Sanjuro (1962)   \n",
       "8     3030    5.036850                                  Yojimbo (1961)   \n",
       "9     3634    5.036220                        Seven Days in May (1964)   \n",
       "\n",
       "                  genre  \n",
       "0                 Drama  \n",
       "1                 Drama  \n",
       "2                 Drama  \n",
       "3                 Drama  \n",
       "4                 Drama  \n",
       "5                 Drama  \n",
       "6           Documentary  \n",
       "7      Action|Adventure  \n",
       "8  Comedy|Drama|Western  \n",
       "9              Thriller  "
      ]
     },
     "execution_count": 12,
     "metadata": {},
     "output_type": "execute_result"
    }
   ],
   "source": [
    "# Szűrés azokra a filmekre, amelyeket a felhasználónk még nem látott\n",
    "recommendations = ratings[ratings['movieid'].isin(user_ratings['movieid']) == False][['movieid']].drop_duplicates()\n",
    "# Ajánlás a még nem látott filmekre\n",
    "recommendations['prediction'] = recommendations.apply(lambda x: predict_rating(test_user, x['movieid']), axis=1)\n",
    "# Kiírjuk az első 10-et\n",
    "recommendations.sort_values(by='prediction',\n",
    "                          ascending=False).merge(movies,\n",
    "                                                 on='movieid',\n",
    "                                                 how='inner',\n",
    "                                                 suffixes=['_u', '_m']).head(10)"
   ]
  }
 ],
 "metadata": {
  "kernelspec": {
   "display_name": "Python 3",
   "language": "python",
   "name": "python3"
  },
  "language_info": {
   "codemirror_mode": {
    "name": "ipython",
    "version": 3
   },
   "file_extension": ".py",
   "mimetype": "text/x-python",
   "name": "python",
   "nbconvert_exporter": "python",
   "pygments_lexer": "ipython3",
   "version": "3.4.3"
  }
 },
 "nbformat": 4,
 "nbformat_minor": 0
}
