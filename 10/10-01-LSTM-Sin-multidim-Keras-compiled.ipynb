{
 "cells": [
  {
   "cell_type": "markdown",
   "metadata": {},
   "source": [
    "# Copyright\n",
    "\n",
    "<PRE>\n",
    "Jelen iPython notebook a Budapesti Műszaki és Gazdaságtudományi Egyetemen tartott \"Deep Learning a gyakorlatban Python és LUA alapon\" tantárgy segédanyagaként készült. \n",
    "\n",
    "A tantárgy honlapja: http://smartlab.tmit.bme.hu/oktatas-deep-learning\n",
    "Deep Learning kutatás: http://smartlab.tmit.bme.hu/deep-learning\n",
    "\n",
    "A forráskódot GPLv3 licensz védi. Újrafelhasználás esetén lehetőség szerint kérejük az alábbi szerzőt értesíteni.\n",
    "\n",
    "2016 (c) Tóth Bálint Pál (toth.b kukac tmit pont bme pont hu)\n",
    "</PRE>"
   ]
  },
  {
   "cell_type": "markdown",
   "metadata": {},
   "source": [
    "# Többdimenziós szinusz modellezése LSTM-el\n",
    "A 9-es gyakorlat mintájára most többdimenziós szinuszt fogunk modellezni. Ehhez most is (nb_samples, timesteps, input_dim) alakú bemenetet és a hozzá tartozó kimenetet rakjuk össze. Összesen 2 bemenetünk és 3 kimenetünk lesz. Ezeket későbbi tesztelések során tetszőleges, egymással összefüggő adatsorokra lehet cserélni. Fontos, hogy ebben a példakódban nincs validációs és teszt halmaz - a kód \"éles\" használatához ezek implementálása feltétlenül szükséges!"
   ]
  },
  {
   "cell_type": "code",
   "execution_count": 1,
   "metadata": {
    "collapsed": false
   },
   "outputs": [
    {
     "name": "stderr",
     "output_type": "stream",
     "text": [
      "Using Theano backend.\n"
     ]
    },
    {
     "name": "stdout",
     "output_type": "stream",
     "text": [
      "Bemenet alakja: \n",
      "(1995, 10, 2)\n",
      "\n",
      "1. bemeneti tanítóminta:\n",
      "[[-1.73161785 -1.73161785]\n",
      " [-1.73075182 -1.73075182]\n",
      " [-1.7298858  -1.7298858 ]\n",
      " [-1.72901977 -1.72901977]\n",
      " [-1.72815375 -1.72815375]\n",
      " [-1.72728772 -1.72728772]\n",
      " [-1.7264217  -1.7264217 ]\n",
      " [-1.72555567 -1.72555567]\n",
      " [-1.72468965 -1.72468965]\n",
      " [-1.72382362 -1.72382362]]\n",
      "\n",
      "2. bemeneti tanítóminta:\n",
      "[[-1.7298858  -1.7298858 ]\n",
      " [-1.72901977 -1.72901977]\n",
      " [-1.72815375 -1.72815375]\n",
      " [-1.72728772 -1.72728772]\n",
      " [-1.7264217  -1.7264217 ]\n",
      " [-1.72555567 -1.72555567]\n",
      " [-1.72468965 -1.72468965]\n",
      " [-1.72382362 -1.72382362]\n",
      " [-1.72295759 -1.72295759]\n",
      " [-1.72209157 -1.72209157]]\n",
      "\n",
      "3. bemeneti tanítóminta:\n",
      "[[-1.72815375 -1.72815375]\n",
      " [-1.72728772 -1.72728772]\n",
      " [-1.7264217  -1.7264217 ]\n",
      " [-1.72555567 -1.72555567]\n",
      " [-1.72468965 -1.72468965]\n",
      " [-1.72382362 -1.72382362]\n",
      " [-1.72295759 -1.72295759]\n",
      " [-1.72209157 -1.72209157]\n",
      " [-1.72122554 -1.72122554]\n",
      " [-1.72035952 -1.72035952]]\n",
      "\n",
      "4. bemeneti tanítóminta:\n",
      "[[-1.7264217  -1.7264217 ]\n",
      " [-1.72555567 -1.72555567]\n",
      " [-1.72468965 -1.72468965]\n",
      " [-1.72382362 -1.72382362]\n",
      " [-1.72295759 -1.72295759]\n",
      " [-1.72209157 -1.72209157]\n",
      " [-1.72122554 -1.72122554]\n",
      " [-1.72035952 -1.72035952]\n",
      " [-1.71949349 -1.71949349]\n",
      " [-1.71862747 -1.71862747]]\n",
      "\n",
      "5. bemeneti tanítóminta:\n",
      "[[-1.72468965 -1.72468965]\n",
      " [-1.72382362 -1.72382362]\n",
      " [-1.72295759 -1.72295759]\n",
      " [-1.72209157 -1.72209157]\n",
      " [-1.72122554 -1.72122554]\n",
      " [-1.72035952 -1.72035952]\n",
      " [-1.71949349 -1.71949349]\n",
      " [-1.71862747 -1.71862747]\n",
      " [-1.71776144 -1.71776144]\n",
      " [-1.71689542 -1.71689542]]\n"
     ]
    }
   ],
   "source": [
    "from keras.models import Sequential\n",
    "from keras.layers.recurrent import LSTM\n",
    "from keras.layers.core import Dense, Dropout, Activation, Flatten\n",
    "\n",
    "%matplotlib inline\n",
    "\n",
    "import matplotlib\n",
    "import matplotlib.pyplot as plt\n",
    "import numpy as np\n",
    "from sklearn.preprocessing import StandardScaler, MinMaxScaler\n",
    "\n",
    "sample_points = 10 # az előadás fóliáin \"m\"-el jelöltük (timesteps)\n",
    "shift = 2 # az előadás fóliáin \"s\"-el jelöltük\n",
    "\n",
    "# a bemenet most 0..10pi és 0.4pi..10.4pi közötti 4000 pont\n",
    "lins = np.asarray([np.linspace(0,np.pi*10,4000),np.linspace(0.4*np.pi,np.pi*10.4,4000)]).T\n",
    "# és kimenetnek három sin és cos kombináciját használjuk a két bemenet segítségével\n",
    "data = np.asarray([np.sin(lins[:,0]),np.sin(lins[:,0])*np.cos(lins[:,1]),np.sin((lins[:,1]**2)*np.cos(lins[:,0]))]).T \n",
    "nb_samples = lins.shape[0] - sample_points - 1 # a minták száma, ha nem lenne \"shift\", azt majd három sorral lentebb vesszük figyelembe\n",
    "\n",
    "# standardizálás\n",
    "std_scaler = StandardScaler()\n",
    "lins = std_scaler.fit_transform(lins)\n",
    "# normalizálás\n",
    "mm_scaler = MinMaxScaler(feature_range=(0, 1))\n",
    "data = mm_scaler.fit_transform(data)\n",
    "\n",
    "# bemenet létrehozása - a sin és cos sample_points pillanatban, shift lépésenként\n",
    "# atleast_2d: legalább 2D-s mátrixokká alakítja a bemenetet, jelen esetben (50,2) alakú\n",
    "# expand_dims: növeli a dimenzió számot a megadott axis mentén, így lesz jelen esetben (1,50,2) alakú mintánk, \n",
    "#              amiket majd egymás után fűzve hozzuk létre a tanítóadatokat\n",
    "input_list = [np.expand_dims(np.atleast_2d(lins[i:i+sample_points,:]), axis=0) for i in range(0,nb_samples,shift)]\n",
    "X = np.concatenate(input_list, axis=0)\n",
    "print(\"Bemenet alakja: \")\n",
    "print(X.shape)\n",
    "\n",
    "# az első öt bemeneti tanítóminta kiiratás\n",
    "for i in range(0,5):\n",
    "    print(\"\\n\"+str(i+1)+\". bemeneti tanítóminta:\")\n",
    "    print(X[i])"
   ]
  },
  {
   "cell_type": "code",
   "execution_count": 2,
   "metadata": {
    "collapsed": false
   },
   "outputs": [
    {
     "name": "stdout",
     "output_type": "stream",
     "text": [
      "\n",
      "Kimenet alakja: \n",
      "(1995, 3)\n",
      "\n",
      "1. kimeneti tanítóminta:\n",
      "[ 0.54315395  0.99501487  0.98725581]\n",
      "\n",
      "2. kimeneti tanítóminta:\n",
      "[ 0.55097493  0.99698328  0.98243812]\n",
      "\n",
      "3. kimeneti tanítóminta:\n",
      "[ 0.55878333  0.99846098  0.97688035]\n",
      "\n",
      "4. kimeneti tanítóminta:\n",
      "[ 0.56657722  0.99944651  0.97060241]\n",
      "\n",
      "5. kimeneti tanítóminta:\n",
      "[ 0.57435467  0.9999389   0.96362775]\n"
     ]
    }
   ],
   "source": [
    "# kimenet létrehozása a fentiek szerint \n",
    "# mindig a következő időpillanatban jósolja előre a sin értékét\n",
    "target_list = [np.expand_dims(np.atleast_2d(data[i+sample_points+1,:]), axis=0) for i in range(0,nb_samples,shift)]\n",
    "y = np.concatenate(target_list, axis=0)\n",
    "y = y.reshape(y.shape[0],y.shape[-1])\n",
    "print(\"\\nKimenet alakja: \")\n",
    "print(y.shape)\n",
    "\n",
    "# az első öt kimeneti tanítóminta kiiratás\n",
    "for i in range(0,5):\n",
    "    print(\"\\n\"+str(i+1)+\". kimeneti tanítóminta:\")\n",
    "    print(y[i])"
   ]
  },
  {
   "cell_type": "markdown",
   "metadata": {},
   "source": [
    "## Modell létrehozása\n",
    "Ezután létrehozzuk a modellt Sequential objektumként és összesen egy darab LSTM réteget rakunk bele 64 LSTM egységgel. "
   ]
  },
  {
   "cell_type": "code",
   "execution_count": 3,
   "metadata": {
    "collapsed": false
   },
   "outputs": [],
   "source": [
    "LSTM_units=64\n",
    "model = Sequential()\n",
    "model.add(LSTM(LSTM_units, input_shape=(X.shape[-2],X.shape[-1])))"
   ]
  },
  {
   "cell_type": "markdown",
   "metadata": {},
   "source": [
    "## Előrecsatolt réteg\n",
    "Az LSTM réteg után egy előrecsatolt réteget kötünk melynek annyi kimenete van, ahányat generáltunk korábban: "
   ]
  },
  {
   "cell_type": "code",
   "execution_count": 4,
   "metadata": {
    "collapsed": false
   },
   "outputs": [],
   "source": [
    "model.add(Dense(y.shape[-1], activation='linear'))"
   ]
  },
  {
   "cell_type": "markdown",
   "metadata": {
    "collapsed": true
   },
   "source": [
    "Ezt követően lefordítjuk a modellet (négyzete hiba a költségfüggvényt + Adam optimizációt használunk) és betanítjuk, most negyven darab epochig. A fit függvény a minták keverését is elvégzi nekünk. Fontos, hogy éles alkalmazásban validációs adatokon kellene visszamérni a hiba csökkenését, és végül különálló teszt halmazon tesztelni."
   ]
  },
  {
   "cell_type": "code",
   "execution_count": 5,
   "metadata": {
    "collapsed": false
   },
   "outputs": [
    {
     "name": "stdout",
     "output_type": "stream",
     "text": [
      "Epoch 1/40\n",
      "1995/1995 [==============================] - 0s - loss: 0.1829     \n",
      "Epoch 2/40\n",
      "1995/1995 [==============================] - 0s - loss: 0.1253     \n",
      "Epoch 3/40\n",
      "1995/1995 [==============================] - 0s - loss: 0.1262     \n",
      "Epoch 4/40\n",
      "1995/1995 [==============================] - 0s - loss: 0.1238     \n",
      "Epoch 5/40\n",
      "1995/1995 [==============================] - 0s - loss: 0.1236     \n",
      "Epoch 6/40\n",
      "1995/1995 [==============================] - 0s - loss: 0.1220     \n",
      "Epoch 7/40\n",
      "1995/1995 [==============================] - 0s - loss: 0.1210     \n",
      "Epoch 8/40\n",
      "1995/1995 [==============================] - 0s - loss: 0.1210     \n",
      "Epoch 9/40\n",
      "1995/1995 [==============================] - 0s - loss: 0.1198     \n",
      "Epoch 10/40\n",
      "1995/1995 [==============================] - 0s - loss: 0.1178     \n",
      "Epoch 11/40\n",
      "1995/1995 [==============================] - 0s - loss: 0.1147     \n",
      "Epoch 12/40\n",
      "1995/1995 [==============================] - 0s - loss: 0.1137     \n",
      "Epoch 13/40\n",
      "1995/1995 [==============================] - 0s - loss: 0.1106     \n",
      "Epoch 14/40\n",
      "1995/1995 [==============================] - 0s - loss: 0.1095     \n",
      "Epoch 15/40\n",
      "1995/1995 [==============================] - 0s - loss: 0.1042     \n",
      "Epoch 16/40\n",
      "1995/1995 [==============================] - 0s - loss: 0.0991     \n",
      "Epoch 17/40\n",
      "1995/1995 [==============================] - 0s - loss: 0.0902     \n",
      "Epoch 18/40\n",
      "1995/1995 [==============================] - 0s - loss: 0.0864     \n",
      "Epoch 19/40\n",
      "1995/1995 [==============================] - 0s - loss: 0.0818     \n",
      "Epoch 20/40\n",
      "1995/1995 [==============================] - 0s - loss: 0.0777     \n",
      "Epoch 21/40\n",
      "1995/1995 [==============================] - 0s - loss: 0.0757     \n",
      "Epoch 22/40\n",
      "1995/1995 [==============================] - 0s - loss: 0.0725     \n",
      "Epoch 23/40\n",
      "1995/1995 [==============================] - 0s - loss: 0.0705     \n",
      "Epoch 24/40\n",
      "1995/1995 [==============================] - 0s - loss: 0.0708     \n",
      "Epoch 25/40\n",
      "1995/1995 [==============================] - 0s - loss: 0.0651     \n",
      "Epoch 26/40\n",
      "1995/1995 [==============================] - 0s - loss: 0.0614     \n",
      "Epoch 27/40\n",
      "1995/1995 [==============================] - 0s - loss: 0.0597     \n",
      "Epoch 28/40\n",
      "1995/1995 [==============================] - 0s - loss: 0.0571     \n",
      "Epoch 29/40\n",
      "1995/1995 [==============================] - 0s - loss: 0.0549     \n",
      "Epoch 30/40\n",
      "1995/1995 [==============================] - 0s - loss: 0.0531     \n",
      "Epoch 31/40\n",
      "1995/1995 [==============================] - 0s - loss: 0.0535     \n",
      "Epoch 32/40\n",
      "1995/1995 [==============================] - 0s - loss: 0.0488     \n",
      "Epoch 33/40\n",
      "1995/1995 [==============================] - 0s - loss: 0.0489     \n",
      "Epoch 34/40\n",
      "1995/1995 [==============================] - 0s - loss: 0.0467     \n",
      "Epoch 35/40\n",
      "1995/1995 [==============================] - 0s - loss: 0.0461     \n",
      "Epoch 36/40\n",
      "1995/1995 [==============================] - 0s - loss: 0.0451     \n",
      "Epoch 37/40\n",
      "1995/1995 [==============================] - 0s - loss: 0.0435     \n",
      "Epoch 38/40\n",
      "1995/1995 [==============================] - 0s - loss: 0.0418     \n",
      "Epoch 39/40\n",
      "1995/1995 [==============================] - 0s - loss: 0.0427     \n",
      "Epoch 40/40\n",
      "1995/1995 [==============================] - 0s - loss: 0.0433     \n"
     ]
    },
    {
     "data": {
      "text/plain": [
       "<keras.callbacks.History at 0x7f3c3ffd81d0>"
      ]
     },
     "execution_count": 5,
     "metadata": {},
     "output_type": "execute_result"
    }
   ],
   "source": [
    "model.compile(loss='mse', optimizer='adam')\n",
    "model.fit(X, y, nb_epoch=40, shuffle=True)"
   ]
  },
  {
   "cell_type": "markdown",
   "metadata": {},
   "source": [
    "Miután kész a tanítás készítünk egy predikciót, és kirajzoljuk a három különböző kimenetet 2D-s ábrára.  "
   ]
  },
  {
   "cell_type": "code",
   "execution_count": 6,
   "metadata": {
    "collapsed": false
   },
   "outputs": [
    {
     "data": {
      "image/png": "[encoded data removed]",
      "text/plain": [
       "<matplotlib.figure.Figure at 0x7f3c3ffd89b0>"
      ]
     },
     "metadata": {},
     "output_type": "display_data"
    }
   ],
   "source": [
    "Y_predicted = model.predict(X, batch_size=100)\n",
    "plot_x=std_scaler.inverse_transform(lins)\n",
    "plot_y=mm_scaler.inverse_transform(Y_predicted)\n",
    "line, = plt.plot(plot_x[0:3000:shift,0], plot_y[0:int(3000/shift),0], '-', linewidth=2)"
   ]
  },
  {
   "cell_type": "code",
   "execution_count": 7,
   "metadata": {
    "collapsed": false
   },
   "outputs": [
    {
     "data": {
      "image/png": "[encoded data removed]",
      "text/plain": [
       "<matplotlib.figure.Figure at 0x7f3c3ffd8550>"
      ]
     },
     "metadata": {},
     "output_type": "display_data"
    }
   ],
   "source": [
    "line, = plt.plot(plot_x[0:3000:shift,0], plot_y[0:int(3000/shift),1], '-', linewidth=2)"
   ]
  },
  {
   "cell_type": "code",
   "execution_count": 8,
   "metadata": {
    "collapsed": false
   },
   "outputs": [
    {
     "data": {
      "image/png": "[encoded data removed]",
      "text/plain": [
       "<matplotlib.figure.Figure at 0x7f3c3c6e4400>"
      ]
     },
     "metadata": {},
     "output_type": "display_data"
    }
   ],
   "source": [
    "line, = plt.plot(plot_x[0:3000:shift,0], plot_y[0:int(3000/shift),2], '-', linewidth=2)"
   ]
  }
 ],
 "metadata": {
  "kernelspec": {
   "display_name": "Python 3",
   "language": "python",
   "name": "python3"
  },
  "language_info": {
   "codemirror_mode": {
    "name": "ipython",
    "version": 3
   },
   "file_extension": ".py",
   "mimetype": "text/x-python",
   "name": "python",
   "nbconvert_exporter": "python",
   "pygments_lexer": "ipython3",
   "version": "3.4.3"
  }
 },
 "nbformat": 4,
 "nbformat_minor": 1
}
