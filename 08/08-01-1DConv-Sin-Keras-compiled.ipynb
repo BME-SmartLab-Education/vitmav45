{
 "cells": [
  {
   "cell_type": "markdown",
   "metadata": {},
   "source": [
    "# Copyright\n",
    "\n",
    "<PRE>\n",
    "Jelen iPython notebook a Budapesti Műszaki és Gazdaságtudományi Egyetemen tartott \"Deep Learning a gyakorlatban Python és LUA alapon\" tantárgy segédanyagaként készült. \n",
    "\n",
    "A tantárgy honlapja: http://smartlab.tmit.bme.hu/oktatas-deep-learning\n",
    "Deep Learning kutatás: http://smartlab.tmit.bme.hu/deep-learning\n",
    "\n",
    "A forráskódot GPLv3 licensz védi. Újrafelhasználás esetén lehetőség szerint kérejük az alábbi szerzőt értesíteni.\n",
    "\n",
    "2016 (c) Tóth Bálint Pál (toth.b kukac tmit pont bme pont hu)\n",
    "</PRE>"
   ]
  },
  {
   "cell_type": "markdown",
   "metadata": {},
   "source": [
    "# Szinusz modellezése egy dimenziós konvolúcióval\n",
    "Ebben a notebookban bemutatjuk, hogy hogyan lehet összerakni egy vektorból az egy dimenziós konvolúciós háló számmára szükséges (samples, steps, input_dim) bemenetet és ezt hogyan tudjuk összekötne előrecsatolt (fully connected) rétegekkel.\n",
    "\n",
    "## Be- és kimenetek előkészítése\n",
    "Töltsük be a megfelelő modulokat és készítsünk 0-1000 között 4000 ponttal sinus és cosinus adatsorokat. A konvolúció háló bemenete sample_points számú, két dimenziós érték lesz (a sin és cos), a kimenete pedig a sample_points+1 helyen kévő sinus érték. Az egyes sample_point hosszú tanítóminták közötti eltolást a shift paraméterrel szabályozzuk. "
   ]
  },
  {
   "cell_type": "code",
   "execution_count": 1,
   "metadata": {
    "collapsed": false
   },
   "outputs": [
    {
     "name": "stderr",
     "output_type": "stream",
     "text": [
      "Using Theano backend.\n"
     ]
    },
    {
     "name": "stdout",
     "output_type": "stream",
     "text": [
      "Bemenet alakja: \n",
      "(1975, 50, 2)\n",
      "Kimenet alakja: \n",
      "(1975, 1)\n"
     ]
    }
   ],
   "source": [
    "from keras.models import Sequential\n",
    "from keras.layers.convolutional import Convolution1D, MaxPooling1D\n",
    "from keras.layers.core import Dense, Dropout, Activation, TimeDistributedDense, Flatten\n",
    "from keras.layers.recurrent import LSTM\n",
    "from keras.preprocessing.sequence import pad_sequences\n",
    "\n",
    "%matplotlib inline\n",
    "\n",
    "import matplotlib\n",
    "import matplotlib.pyplot as plt\n",
    "import numpy as np\n",
    "\n",
    "sample_points = 50 # az előadás fóliáin \"m\"-el jelöltük (FrameSize)\n",
    "shift = 2 # az előadás fóliáin \"s\"-el jelöltük\n",
    "\n",
    "lins = np.linspace(0,1000,4000)\n",
    "data = np.asarray([np.sin(lins),np.cos(lins)]).T # egy sin és egy cos adatsor létrehozása\n",
    "nb_samples = len(data) - sample_points - 1 # a minták száma, ha nem lenne \"shift\", azt majd három sorral lentebb vesszük figyelembe\n",
    "\n",
    "# bemenet létrehozása - a sin és cos sample_points pillanatban, shift lépésenként\n",
    "# atleast_2d: legalább 2D-s mátrixokká alakítja a bemenetet, jelen esetben (50,2) alakú\n",
    "# expand_dims: növeli a dimenzió számot a megadott axis mentén, így lesz jelen esetben (1,50,2) alakú mintánk, \n",
    "#              amiket majd egymás után fűzve hozzuk létre a tanítóadatokat\n",
    "input_list = [np.expand_dims(np.atleast_2d(data[i:i+sample_points,:]), axis=0) for i in range(0,nb_samples,shift)]\n",
    "X = np.concatenate(input_list, axis=0)\n",
    "print(\"Bemenet alakja: \")\n",
    "print(X.shape)\n",
    "\n",
    "# kimenet létrehozása a fentiek szerint\n",
    "target_list = [np.atleast_2d(data[i+sample_points+1,0]) for i in range(0,nb_samples,shift)]\n",
    "y = np.concatenate(target_list, axis=0)\n",
    "print(\"Kimenet alakja: \")\n",
    "print(y.shape)"
   ]
  },
  {
   "cell_type": "markdown",
   "metadata": {},
   "source": [
    "## Modell létrehozása\n",
    "Ezután létrehozzuk a modellt Sequential objektumként és egymás utána pakolunk conv1d-conv1d-maxpool1d-conv1d-conv1d-maxpool1d rétegeket egyre növekvő konvolúciós szűrő számmal. Nyilván ez a háló most túl van méretezve erre a feladatra.\n",
    "Figyeljük meg az utolsó konvolúciós réteget, ahol a szűrő hossza mindössze 1, aminek az a jelentősége, hogy az adott konvolúciós réteg neuronjait a mélység (depth) mentén köti össze és ezekben keres összefüggéseket. "
   ]
  },
  {
   "cell_type": "code",
   "execution_count": 2,
   "metadata": {
    "collapsed": false
   },
   "outputs": [],
   "source": [
    "model = Sequential()\n",
    "model.add(Convolution1D(input_shape=(X.shape[-2],X.shape[-1]), #input_dim=inputDim,\n",
    "                        nb_filter=32,\n",
    "                        filter_length=3,\n",
    "                        border_mode='same',\n",
    "                        subsample_length=1,\n",
    "                        init='glorot_normal',\n",
    "                        activation='relu')) \n",
    "model.add(Convolution1D(nb_filter=96,\n",
    "                        filter_length=5,\n",
    "                        border_mode='same',\n",
    "                        subsample_length=2,\n",
    "                        init='glorot_normal',\n",
    "                        activation='relu')) \n",
    "model.add(MaxPooling1D(pool_length=2,stride=2))\n",
    "model.add(Convolution1D(nb_filter=128,\n",
    "                        filter_length=7,\n",
    "                        border_mode='same',\n",
    "                        subsample_length=2,\n",
    "                        init='glorot_normal',\n",
    "                        activation='relu'))\n",
    "model.add(Convolution1D(nb_filter=128,\n",
    "                        filter_length=1,\n",
    "                        border_mode='same',\n",
    "                        init='glorot_normal',\n",
    "                        subsample_length=2,\n",
    "                        activation='relu')) \n",
    "model.add(MaxPooling1D(pool_length=2, stride=2)) "
   ]
  },
  {
   "cell_type": "markdown",
   "metadata": {},
   "source": [
    "## Előrecsatolt réteg\n",
    "A konvolúciós rétegek kimenetének összekötését az előrecsatolt réteggel a Flatten() réteg végzi, majd utána következhetnek az előrcsatolt rétegek.itt akár több előrecsatolt réteg is jöhetne, ami összetettebb feladatoknál szükséges a nagyobb pontossághoz, pl: \n",
    "\n",
    "               model.add(Dense(512, activation='relu'))\n",
    "               model.add(Dropout(0.5))\n",
    "               \n",
    "Azonban most nem szeretnénk, hogy esetleg az előrecsatolt rétegek oldják meg a modellezést, ezért csak 1 neuront teszünk a kimeneti rétegbe. \n"
   ]
  },
  {
   "cell_type": "code",
   "execution_count": 3,
   "metadata": {
    "collapsed": true
   },
   "outputs": [],
   "source": [
    "model.add(Flatten())\n",
    "model.add(Dense(1, activation='linear'))"
   ]
  },
  {
   "cell_type": "markdown",
   "metadata": {
    "collapsed": true
   },
   "source": [
    "Ezt követőenlefordítjuk a modellet (négyzete hiba a költségfüggvényt és Adam optimizációt használunk) és betanítjuk, most csak egy darab epochig. Fontos, hogy a fit függvény a minták keverését is elvégzi nekünk. "
   ]
  },
  {
   "cell_type": "code",
   "execution_count": 4,
   "metadata": {
    "collapsed": false
   },
   "outputs": [
    {
     "name": "stdout",
     "output_type": "stream",
     "text": [
      "Epoch 1/1\n",
      "1975/1975 [==============================] - 1s - loss: 0.1116     \n"
     ]
    },
    {
     "data": {
      "text/plain": [
       "<keras.callbacks.History at 0x7f3e8b6d0588>"
      ]
     },
     "execution_count": 4,
     "metadata": {},
     "output_type": "execute_result"
    }
   ],
   "source": [
    "model.compile(loss='mse', optimizer='adam')\n",
    "model.fit(X, y, nb_epoch=1, shuffle=True)"
   ]
  },
  {
   "cell_type": "markdown",
   "metadata": {},
   "source": [
    "Miután kész a tanítás készítünk egy predikciót és ezt kirajzoljuk:"
   ]
  },
  {
   "cell_type": "code",
   "execution_count": 5,
   "metadata": {
    "collapsed": false
   },
   "outputs": [
    {
     "data": {
      "image/png": "[encoded data removed]",
      "text/plain": [
       "<matplotlib.figure.Figure at 0x7f3e8b6d0978>"
      ]
     },
     "metadata": {},
     "output_type": "display_data"
    }
   ],
   "source": [
    "Y_predicted = model.predict(X, batch_size=100)\n",
    "line, = plt.plot(lins[0:180:shift],Y_predicted[0:int(180/shift),:], '-', linewidth=2)"
   ]
  }
 ],
 "metadata": {
  "kernelspec": {
   "display_name": "Python 3",
   "language": "python",
   "name": "python3"
  },
  "language_info": {
   "codemirror_mode": {
    "name": "ipython",
    "version": 3
   },
   "file_extension": ".py",
   "mimetype": "text/x-python",
   "name": "python",
   "nbconvert_exporter": "python",
   "pygments_lexer": "ipython3",
   "version": "3.4.3"
  }
 },
 "nbformat": 4,
 "nbformat_minor": 1
}
