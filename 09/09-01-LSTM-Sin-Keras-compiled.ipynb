{
 "cells": [
  {
   "cell_type": "markdown",
   "metadata": {},
   "source": [
    "# Copyright\n",
    "\n",
    "<PRE>\n",
    "Jelen iPython notebook a Budapesti Műszaki és Gazdaságtudományi Egyetemen tartott \"Deep Learning a gyakorlatban Python és LUA alapon\" tantárgy segédanyagaként készült. \n",
    "\n",
    "A tantárgy honlapja: http://smartlab.tmit.bme.hu/oktatas-deep-learning\n",
    "Deep Learning kutatás: http://smartlab.tmit.bme.hu/deep-learning\n",
    "\n",
    "A forráskódot GPLv3 licensz védi. Újrafelhasználás esetén lehetőség szerint kérejük az alábbi szerzőt értesíteni.\n",
    "\n",
    "2016 (c) Tóth Bálint Pál (toth.b kukac tmit pont bme pont hu)\n",
    "</PRE>"
   ]
  },
  {
   "cell_type": "markdown",
   "metadata": {},
   "source": [
    "# Szinusz modellezése LSTM-el\n",
    "Ebben a notebookban bemutatjuk, hogy hogyan lehet összerakni egy vektorból LSTM háló számmára szükséges (nb_samples, timesteps, input_dim) alakú bemenetet és azt, hogy hogyan tudjuk tanítani a hálót. Vegyük észre, hogy a bemenő adat struktúrája azonos az 1D konvolúciónál megismertekkel (lásd: 08 gyakorlat anyaga). A be- és kimenetek előkészítése ezért teljesen analóg módon történik, egyedül a modellben az 1D konvolúciós és dropout rétegeket cseréljük le egy {LSTM_units} darab LSTM egységet tartalmazó egyirányú LSTM rétegre."
   ]
  },
  {
   "cell_type": "code",
   "execution_count": 1,
   "metadata": {
    "collapsed": false
   },
   "outputs": [
    {
     "name": "stderr",
     "output_type": "stream",
     "text": [
      "Using Theano backend.\n"
     ]
    },
    {
     "name": "stdout",
     "output_type": "stream",
     "text": [
      "Bemenet alakja: \n",
      "(1995, 10, 1)\n",
      "\n",
      "1. bemeneti tanítóminta:\n",
      "[[-1.73161785]\n",
      " [-1.73075182]\n",
      " [-1.7298858 ]\n",
      " [-1.72901977]\n",
      " [-1.72815375]\n",
      " [-1.72728772]\n",
      " [-1.7264217 ]\n",
      " [-1.72555567]\n",
      " [-1.72468965]\n",
      " [-1.72382362]]\n",
      "\n",
      "2. bemeneti tanítóminta:\n",
      "[[-1.7298858 ]\n",
      " [-1.72901977]\n",
      " [-1.72815375]\n",
      " [-1.72728772]\n",
      " [-1.7264217 ]\n",
      " [-1.72555567]\n",
      " [-1.72468965]\n",
      " [-1.72382362]\n",
      " [-1.72295759]\n",
      " [-1.72209157]]\n",
      "\n",
      "3. bemeneti tanítóminta:\n",
      "[[-1.72815375]\n",
      " [-1.72728772]\n",
      " [-1.7264217 ]\n",
      " [-1.72555567]\n",
      " [-1.72468965]\n",
      " [-1.72382362]\n",
      " [-1.72295759]\n",
      " [-1.72209157]\n",
      " [-1.72122554]\n",
      " [-1.72035952]]\n",
      "\n",
      "4. bemeneti tanítóminta:\n",
      "[[-1.7264217 ]\n",
      " [-1.72555567]\n",
      " [-1.72468965]\n",
      " [-1.72382362]\n",
      " [-1.72295759]\n",
      " [-1.72209157]\n",
      " [-1.72122554]\n",
      " [-1.72035952]\n",
      " [-1.71949349]\n",
      " [-1.71862747]]\n",
      "\n",
      "5. bemeneti tanítóminta:\n",
      "[[-1.72468965]\n",
      " [-1.72382362]\n",
      " [-1.72295759]\n",
      " [-1.72209157]\n",
      " [-1.72122554]\n",
      " [-1.72035952]\n",
      " [-1.71949349]\n",
      " [-1.71862747]\n",
      " [-1.71776144]\n",
      " [-1.71689542]]\n"
     ]
    },
    {
     "name": "stderr",
     "output_type": "stream",
     "text": [
      "/usr/local/lib/python3.4/dist-packages/sklearn/preprocessing/data.py:583: DeprecationWarning: Passing 1d arrays as data is deprecated in 0.17 and will raise ValueError in 0.19. Reshape your data either using X.reshape(-1, 1) if your data has a single feature or X.reshape(1, -1) if it contains a single sample.\n",
      "  warnings.warn(DEPRECATION_MSG_1D, DeprecationWarning)\n",
      "/usr/local/lib/python3.4/dist-packages/sklearn/preprocessing/data.py:646: DeprecationWarning: Passing 1d arrays as data is deprecated in 0.17 and will raise ValueError in 0.19. Reshape your data either using X.reshape(-1, 1) if your data has a single feature or X.reshape(1, -1) if it contains a single sample.\n",
      "  warnings.warn(DEPRECATION_MSG_1D, DeprecationWarning)\n"
     ]
    }
   ],
   "source": [
    "from keras.models import Sequential\n",
    "from keras.layers.recurrent import LSTM\n",
    "from keras.layers.core import Dense, Dropout, Activation, Flatten\n",
    "\n",
    "%matplotlib inline\n",
    "\n",
    "import matplotlib\n",
    "import matplotlib.pyplot as plt\n",
    "import numpy as np\n",
    "from sklearn.preprocessing import StandardScaler, MinMaxScaler\n",
    "\n",
    "sample_points = 10 # az előadás fóliáin \"m\"-el jelöltük (FrameSize)\n",
    "shift = 2 # az előadás fóliáin \"s\"-el jelöltük\n",
    "\n",
    "lins = np.linspace(0,np.pi*10,4000)\n",
    "data = np.asarray([np.sin(lins)]).T # egy sin és egy cos adatsor létrehozása\n",
    "nb_samples = len(data) - sample_points - 1 # a minták száma, ha nem lenne \"shift\", azt majd három sorral lentebb vesszük figyelembe\n",
    "\n",
    "# standardizálás\n",
    "std_scaler = StandardScaler()\n",
    "lins = std_scaler.fit_transform(lins)\n",
    "# normalizálás\n",
    "mm_scaler = MinMaxScaler(feature_range=(0, 1))\n",
    "data = mm_scaler.fit_transform(data)\n",
    "\n",
    "# bemenet létrehozása - a sin és cos sample_points pillanatban, shift lépésenként\n",
    "# atleast_2d: legalább 2D-s mátrixokká alakítja a bemenetet, jelen esetben (50,2) alakú\n",
    "# expand_dims: növeli a dimenzió számot a megadott axis mentén, így lesz jelen esetben (1,50,2) alakú mintánk, \n",
    "#              amiket majd egymás után fűzve hozzuk létre a tanítóadatokat\n",
    "input_list = [np.expand_dims(np.atleast_2d(np.asarray([lins[i:i+sample_points]]).T), axis=0) for i in range(0,nb_samples,shift)]\n",
    "X = np.concatenate(input_list, axis=0)\n",
    "print(\"Bemenet alakja: \")\n",
    "print(X.shape)\n",
    "\n",
    "# az első öt bemeneti tanítóminta kiiratás\n",
    "for i in range(0,5):\n",
    "    print(\"\\n\"+str(i+1)+\". bemeneti tanítóminta:\")\n",
    "    print(X[i])"
   ]
  },
  {
   "cell_type": "code",
   "execution_count": 2,
   "metadata": {
    "collapsed": false
   },
   "outputs": [
    {
     "name": "stdout",
     "output_type": "stream",
     "text": [
      "\n",
      "Kimenet alakja: \n",
      "(1995, 1)\n",
      "\n",
      "1. kimeneti tanítóminta:\n",
      "[ 0.54315395]\n",
      "\n",
      "2. kimeneti tanítóminta:\n",
      "[ 0.55097493]\n",
      "\n",
      "3. kimeneti tanítóminta:\n",
      "[ 0.55878333]\n",
      "\n",
      "4. kimeneti tanítóminta:\n",
      "[ 0.56657722]\n",
      "\n",
      "5. kimeneti tanítóminta:\n",
      "[ 0.57435467]\n"
     ]
    }
   ],
   "source": [
    "# kimenet létrehozása a fentiek szerint \n",
    "# mindig a következő időpillanatban jósolja előre a sin értékét\n",
    "target_list = [np.atleast_2d(data[i+sample_points+1]) for i in range(0,nb_samples,shift)]\n",
    "y = np.concatenate(target_list, axis=0)\n",
    "print(\"\\nKimenet alakja: \")\n",
    "print(y.shape)\n",
    "\n",
    "# az első öt kimeneti tanítóminta kiiratás\n",
    "for i in range(0,5):\n",
    "    print(\"\\n\"+str(i+1)+\". kimeneti tanítóminta:\")\n",
    "    print(y[i])"
   ]
  },
  {
   "cell_type": "markdown",
   "metadata": {},
   "source": [
    "## Modell létrehozása\n",
    "Ezután létrehozzuk a modellt Sequential objektumként és összesen egy darab LSTM réteget rakunk bele 64 LSTM egységgel. "
   ]
  },
  {
   "cell_type": "code",
   "execution_count": 3,
   "metadata": {
    "collapsed": false
   },
   "outputs": [],
   "source": [
    "LSTM_units=64\n",
    "model = Sequential()\n",
    "model.add(LSTM(LSTM_units, input_shape=(X.shape[-2],X.shape[-1])))"
   ]
  },
  {
   "cell_type": "markdown",
   "metadata": {},
   "source": [
    "## Előrecsatolt réteg\n",
    "Az LSTM réteg után egy előrecsatolt réteget kötünk az 1D konvolúcióhoz hasonlóan: "
   ]
  },
  {
   "cell_type": "code",
   "execution_count": 4,
   "metadata": {
    "collapsed": false
   },
   "outputs": [],
   "source": [
    "model.add(Dense(1, activation='linear'))"
   ]
  },
  {
   "cell_type": "markdown",
   "metadata": {
    "collapsed": true
   },
   "source": [
    "Ezt követően lefordítjuk a modellet (négyzete hiba a költségfüggvényt + Adam optimizációt használunk) és betanítjuk, most negyven darab epochig. A fit függvény a minták keverését is elvégzi nekünk. "
   ]
  },
  {
   "cell_type": "code",
   "execution_count": 5,
   "metadata": {
    "collapsed": false
   },
   "outputs": [
    {
     "name": "stdout",
     "output_type": "stream",
     "text": [
      "Epoch 1/40\n",
      "1995/1995 [==============================] - 0s - loss: 0.1550     \n",
      "Epoch 2/40\n",
      "1995/1995 [==============================] - 0s - loss: 0.1227     \n",
      "Epoch 3/40\n",
      "1995/1995 [==============================] - 0s - loss: 0.1218     \n",
      "Epoch 4/40\n",
      "1995/1995 [==============================] - 0s - loss: 0.1218     \n",
      "Epoch 5/40\n",
      "1995/1995 [==============================] - 0s - loss: 0.1205     \n",
      "Epoch 6/40\n",
      "1995/1995 [==============================] - 0s - loss: 0.1187     \n",
      "Epoch 7/40\n",
      "1995/1995 [==============================] - 0s - loss: 0.1189     \n",
      "Epoch 8/40\n",
      "1995/1995 [==============================] - 0s - loss: 0.1181     \n",
      "Epoch 9/40\n",
      "1995/1995 [==============================] - 0s - loss: 0.1175     \n",
      "Epoch 10/40\n",
      "1995/1995 [==============================] - 0s - loss: 0.1159     \n",
      "Epoch 11/40\n",
      "1995/1995 [==============================] - 0s - loss: 0.1111     \n",
      "Epoch 12/40\n",
      "1995/1995 [==============================] - 0s - loss: 0.1070     \n",
      "Epoch 13/40\n",
      "1995/1995 [==============================] - 0s - loss: 0.0982     \n",
      "Epoch 14/40\n",
      "1995/1995 [==============================] - 0s - loss: 0.0866     \n",
      "Epoch 15/40\n",
      "1995/1995 [==============================] - 0s - loss: 0.0760     \n",
      "Epoch 16/40\n",
      "1995/1995 [==============================] - 0s - loss: 0.0657     \n",
      "Epoch 17/40\n",
      "1995/1995 [==============================] - 0s - loss: 0.0549     \n",
      "Epoch 18/40\n",
      "1995/1995 [==============================] - 0s - loss: 0.0509     \n",
      "Epoch 19/40\n",
      "1995/1995 [==============================] - 0s - loss: 0.0455     \n",
      "Epoch 20/40\n",
      "1995/1995 [==============================] - 0s - loss: 0.0355     \n",
      "Epoch 21/40\n",
      "1995/1995 [==============================] - 0s - loss: 0.0115     \n",
      "Epoch 22/40\n",
      "1995/1995 [==============================] - 0s - loss: 0.0047     \n",
      "Epoch 23/40\n",
      "1995/1995 [==============================] - 0s - loss: 0.0035     \n",
      "Epoch 24/40\n",
      "1995/1995 [==============================] - 0s - loss: 0.0032     \n",
      "Epoch 25/40\n",
      "1995/1995 [==============================] - 0s - loss: 0.0035     \n",
      "Epoch 26/40\n",
      "1995/1995 [==============================] - 0s - loss: 0.0024     \n",
      "Epoch 27/40\n",
      "1995/1995 [==============================] - 0s - loss: 0.0018     \n",
      "Epoch 28/40\n",
      "1995/1995 [==============================] - 0s - loss: 0.0041     \n",
      "Epoch 29/40\n",
      "1995/1995 [==============================] - 0s - loss: 0.0016     \n",
      "Epoch 30/40\n",
      "1995/1995 [==============================] - 0s - loss: 0.0018     \n",
      "Epoch 31/40\n",
      "1995/1995 [==============================] - 0s - loss: 0.0012     \n",
      "Epoch 32/40\n",
      "1995/1995 [==============================] - 0s - loss: 6.5342e-04     \n",
      "Epoch 33/40\n",
      "1995/1995 [==============================] - 0s - loss: 5.9054e-04     \n",
      "Epoch 34/40\n",
      "1995/1995 [==============================] - 0s - loss: 6.6973e-04     \n",
      "Epoch 35/40\n",
      "1995/1995 [==============================] - 0s - loss: 3.6381e-04     \n",
      "Epoch 36/40\n",
      "1995/1995 [==============================] - 0s - loss: 5.5383e-04     \n",
      "Epoch 37/40\n",
      "1995/1995 [==============================] - 0s - loss: 4.9563e-04     \n",
      "Epoch 38/40\n",
      "1995/1995 [==============================] - 0s - loss: 0.0019     \n",
      "Epoch 39/40\n",
      "1995/1995 [==============================] - 0s - loss: 3.9741e-04     \n",
      "Epoch 40/40\n",
      "1995/1995 [==============================] - 0s - loss: 2.6443e-04     \n"
     ]
    },
    {
     "data": {
      "text/plain": [
       "<keras.callbacks.History at 0x7f39ffb09860>"
      ]
     },
     "execution_count": 5,
     "metadata": {},
     "output_type": "execute_result"
    }
   ],
   "source": [
    "model.compile(loss='mse', optimizer='adam')\n",
    "model.fit(X, y, nb_epoch=40, shuffle=True)"
   ]
  },
  {
   "cell_type": "markdown",
   "metadata": {},
   "source": [
    "Miután kész a tanítás készítünk egy predikciót, a kapott értékeket \"visszaskálázzuk\" és ezt rajzoljuk ki. "
   ]
  },
  {
   "cell_type": "code",
   "execution_count": 6,
   "metadata": {
    "collapsed": false
   },
   "outputs": [
    {
     "data": {
      "image/png": "[encoded data removed]",
      "text/plain": [
       "<matplotlib.figure.Figure at 0x7f39fbc7b390>"
      ]
     },
     "metadata": {},
     "output_type": "display_data"
    }
   ],
   "source": [
    "Y_predicted = model.predict(X, batch_size=100)\n",
    "line, = plt.plot(std_scaler.inverse_transform(lins[0:3000:shift]), \\\n",
    "                 mm_scaler.inverse_transform(Y_predicted[0:int(3000/shift)]), \\\n",
    "                 '-', linewidth=2)"
   ]
  }
 ],
 "metadata": {
  "kernelspec": {
   "display_name": "Python 3",
   "language": "python",
   "name": "python3"
  },
  "language_info": {
   "codemirror_mode": {
    "name": "ipython",
    "version": 3
   },
   "file_extension": ".py",
   "mimetype": "text/x-python",
   "name": "python",
   "nbconvert_exporter": "python",
   "pygments_lexer": "ipython3",
   "version": "3.4.3"
  }
 },
 "nbformat": 4,
 "nbformat_minor": 1
}
