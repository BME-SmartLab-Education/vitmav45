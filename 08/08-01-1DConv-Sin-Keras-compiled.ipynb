{
 "cells": [
  {
   "cell_type": "markdown",
   "metadata": {},
   "source": [
    "# Copyright\n",
    "\n",
    "<PRE>\n",
    "Jelen iPython notebook a Budapesti Műszaki és Gazdaságtudományi Egyetemen tartott \"Deep Learning a gyakorlatban Python és LUA alapon\" tantárgy segédanyagaként készült. \n",
    "\n",
    "A tantárgy honlapja: http://smartlab.tmit.bme.hu/oktatas-deep-learning\n",
    "Deep Learning kutatás: http://smartlab.tmit.bme.hu/deep-learning\n",
    "\n",
    "A forráskódot GPLv3 licensz védi. Újrafelhasználás esetén lehetőség szerint kérejük az alábbi szerzőt értesíteni.\n",
    "\n",
    "2016 (c) Tóth Bálint Pál (toth.b kukac tmit pont bme pont hu)\n",
    "</PRE>"
   ]
  },
  {
   "cell_type": "markdown",
   "metadata": {},
   "source": [
    "# Szinusz modellezése egy dimenziós konvolúcióval\n",
    "Ebben a notebookban bemutatjuk, hogy hogyan lehet összerakni egy vektorból az egy dimenziós konvolúciós háló számmára szükséges (samples, steps, input_dim) bemenetet és ezt hogyan tudjuk összekötne előrecsatolt (fully connected) rétegekkel.\n",
    "\n",
    "## Be- és kimenetek előkészítése\n",
    "Töltsük be a megfelelő modulokat és készítsünk 0-1000 között 4000 ponttal sinus és cosinus adatsorokat. A konvolúció háló bemenete sample_points számú, két dimenziós érték lesz (a sin és cos), a kimenete pedig a sample_points+1 helyen kévő sinus érték. Az egyes sample_point hosszú tanítóminták közötti eltolást a shift paraméterrel szabályozzuk. "
   ]
  },
  {
   "cell_type": "code",
   "execution_count": 1,
   "metadata": {
    "collapsed": false
   },
   "outputs": [
    {
     "name": "stderr",
     "output_type": "stream",
     "text": [
      "Using Theano backend.\n"
     ]
    },
    {
     "name": "stdout",
     "output_type": "stream",
     "text": [
      "Bemenet alakja: \n",
      "(1975, 50, 2)\n",
      "\n",
      "1. bemeneti tanítóminta:\n",
      "[[ 0.          1.        ]\n",
      " [ 0.24746453  0.96889695]\n",
      " [ 0.47953526  0.87752261]\n",
      " [ 0.68177597  0.73156102]\n",
      " [ 0.84160607  0.54009187]\n",
      " [ 0.94908314  0.31502572]\n",
      " [ 0.99752145  0.07036304]\n",
      " [ 0.98390785 -0.17867664]\n",
      " [ 0.90908919 -0.41660155]\n",
      " [ 0.77771964 -0.6286113 ]\n",
      " [ 0.59797119 -0.8015176 ]\n",
      " [ 0.38102529 -0.92456462]\n",
      " [ 0.14037729 -0.99009808]\n",
      " [-0.10900303 -0.99404142]\n",
      " [-0.3516027  -0.93614932]\n",
      " [-0.57233053 -0.82002302]\n",
      " [-0.75745592 -0.6528863 ]\n",
      " [-0.89546294 -0.44513607]\n",
      " [-0.9777667  -0.20969567]\n",
      " [-0.99924742  0.03878908]\n",
      " [-0.95856886  0.28486092]\n",
      " [-0.85826147  0.51321267]\n",
      " [-0.70456499  0.70963946]\n",
      " [-0.50704028  0.86192236]\n",
      " [-0.27797457  0.96058843]\n",
      " [-0.03161715  0.99950005]\n",
      " [ 0.21670705  0.97623668]\n",
      " [ 0.45155076  0.89224543]\n",
      " [ 0.65830525  0.75275109]\n",
      " [ 0.82410915  0.56643103]\n",
      " [ 0.93864843  0.34487552]\n",
      " [ 0.99479806  0.10186665]\n",
      " [ 0.98906519 -0.14747895]\n",
      " [ 0.92180644 -0.38765046]\n",
      " [ 0.79720571 -0.60370775]\n",
      " [ 0.62301393 -0.78221074]\n",
      " [ 0.41006689 -0.91205545]\n",
      " [ 0.17161118 -0.98516476]\n",
      " [-0.07751978 -0.99699081]\n",
      " [-0.32182855 -0.94679797]\n",
      " [-0.54611761 -0.83770851]\n",
      " [-0.73643483 -0.67650849]\n",
      " [-0.88094132 -0.47322551]\n",
      " [-0.97064789 -0.24050503]\n",
      " [-0.99997425  0.00717634]\n",
      " [-0.96709611  0.25441129]\n",
      " [-0.87405871  0.48582031]\n",
      " [-0.72664952  0.68700835]\n",
      " [-0.53403831  0.84546028]\n",
      " [-0.30820666  0.95131943]]\n",
      "\n",
      "2. bemeneti tanítóminta:\n",
      "[[ 0.47953526  0.87752261]\n",
      " [ 0.68177597  0.73156102]\n",
      " [ 0.84160607  0.54009187]\n",
      " [ 0.94908314  0.31502572]\n",
      " [ 0.99752145  0.07036304]\n",
      " [ 0.98390785 -0.17867664]\n",
      " [ 0.90908919 -0.41660155]\n",
      " [ 0.77771964 -0.6286113 ]\n",
      " [ 0.59797119 -0.8015176 ]\n",
      " [ 0.38102529 -0.92456462]\n",
      " [ 0.14037729 -0.99009808]\n",
      " [-0.10900303 -0.99404142]\n",
      " [-0.3516027  -0.93614932]\n",
      " [-0.57233053 -0.82002302]\n",
      " [-0.75745592 -0.6528863 ]\n",
      " [-0.89546294 -0.44513607]\n",
      " [-0.9777667  -0.20969567]\n",
      " [-0.99924742  0.03878908]\n",
      " [-0.95856886  0.28486092]\n",
      " [-0.85826147  0.51321267]\n",
      " [-0.70456499  0.70963946]\n",
      " [-0.50704028  0.86192236]\n",
      " [-0.27797457  0.96058843]\n",
      " [-0.03161715  0.99950005]\n",
      " [ 0.21670705  0.97623668]\n",
      " [ 0.45155076  0.89224543]\n",
      " [ 0.65830525  0.75275109]\n",
      " [ 0.82410915  0.56643103]\n",
      " [ 0.93864843  0.34487552]\n",
      " [ 0.99479806  0.10186665]\n",
      " [ 0.98906519 -0.14747895]\n",
      " [ 0.92180644 -0.38765046]\n",
      " [ 0.79720571 -0.60370775]\n",
      " [ 0.62301393 -0.78221074]\n",
      " [ 0.41006689 -0.91205545]\n",
      " [ 0.17161118 -0.98516476]\n",
      " [-0.07751978 -0.99699081]\n",
      " [-0.32182855 -0.94679797]\n",
      " [-0.54611761 -0.83770851]\n",
      " [-0.73643483 -0.67650849]\n",
      " [-0.88094132 -0.47322551]\n",
      " [-0.97064789 -0.24050503]\n",
      " [-0.99997425  0.00717634]\n",
      " [-0.96709611  0.25441129]\n",
      " [-0.87405871  0.48582031]\n",
      " [-0.72664952  0.68700835]\n",
      " [-0.53403831  0.84546028]\n",
      " [-0.30820666  0.95131943]\n",
      " [-0.06320268  0.99800071]\n",
      " [ 0.18573289  0.98260027]]\n",
      "\n",
      "3. bemeneti tanítóminta:\n",
      "[[ 0.84160607  0.54009187]\n",
      " [ 0.94908314  0.31502572]\n",
      " [ 0.99752145  0.07036304]\n",
      " [ 0.98390785 -0.17867664]\n",
      " [ 0.90908919 -0.41660155]\n",
      " [ 0.77771964 -0.6286113 ]\n",
      " [ 0.59797119 -0.8015176 ]\n",
      " [ 0.38102529 -0.92456462]\n",
      " [ 0.14037729 -0.99009808]\n",
      " [-0.10900303 -0.99404142]\n",
      " [-0.3516027  -0.93614932]\n",
      " [-0.57233053 -0.82002302]\n",
      " [-0.75745592 -0.6528863 ]\n",
      " [-0.89546294 -0.44513607]\n",
      " [-0.9777667  -0.20969567]\n",
      " [-0.99924742  0.03878908]\n",
      " [-0.95856886  0.28486092]\n",
      " [-0.85826147  0.51321267]\n",
      " [-0.70456499  0.70963946]\n",
      " [-0.50704028  0.86192236]\n",
      " [-0.27797457  0.96058843]\n",
      " [-0.03161715  0.99950005]\n",
      " [ 0.21670705  0.97623668]\n",
      " [ 0.45155076  0.89224543]\n",
      " [ 0.65830525  0.75275109]\n",
      " [ 0.82410915  0.56643103]\n",
      " [ 0.93864843  0.34487552]\n",
      " [ 0.99479806  0.10186665]\n",
      " [ 0.98906519 -0.14747895]\n",
      " [ 0.92180644 -0.38765046]\n",
      " [ 0.79720571 -0.60370775]\n",
      " [ 0.62301393 -0.78221074]\n",
      " [ 0.41006689 -0.91205545]\n",
      " [ 0.17161118 -0.98516476]\n",
      " [-0.07751978 -0.99699081]\n",
      " [-0.32182855 -0.94679797]\n",
      " [-0.54611761 -0.83770851]\n",
      " [-0.73643483 -0.67650849]\n",
      " [-0.88094132 -0.47322551]\n",
      " [-0.97064789 -0.24050503]\n",
      " [-0.99997425  0.00717634]\n",
      " [-0.96709611  0.25441129]\n",
      " [-0.87405871  0.48582031]\n",
      " [-0.72664952  0.68700835]\n",
      " [-0.53403831  0.84546028]\n",
      " [-0.30820666  0.95131943]\n",
      " [-0.06320268  0.99800071]\n",
      " [ 0.18573289  0.98260027]\n",
      " [ 0.42311475  0.9060761 ]\n",
      " [ 0.63417629  0.77318848]]\n",
      "\n",
      "4. bemeneti tanítóminta:\n",
      "[[ 0.99752145  0.07036304]\n",
      " [ 0.98390785 -0.17867664]\n",
      " [ 0.90908919 -0.41660155]\n",
      " [ 0.77771964 -0.6286113 ]\n",
      " [ 0.59797119 -0.8015176 ]\n",
      " [ 0.38102529 -0.92456462]\n",
      " [ 0.14037729 -0.99009808]\n",
      " [-0.10900303 -0.99404142]\n",
      " [-0.3516027  -0.93614932]\n",
      " [-0.57233053 -0.82002302]\n",
      " [-0.75745592 -0.6528863 ]\n",
      " [-0.89546294 -0.44513607]\n",
      " [-0.9777667  -0.20969567]\n",
      " [-0.99924742  0.03878908]\n",
      " [-0.95856886  0.28486092]\n",
      " [-0.85826147  0.51321267]\n",
      " [-0.70456499  0.70963946]\n",
      " [-0.50704028  0.86192236]\n",
      " [-0.27797457  0.96058843]\n",
      " [-0.03161715  0.99950005]\n",
      " [ 0.21670705  0.97623668]\n",
      " [ 0.45155076  0.89224543]\n",
      " [ 0.65830525  0.75275109]\n",
      " [ 0.82410915  0.56643103]\n",
      " [ 0.93864843  0.34487552]\n",
      " [ 0.99479806  0.10186665]\n",
      " [ 0.98906519 -0.14747895]\n",
      " [ 0.92180644 -0.38765046]\n",
      " [ 0.79720571 -0.60370775]\n",
      " [ 0.62301393 -0.78221074]\n",
      " [ 0.41006689 -0.91205545]\n",
      " [ 0.17161118 -0.98516476]\n",
      " [-0.07751978 -0.99699081]\n",
      " [-0.32182855 -0.94679797]\n",
      " [-0.54611761 -0.83770851]\n",
      " [-0.73643483 -0.67650849]\n",
      " [-0.88094132 -0.47322551]\n",
      " [-0.97064789 -0.24050503]\n",
      " [-0.99997425  0.00717634]\n",
      " [-0.96709611  0.25441129]\n",
      " [-0.87405871  0.48582031]\n",
      " [-0.72664952  0.68700835]\n",
      " [-0.53403831  0.84546028]\n",
      " [-0.30820666  0.95131943]\n",
      " [-0.06320268  0.99800071]\n",
      " [ 0.18573289  0.98260027]\n",
      " [ 0.42311475  0.9060761 ]\n",
      " [ 0.63417629  0.77318848]\n",
      " [ 0.8057882   0.59220383]\n",
      " [ 0.92727518  0.37438048]]\n",
      "\n",
      "5. bemeneti tanítóminta:\n",
      "[[ 0.90908919 -0.41660155]\n",
      " [ 0.77771964 -0.6286113 ]\n",
      " [ 0.59797119 -0.8015176 ]\n",
      " [ 0.38102529 -0.92456462]\n",
      " [ 0.14037729 -0.99009808]\n",
      " [-0.10900303 -0.99404142]\n",
      " [-0.3516027  -0.93614932]\n",
      " [-0.57233053 -0.82002302]\n",
      " [-0.75745592 -0.6528863 ]\n",
      " [-0.89546294 -0.44513607]\n",
      " [-0.9777667  -0.20969567]\n",
      " [-0.99924742  0.03878908]\n",
      " [-0.95856886  0.28486092]\n",
      " [-0.85826147  0.51321267]\n",
      " [-0.70456499  0.70963946]\n",
      " [-0.50704028  0.86192236]\n",
      " [-0.27797457  0.96058843]\n",
      " [-0.03161715  0.99950005]\n",
      " [ 0.21670705  0.97623668]\n",
      " [ 0.45155076  0.89224543]\n",
      " [ 0.65830525  0.75275109]\n",
      " [ 0.82410915  0.56643103]\n",
      " [ 0.93864843  0.34487552]\n",
      " [ 0.99479806  0.10186665]\n",
      " [ 0.98906519 -0.14747895]\n",
      " [ 0.92180644 -0.38765046]\n",
      " [ 0.79720571 -0.60370775]\n",
      " [ 0.62301393 -0.78221074]\n",
      " [ 0.41006689 -0.91205545]\n",
      " [ 0.17161118 -0.98516476]\n",
      " [-0.07751978 -0.99699081]\n",
      " [-0.32182855 -0.94679797]\n",
      " [-0.54611761 -0.83770851]\n",
      " [-0.73643483 -0.67650849]\n",
      " [-0.88094132 -0.47322551]\n",
      " [-0.97064789 -0.24050503]\n",
      " [-0.99997425  0.00717634]\n",
      " [-0.96709611  0.25441129]\n",
      " [-0.87405871  0.48582031]\n",
      " [-0.72664952  0.68700835]\n",
      " [-0.53403831  0.84546028]\n",
      " [-0.30820666  0.95131943]\n",
      " [-0.06320268  0.99800071]\n",
      " [ 0.18573289  0.98260027]\n",
      " [ 0.42311475  0.9060761 ]\n",
      " [ 0.63417629  0.77318848]\n",
      " [ 0.8057882   0.59220383]\n",
      " [ 0.92727518  0.37438048]\n",
      " [ 0.99107998  0.13326839]\n",
      " [ 0.99323358 -0.1161338 ]]\n"
     ]
    }
   ],
   "source": [
    "from keras.models import Sequential\n",
    "from keras.layers.convolutional import Convolution1D, MaxPooling1D\n",
    "from keras.layers.core import Dense, Dropout, Activation, Flatten\n",
    "\n",
    "%matplotlib inline\n",
    "\n",
    "import matplotlib\n",
    "import matplotlib.pyplot as plt\n",
    "import numpy as np\n",
    "\n",
    "sample_points = 50 # az előadás fóliáin \"m\"-el jelöltük (FrameSize)\n",
    "shift = 2 # az előadás fóliáin \"s\"-el jelöltük\n",
    "\n",
    "lins = np.linspace(0,1000,4000)\n",
    "data = np.asarray([np.sin(lins),np.cos(lins)]).T # egy sin és egy cos adatsor létrehozása\n",
    "nb_samples = len(data) - sample_points - 1 # a minták száma, ha nem lenne \"shift\", azt majd három sorral lentebb vesszük figyelembe\n",
    "\n",
    "# bemenet létrehozása - a sin és cos sample_points pillanatban, shift lépésenként\n",
    "# atleast_2d: legalább 2D-s mátrixokká alakítja a bemenetet, jelen esetben (50,2) alakú\n",
    "# expand_dims: növeli a dimenzió számot a megadott axis mentén, így lesz jelen esetben (1,50,2) alakú mintánk, \n",
    "#              amiket majd egymás után fűzve hozzuk létre a tanítóadatokat\n",
    "input_list = [np.expand_dims(np.atleast_2d(data[i:i+sample_points,:]), axis=0) for i in range(0,nb_samples,shift)]\n",
    "X = np.concatenate(input_list, axis=0)\n",
    "print(\"Bemenet alakja: \")\n",
    "print(X.shape)\n",
    "\n",
    "# az első öt bemeneti tanítóminta kiiratás\n",
    "for i in range(0,5):\n",
    "    print(\"\\n\"+str(i+1)+\". bemeneti tanítóminta:\")\n",
    "    print(X[i])"
   ]
  },
  {
   "cell_type": "code",
   "execution_count": 2,
   "metadata": {
    "collapsed": false
   },
   "outputs": [
    {
     "name": "stdout",
     "output_type": "stream",
     "text": [
      "\n",
      "Kimenet alakja: \n",
      "(1975, 1)\n",
      "\n",
      "1. kimeneti tanítóminta:\n",
      "[ 0.18573289]\n",
      "\n",
      "2. kimeneti tanítóminta:\n",
      "[ 0.63417629]\n",
      "\n",
      "3. kimeneti tanítóminta:\n",
      "[ 0.92727518]\n",
      "\n",
      "4. kimeneti tanítóminta:\n",
      "[ 0.99323358]\n",
      "\n",
      "5. kimeneti tanítóminta:\n",
      "[ 0.81589467]\n"
     ]
    }
   ],
   "source": [
    "# kimenet létrehozása a fentiek szerint \n",
    "# mindig a következő időpillanatban jósolja előre a sin értékét\n",
    "target_list = [np.atleast_2d(data[i+sample_points+1,0]) for i in range(0,nb_samples,shift)]\n",
    "y = np.concatenate(target_list, axis=0)\n",
    "print(\"\\nKimenet alakja: \")\n",
    "print(y.shape)\n",
    "\n",
    "# az első öt kimeneti tanítóminta kiiratás\n",
    "for i in range(0,5):\n",
    "    print(\"\\n\"+str(i+1)+\". kimeneti tanítóminta:\")\n",
    "    print(y[i])"
   ]
  },
  {
   "cell_type": "markdown",
   "metadata": {},
   "source": [
    "## Modell létrehozása\n",
    "Ezután létrehozzuk a modellt Sequential objektumként és egymás utána pakolunk conv1d-conv1d-maxpool1d-conv1d-conv1d-maxpool1d rétegeket egyre növekvő konvolúciós szűrő számmal. Nyilván ez a háló most túl van méretezve erre a feladatra.\n",
    "Figyeljük meg az utolsó konvolúciós réteget, ahol a szűrő hossza mindössze 1, aminek az a jelentősége, hogy az adott konvolúciós réteg neuronjait a mélység (depth) mentén köti össze és ezekben keres összefüggéseket. "
   ]
  },
  {
   "cell_type": "code",
   "execution_count": 3,
   "metadata": {
    "collapsed": false
   },
   "outputs": [],
   "source": [
    "model = Sequential()\n",
    "model.add(Convolution1D(input_shape=(X.shape[-2],X.shape[-1]), #input_dim=inputDim,\n",
    "                        nb_filter=32,\n",
    "                        filter_length=3,\n",
    "                        border_mode='same',\n",
    "                        subsample_length=1,\n",
    "                        init='glorot_normal',\n",
    "                        activation='relu')) \n",
    "model.add(Convolution1D(nb_filter=96,\n",
    "                        filter_length=5,\n",
    "                        border_mode='same',\n",
    "                        subsample_length=2,\n",
    "                        init='glorot_normal',\n",
    "                        activation='relu')) \n",
    "model.add(MaxPooling1D(pool_length=2,stride=2))\n",
    "model.add(Convolution1D(nb_filter=128,\n",
    "                        filter_length=7,\n",
    "                        border_mode='same',\n",
    "                        subsample_length=2,\n",
    "                        init='glorot_normal',\n",
    "                        activation='relu'))\n",
    "model.add(Convolution1D(nb_filter=128,\n",
    "                        filter_length=1,\n",
    "                        border_mode='same',\n",
    "                        init='glorot_normal',\n",
    "                        subsample_length=2,\n",
    "                        activation='relu')) \n",
    "model.add(MaxPooling1D(pool_length=2, stride=2)) "
   ]
  },
  {
   "cell_type": "markdown",
   "metadata": {},
   "source": [
    "## Előrecsatolt réteg\n",
    "A konvolúciós rétegek kimenetének összekötését az előrecsatolt réteggel a Flatten() réteg végzi, majd utána következhetnek az előrcsatolt rétegek.itt akár több előrecsatolt réteg is jöhetne, ami összetettebb feladatoknál szükséges a nagyobb pontossághoz, pl: \n",
    "\n",
    "               model.add(Dense(512, activation='relu'))\n",
    "               model.add(Dropout(0.5))\n",
    "               \n",
    "Azonban most nem szeretnénk, hogy esetleg az előrecsatolt rétegek oldják meg a modellezést, ezért csak 1 neuront teszünk a kimeneti rétegbe. \n"
   ]
  },
  {
   "cell_type": "code",
   "execution_count": 4,
   "metadata": {
    "collapsed": true
   },
   "outputs": [],
   "source": [
    "model.add(Flatten())\n",
    "model.add(Dense(1, activation='linear'))"
   ]
  },
  {
   "cell_type": "markdown",
   "metadata": {
    "collapsed": true
   },
   "source": [
    "Ezt követően lefordítjuk a modellet (négyzete hiba a költségfüggvényt + Adam optimizációt használunk) és betanítjuk, most csak egy darab epochig. Fontos, hogy a fit függvény a minták keverését is elvégzi nekünk. "
   ]
  },
  {
   "cell_type": "code",
   "execution_count": 5,
   "metadata": {
    "collapsed": false
   },
   "outputs": [
    {
     "name": "stdout",
     "output_type": "stream",
     "text": [
      "Epoch 1/1\n",
      "1975/1975 [==============================] - 1s - loss: 0.1000     \n"
     ]
    },
    {
     "data": {
      "text/plain": [
       "<keras.callbacks.History at 0x7f55dada0080>"
      ]
     },
     "execution_count": 5,
     "metadata": {},
     "output_type": "execute_result"
    }
   ],
   "source": [
    "model.compile(loss='mse', optimizer='adam')\n",
    "model.fit(X, y, nb_epoch=1, shuffle=True)"
   ]
  },
  {
   "cell_type": "markdown",
   "metadata": {},
   "source": [
    "Miután kész a tanítás készítünk egy predikciót és ezt kirajzoljuk:"
   ]
  },
  {
   "cell_type": "code",
   "execution_count": 6,
   "metadata": {
    "collapsed": false
   },
   "outputs": [
    {
     "data": {
      "image/png": "[encoded data removed]",
      "text/plain": [
       "<matplotlib.figure.Figure at 0x7f55dada0470>"
      ]
     },
     "metadata": {},
     "output_type": "display_data"
    }
   ],
   "source": [
    "Y_predicted = model.predict(X, batch_size=100)\n",
    "line, = plt.plot(lins[0:180:shift],Y_predicted[0:int(180/shift),:], '-', linewidth=2)"
   ]
  }
 ],
 "metadata": {
  "kernelspec": {
   "display_name": "Python 3",
   "language": "python",
   "name": "python3"
  },
  "language_info": {
   "codemirror_mode": {
    "name": "ipython",
    "version": 3
   },
   "file_extension": ".py",
   "mimetype": "text/x-python",
   "name": "python",
   "nbconvert_exporter": "python",
   "pygments_lexer": "ipython3",
   "version": "3.4.3"
  }
 },
 "nbformat": 4,
 "nbformat_minor": 1
}
