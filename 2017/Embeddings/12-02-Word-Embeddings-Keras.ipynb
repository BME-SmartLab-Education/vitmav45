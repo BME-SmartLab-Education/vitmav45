{
 "cells": [
  {
   "cell_type": "markdown",
   "metadata": {},
   "source": [
    "# Copyright\n",
    "<PRE>\n",
    "Jelen iPython notebook a Budapesti Műszaki és Gazdaságtudományi Egyetemen tartott \n",
    "\"Deep Learning a gyakorlatban Python és LUA alapon\" tantárgy segédanyagaként készült, \n",
    "az alábbi forrás alapján: \n",
    "https://blog.keras.io/using-pre-trained-word-embeddings-in-a-keras-model.html\n",
    "\n",
    "A tantárgy honlapja: http://smartlab.tmit.bme.hu/oktatas-deep-learning \n",
    "Deep Learning kutatás: http://smartlab.tmit.bme.hu/deep-learning\n",
    "\n",
    "A forráskódot GPLv3 licensz védi. Újrafelhasználás esetén lehetőség szerint kérjük az alábbi szerzőt értesíteni.\n",
    "\n",
    "2016 (c) Szaszák György (szaszak kukac tmit pont bme pont hu)\n",
    "</PRE>"
   ]
  },
  {
   "cell_type": "markdown",
   "metadata": {},
   "source": [
    "## Dokumentumosztályozás\n",
    "\n",
    "Szóbeágyazások felhasználásával a dokumentumok téma szerinti osztályozása a feladat. Ezútal GloVe beágyazásokat importálunk majd."
   ]
  },
  {
   "cell_type": "code",
   "execution_count": 1,
   "metadata": {},
   "outputs": [
    {
     "name": "stderr",
     "output_type": "stream",
     "text": [
      "Using TensorFlow backend.\n"
     ]
    }
   ],
   "source": [
    "from __future__ import print_function\n",
    "import os\n",
    "import numpy as np\n",
    "np.random.seed(1337)\n",
    "\n",
    "# Importok, köztük egy text tokenizáló (szavakra bont, kidobálja a felesleges karaktereket)\n",
    "from keras.preprocessing.text import Tokenizer\n",
    "from keras.preprocessing.sequence import pad_sequences\n",
    "from keras.utils.np_utils import to_categorical\n",
    "from keras.layers import Dense, Input, Flatten\n",
    "from keras.layers import Conv1D, MaxPooling1D, Embedding\n",
    "from keras.models import Model\n",
    "import sys\n",
    "\n",
    "# GloVe beágyazásokat fogunk használni cikkek tematikus osztályozására\n",
    "BASE_DIR = '.'\n",
    "GLOVE_DIR = BASE_DIR + '/glove.6B/'\n",
    "TEXT_DATA_DIR = BASE_DIR + '/20_newsgroup/'\n",
    "MAX_NB_WORDS = 20000 # Ennyi különböző szót kezelünk majd\n",
    "EMBEDDING_DIM = 100 # Ekkora lesz a használt beágyazás"
   ]
  },
  {
   "cell_type": "markdown",
   "metadata": {},
   "source": [
    "## GloVe beágyazások importja\n",
    "A beágyazások készen vannak egy fájlban, amelynek felépítése: szó, majd 100 elemű float vektor, amely a beágyazást adja meg. Ezeket beolvassuk egy asszociatív tömbbe.\n",
    "Maga a beágyzás egy előre tanított súlymátrixból adódik, amelynek sorait címzik az egyes szavak.\n",
    "A GloVe-t angol Wikipédián tanították elő. Elérhető:\n",
    "http://nlp.stanford.edu/projects/glove/"
   ]
  },
  {
   "cell_type": "code",
   "execution_count": 2,
   "metadata": {},
   "outputs": [
    {
     "name": "stdout",
     "output_type": "stream",
     "text": [
      "Betöltött beágyazásaok száma: 400000\n",
      "A `the` beágyazó vektorának első 10 eleme: [-0.038194   -0.24487001  0.72812003 -0.39961001  0.083172    0.043953\n",
      " -0.39140999  0.3344     -0.57545     0.087459  ]\n"
     ]
    }
   ],
   "source": [
    "embeddings_index = {}\n",
    "f = open(os.path.join(GLOVE_DIR, 'glove.6B.100d.txt'))\n",
    "for line in f:\n",
    "    values = line.split() # \"tokenizáljuk\" a sort\n",
    "    word = values[0] # maga a szó\n",
    "    coefs = np.asarray(values[1:], dtype='float32') # a szót követő beágyazás 100 koordinátán\n",
    "    embeddings_index[word] = coefs\n",
    "f.close()\n",
    "\n",
    "print('Betöltött beágyazások száma:', len(embeddings_index))\n",
    "print('A `the` beágyazó vektorának első 10 eleme:', embeddings_index[\"the\"][:10])"
   ]
  },
  {
   "cell_type": "markdown",
   "metadata": {},
   "source": [
    "## Szövegkorpusz importja és előkészítése\n"
   ]
  },
  {
   "cell_type": "code",
   "execution_count": 6,
   "metadata": {},
   "outputs": [
    {
     "name": "stdout",
     "output_type": "stream",
     "text": [
      "Összes szöveg:  19997\n",
      "Összes címke:  19997\n"
     ]
    }
   ],
   "source": [
    "texts = []  # lista a szövegekből vett sztring mintákkal.\n",
    "labels_index = {}  # a topikokat egész azonosítóra képezzük (a topikokat a fájl neve adja meg)\n",
    "labels = []  # topikok listáját közben kigyűjtjük\n",
    "for name in sorted(os.listdir(TEXT_DATA_DIR)):\n",
    "    path = os.path.join(TEXT_DATA_DIR, name)\n",
    "    if os.path.isdir(path):\n",
    "        label_id = len(labels_index)\n",
    "        labels_index[name] = label_id # következő egész szám a következő ID\n",
    "        for fname in sorted(os.listdir(path)):\n",
    "            if fname.isdigit():\n",
    "                fpath = os.path.join(path, fname)\n",
    "                f = open(fpath, encoding='latin-1')\n",
    "                texts.append(f.read())\n",
    "                f.close()\n",
    "                labels.append(label_id)\n",
    "\n",
    "print('Összes szöveg: ', len(texts))\n",
    "#print('Összes címke: ', len(labels))"
   ]
  },
  {
   "cell_type": "markdown",
   "metadata": {},
   "source": [
    "## A szövegminták vektorizálása\n",
    "Ehhez szavakra kell bontanunk a szövegeket, a szövegeket vágni valamilyen maximális hosszra, illetve a rövidebbeket kiegészíteni ilyen hosszra, hogy a bemeneti szekvencia mindig azonos hosszúságú (itt most 1000) legyen."
   ]
  },
  {
   "cell_type": "code",
   "execution_count": 8,
   "metadata": {},
   "outputs": [
    {
     "name": "stdout",
     "output_type": "stream",
     "text": [
      "Különböző szavak száma az összes szövegben:  214873\n",
      "A label tenzor alakja: 19997\n",
      "A data tenzor alakja: (19997, 1000)\n",
      "A label tenzor alakja: (19997, 20)\n"
     ]
    }
   ],
   "source": [
    "# Tokenizálás\n",
    "tokenizer = Tokenizer(num_words=MAX_NB_WORDS) # Tokenizál, legfeljebb MAX_NB_WORDS szóra; token=szó\n",
    "tokenizer.fit_on_texts(texts)\n",
    "sequences = tokenizer.texts_to_sequences(texts) # Soronként egy-egy szöveg szavai következnek egymás után listában.\n",
    "\n",
    "word_index = tokenizer.word_index\n",
    "print('Különböző szavak száma az összes szövegben: ', len(word_index))\n",
    "\n",
    "# Vágjuk / kiegészítjük mindet 1000 szó hosszúra\n",
    "data = pad_sequences(sequences, maxlen=1000)\n",
    "\n",
    "labels = to_categorical(np.asarray(labels))\n",
    "print('A data tenzor alakja:', data.shape)\n",
    "print('A label tenzor alakja:', labels.shape)\n",
    "\n",
    "# Csinálunk egy validációs halmazt.\n",
    "# Teszthalmazunk most nem lesz, a tanítás során a validációs halmazra kapunk majd accuracy értéket,\n",
    "# ezt éles alkalmazásban ne csináljuk!\n",
    "indices = np.arange(data.shape[0])\n",
    "np.random.shuffle(indices)\n",
    "data = data[indices]\n",
    "labels = labels[indices]\n",
    "nb_validation_samples = int(0.2 * data.shape[0])\n",
    "\n",
    "# Keverés után marad egy tanító és egy validációs halmaz\n",
    "x_train = data[:-nb_validation_samples]\n",
    "y_train = labels[:-nb_validation_samples]\n",
    "x_val = data[-nb_validation_samples:]\n",
    "y_val = labels[-nb_validation_samples:]"
   ]
  },
  {
   "cell_type": "markdown",
   "metadata": {},
   "source": [
    "## Beágyazás alkalmazása a szövegekre\n",
    "Arra is figyelnünk kell, ha olyan szót találunk, amelynek nincs beágyazása (kinullázzuk)"
   ]
  },
  {
   "cell_type": "code",
   "execution_count": 9,
   "metadata": {},
   "outputs": [
    {
     "name": "stdout",
     "output_type": "stream",
     "text": [
      "A szövegre alkalmazott beágyazási mátrix sorainak száma: 20001\n"
     ]
    }
   ],
   "source": [
    "nb_words = min(MAX_NB_WORDS, len(word_index)) # Nincs értelme nagyobbra lőni, mint az adott szótárméret a GloVe-ban\n",
    "embedding_matrix = np.zeros((nb_words + 1, EMBEDDING_DIM)) # Beágyazási mátrix, az importáltból fogjuk a sajátjunkat szemezgetni és átindexelni\n",
    "for word, i in word_index.items():\n",
    "    if i > MAX_NB_WORDS:\n",
    "        continue\n",
    "    embedding_vector = embeddings_index.get(word)\n",
    "    if embedding_vector is not None: # különben csupa nulla lesz a beágyazóvektor\n",
    "        embedding_matrix[i] = embedding_vector\n",
    "        \n",
    "print ('A szövegre alkalmazott beágyazási mátrix sorainak száma:', len(embedding_matrix))"
   ]
  },
  {
   "cell_type": "markdown",
   "metadata": {},
   "source": [
    "## Beágyazó réteg elkészítése\n",
    "Csinálunk egy beágyazó réteget, az lesz a háló elején. Súlyait befagyasztjuk, "
   ]
  },
  {
   "cell_type": "code",
   "execution_count": 10,
   "metadata": {},
   "outputs": [
    {
     "name": "stderr",
     "output_type": "stream",
     "text": [
      "/usr/local/lib/python3.4/dist-packages/ipykernel_launcher.py:27: UserWarning: The `nb_epoch` argument in `fit` has been renamed `epochs`.\n"
     ]
    },
    {
     "name": "stdout",
     "output_type": "stream",
     "text": [
      "Train on 15998 samples, validate on 3999 samples\n",
      "Epoch 1/2\n",
      "15998/15998 [==============================] - 252s 16ms/step - loss: 1.4853 - acc: 0.5210 - val_loss: 0.2310 - val_acc: 0.9380\n",
      "Epoch 2/2\n",
      "15998/15998 [==============================] - 253s 16ms/step - loss: 0.2018 - acc: 0.9353 - val_loss: 0.1361 - val_acc: 0.9470\n"
     ]
    },
    {
     "data": {
      "text/plain": [
       "<keras.callbacks.History at 0x7fc620a455c0>"
      ]
     },
     "execution_count": 10,
     "metadata": {},
     "output_type": "execute_result"
    }
   ],
   "source": [
    "embedding_layer = Embedding(nb_words + 1,\n",
    "                            EMBEDDING_DIM, # Ilyen hosszúak a beágyazó vektoraink\n",
    "                            weights=[embedding_matrix],\n",
    "                            input_length=1000, # Ez az első 1000 szó minden szövegrészből\n",
    "                            trainable=False) # Súlyokat nem hagyjuk módosítani\n",
    "\n",
    "\n",
    "# Tanítunk egy 1d konvolúciós hálót osztályozásra\n",
    "sequence_input = Input(shape=(1000,), dtype='int32')\n",
    "embedded_sequences = embedding_layer(sequence_input)\n",
    "x = Conv1D(128, 5, activation='relu')(embedded_sequences) # 128 5-ös szűrő fut végig a szövegeken háromszor\n",
    "x = MaxPooling1D(5)(x)\n",
    "x = Conv1D(128, 5, activation='relu')(x)\n",
    "x = MaxPooling1D(5)(x)\n",
    "x = Conv1D(128, 5, activation='relu')(x)\n",
    "x = MaxPooling1D(35)(x)\n",
    "x = Flatten()(x)\n",
    "x = Dense(128, activation='relu')(x)\n",
    "preds = Dense(len(labels_index), activation='softmax')(x)\n",
    "\n",
    "model = Model(sequence_input, preds)\n",
    "model.compile(loss='categorical_crossentropy',\n",
    "              optimizer='rmsprop',\n",
    "              metrics=['acc'])\n",
    "\n",
    "model.fit(x_train, y_train, validation_data=(x_val, y_val),\n",
    "          epochs=2, batch_size=128)\n"
   ]
  },
  {
   "cell_type": "code",
   "execution_count": null,
   "metadata": {},
   "outputs": [],
   "source": []
  }
 ],
 "metadata": {
  "kernelspec": {
   "display_name": "Python 3",
   "language": "python",
   "name": "python3"
  },
  "language_info": {
   "codemirror_mode": {
    "name": "ipython",
    "version": 3
   },
   "file_extension": ".py",
   "mimetype": "text/x-python",
   "name": "python",
   "nbconvert_exporter": "python",
   "pygments_lexer": "ipython3",
   "version": "3.4.3"
  }
 },
 "nbformat": 4,
 "nbformat_minor": 1
}
