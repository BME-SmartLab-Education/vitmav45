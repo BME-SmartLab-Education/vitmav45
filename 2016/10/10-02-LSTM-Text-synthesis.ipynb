{
 "cells": [
  {
   "cell_type": "markdown",
   "metadata": {},
   "source": [
    "# Copyright\n",
    "\n",
    "Jelen iPython notebook a Budapesti Műszaki és Gazdaságtudományi Egyetemen tartott \"Deep Learning a gyakorlatban Python és LUA alapon\" tantárgy segédanyagaként készült a https://github.com/fchollet/keras/blob/master/examples/lstm_text_generation.py linken elérhető kód alapján.\n",
    "\n",
    "A tantárgy honlapja: http://smartlab.tmit.bme.hu/oktatas-deep-learning\n",
    "Deep Learning kutatás: http://smartlab.tmit.bme.hu/deep-learning\n",
    "\n",
    "A forráskódot GPLv3 licensz védi. Újrafelhasználás esetén lehetőség szerint kérejük az alábbi szerzőt értesíteni.\n",
    "\n",
    "2016 (c) Szaszák György (szaszak kukac tmit pont bme pont hu)\n"
   ]
  },
  {
   "cell_type": "markdown",
   "metadata": {},
   "source": [
    "# Szöveggenerálás LSTM-mel\n",
    "\n",
    "Karakterszekvenciákat tanulunk, ez alapján valamilyen seed-del indítva megtanítjuk a számítógépet szöveget írni."
   ]
  },
  {
   "cell_type": "code",
   "execution_count": 50,
   "metadata": {
    "collapsed": false,
    "scrolled": true
   },
   "outputs": [
    {
     "name": "stdout",
     "output_type": "stream",
     "text": [
      "Karakterek száma a szövegben összesen: 600893\n"
     ]
    }
   ],
   "source": [
    "# Importok\n",
    "from __future__ import print_function\n",
    "from keras.models import Sequential\n",
    "from keras.layers import Dense, Activation, Dropout\n",
    "from keras.layers import LSTM\n",
    "from keras.optimizers import RMSprop\n",
    "from keras.utils.data_utils import get_file\n",
    "import numpy as np\n",
    "import random\n",
    "import sys\n",
    "\n",
    "# Szövegkorpusz kiválasztása és letöltése\n",
    "path = get_file('nietzsche.txt', origin=\"https://s3.amazonaws.com/text-datasets/nietzsche.txt\")\n",
    "text = open(path).read().lower()\n",
    "print('Karakterek száma a szövegben összesen:', len(text))"
   ]
  },
  {
   "cell_type": "markdown",
   "metadata": {},
   "source": [
    "Karakter alapon dolgozunk, a karaktereket leképezzük egész azonosítókra."
   ]
  },
  {
   "cell_type": "code",
   "execution_count": 51,
   "metadata": {
    "collapsed": false
   },
   "outputs": [
    {
     "name": "stdout",
     "output_type": "stream",
     "text": [
      "Előforduló karakterek száma: 57\n",
      "Karakterleképezések: {0: '\\n', 1: ' ', 2: '!', 3: '\"', 4: \"'\", 5: '(', 6: ')', 7: ',', 8: '-', 9: '.', 10: '0', 11: '1', 12: '2', 13: '3', 14: '4', 15: '5', 16: '6', 17: '7', 18: '8', 19: '9', 20: ':', 21: ';', 22: '=', 23: '?', 24: '[', 25: ']', 26: '_', 27: 'a', 28: 'b', 29: 'c', 30: 'd', 31: 'e', 32: 'f', 33: 'g', 34: 'h', 35: 'i', 36: 'j', 37: 'k', 38: 'l', 39: 'm', 40: 'n', 41: 'o', 42: 'p', 43: 'q', 44: 'r', 45: 's', 46: 't', 47: 'u', 48: 'v', 49: 'w', 50: 'x', 51: 'y', 52: 'z', 53: 'ä', 54: 'æ', 55: 'é', 56: 'ë'}\n"
     ]
    }
   ],
   "source": [
    "chars = sorted(list(set(text)))\n",
    "print('Előforduló karakterek száma:', len(chars))\n",
    "# Szótárban a karakter-szám és az inverz leképezés\n",
    "char_indices = dict((c, i) for i, c in enumerate(chars))\n",
    "indices_char = dict((i, c) for i, c in enumerate(chars))\n",
    "\n",
    "print (\"Karakterleképezések:\", indices_char)"
   ]
  },
  {
   "cell_type": "markdown",
   "metadata": {},
   "source": [
    "A szöveget maxlen hosszú egységekbe tagoljuk. Ezt most sentence-nek nevezzük, de ez nem egyezik a valós mondatokkal. Tároljuk a következő karaktert, az lesz a target. Ezután step karakterrel odébb lépünk és megcsináljuk ugyanezt. step << maxlen, tehát nagy az átlapolás."
   ]
  },
  {
   "cell_type": "code",
   "execution_count": 63,
   "metadata": {
    "collapsed": false
   },
   "outputs": [
    {
     "name": "stdout",
     "output_type": "stream",
     "text": [
      "Tanítóminták száma: 200285\n",
      "Egy random tanítóminta: herein attainable, and also speaks of \"t\n"
     ]
    }
   ],
   "source": [
    "# A szöveget maxlen hosszú egységekbe tagoljuk. Ezt most sentence-nek nevezzük, de ez nem egyezik a valós mondatokkal.\n",
    "maxlen = 40\n",
    "step = 3\n",
    "sentences = []\n",
    "next_chars = []\n",
    "for i in range(0, len(text) - maxlen, step):\n",
    "    sentences.append(text[i: i + maxlen])\n",
    "    next_chars.append(text[i + maxlen])\n",
    "print('Tanítóminták száma:', len(sentences))\n",
    "x_i = np.random.randint(0, len(sentences))\n",
    "print('Egy random tanítóminta:', sentences[x_i])"
   ]
  },
  {
   "cell_type": "markdown",
   "metadata": {},
   "source": [
    "Ahány karakterünk van, annyi dimenziós one hot lesz a bemenet. A betűk mellett minden más szövegben előforduló karaktert (írásjelek, esetleg számok, stb.) is használunk."
   ]
  },
  {
   "cell_type": "code",
   "execution_count": 64,
   "metadata": {
    "collapsed": false
   },
   "outputs": [
    {
     "name": "stdout",
     "output_type": "stream",
     "text": [
      "Adatok tenzorba rendezése...\n",
      "Tanító tenzor alakja: (200285, 40, 57)\n",
      "Teszt tenzor alakja: (200285, 57)\n",
      "Az előző random minta 4. karakterének vektora:  [False False False False False False False False False False False False\n",
      " False False False False False False False False False False False False\n",
      " False False False False False False False  True False False False False\n",
      " False False False False False False False False False False False False\n",
      " False False False False False False False False False] A 4. karakter: e\n",
      "Az előző random minta targetje:  [False False False False False False False False False False False False\n",
      " False False False False False False False False False False False False\n",
      " False False False False False False False False False False  True False\n",
      " False False False False False False False False False False False False\n",
      " False False False False False False False False False]\n"
     ]
    }
   ],
   "source": [
    "print('Adatok tenzorba rendezése...')\n",
    "# X tanító, y target\n",
    "X = np.zeros((len(sentences), maxlen, len(chars)), dtype=np.bool)\n",
    "y = np.zeros((len(sentences), len(chars)), dtype=np.bool)\n",
    "# Feltöltjük one-hot kódolással\n",
    "for i, sentence in enumerate(sentences):\n",
    "    for t, char in enumerate(sentence):\n",
    "        X[i, t, char_indices[char]] = 1\n",
    "    y[i, char_indices[next_chars[i]]] = 1\n",
    "\n",
    "print (\"Tanító tenzor alakja:\", X.shape)\n",
    "print (\"Teszt tenzor alakja:\", y.shape)\n",
    "print (\"Az előző random minta 4. karakterének vektora: \", X[x_i,3,:], \"A 4. karakter:\", sentences[x_i][3])\n",
    "print (\"Az előző random minta targetje: \", y[x_i,:])"
   ]
  },
  {
   "cell_type": "markdown",
   "metadata": {},
   "source": [
    "Összerakjuk a modellt"
   ]
  },
  {
   "cell_type": "code",
   "execution_count": 66,
   "metadata": {
    "collapsed": true
   },
   "outputs": [],
   "source": [
    "model = Sequential()\n",
    "#Jön az LSTM réteg. Lehet több is, akkor meg kell tartanunk az összes kimenetet\n",
    "#model.add(LSTM(128, input_shape=(maxlen, len(chars)),return_sequences=True))\n",
    "model.add(LSTM(128, input_shape=(maxlen, len(chars))))\n",
    "model.add(Dense(len(chars)))\n",
    "model.add(Activation('softmax'))\n",
    "\n",
    "optimizer = RMSprop(lr=0.01)\n",
    "model.compile(loss='categorical_crossentropy', optimizer=optimizer)"
   ]
  },
  {
   "cell_type": "markdown",
   "metadata": {},
   "source": [
    "Tanítás előtt még írunk egy segédfüggvényt, amellyel mintát vehetünk egy eloszlásból. (Adott eloszlásból kiválasztjuk, hogy mégis melyik legyen az aktuális realizáció.) Így fogunk írni karakterről karakterre. A temperature változó hangolja, mennyire legyünk újító szelleműek (minél nagyobb, annál inkább felhúzzuk a kisebb valószínűségű karaktereket)."
   ]
  },
  {
   "cell_type": "code",
   "execution_count": 36,
   "metadata": {
    "collapsed": true
   },
   "outputs": [],
   "source": [
    "def sample(preds, temperature=1.0):\n",
    "    preds = np.asarray(preds).astype('float64')\n",
    "    preds = np.log(preds) / temperature\n",
    "    exp_preds = np.exp(preds)\n",
    "    preds = exp_preds / np.sum(exp_preds) # Az összes lehetőség egyre szummázódjon (lásd softmax képlet)\n",
    "    probas = np.random.multinomial(1, preds, 1)\n",
    "    return np.argmax(probas)"
   ]
  },
  {
   "cell_type": "markdown",
   "metadata": {},
   "source": [
    "Tanítás, iterációnként szimuláljuk a működést. Elmentjük a modellt."
   ]
  },
  {
   "cell_type": "code",
   "execution_count": null,
   "metadata": {
    "collapsed": false
   },
   "outputs": [
    {
     "name": "stdout",
     "output_type": "stream",
     "text": [
      "\n",
      "==================================================\n",
      "Iteration 1\n",
      "Epoch 1/1\n",
      " 13568/200285 [=>............................] - ETA: 348s - loss: 1.6729"
     ]
    }
   ],
   "source": [
    "for iteration in range(1, 60):\n",
    "    print()\n",
    "    print('=' * 50)\n",
    "    print('Iteration', iteration)\n",
    "    model.fit(X, y, batch_size=128, nb_epoch=1) # a for ciklus vezérli az epochokat, itt futtatunk egy epochot\n",
    "    \n",
    "    modelfile=\"nietzsche_model_it_\"+str(iteration)+\".h5\" # menthetjük a modellt, hogy később tudjuk futtatni\n",
    "    model.save(modelfile)\n",
    "\n",
    "    start_index = random.randint(0, len(text) - maxlen - 1)\n",
    "\n",
    "    for diversity in [0.2, 0.5, 1.0, 1.2]: # a mintavételhez kell majd (temperature)\n",
    "        print()\n",
    "        print('----- diversity:', diversity)\n",
    "\n",
    "        generated = ''\n",
    "        sentence = text[start_index: start_index + maxlen] # seed random választva a szövegből\n",
    "        generated += sentence\n",
    "        print('----- Generating with seed: \"' + sentence + '\"')\n",
    "        sys.stdout.write(generated)\n",
    "\n",
    "        for i in range(400): # legenerálunk 400 karaktert egymás után\n",
    "            x = np.zeros((1, maxlen, len(chars))) # ez megy a bemenetre\n",
    "            for t, char in enumerate(sentence):\n",
    "                x[0, t, char_indices[char]] = 1. # x-et feltöltjük karakter -> egész leképezéssel\n",
    "\n",
    "            preds = model.predict(x, verbose=0)[0] # forward pass\n",
    "            next_index = sample(preds, diversity) # kimeneten kapott eloszlásból mintát veszünk\n",
    "            next_char = indices_char[next_index] # a mintát karakterre képezzük\n",
    "\n",
    "            generated += next_char\n",
    "            sentence = sentence[1:] + next_char # léptetünk egy karatert (első kiesik, utolsónak bejön a most generált)\n",
    "\n",
    "            sys.stdout.write(next_char) # kiírjuk, amit generáltunk\n",
    "            sys.stdout.flush()\n",
    "        print()"
   ]
  },
  {
   "cell_type": "markdown",
   "metadata": {},
   "source": [
    "Korábban tanított modell betöltése és szöveggenerálás"
   ]
  },
  {
   "cell_type": "code",
   "execution_count": 55,
   "metadata": {
    "collapsed": false,
    "scrolled": true
   },
   "outputs": [
    {
     "name": "stdout",
     "output_type": "stream",
     "text": [
      "\n",
      "----- diversity: 0.2\n",
      "----- Generating with seed: \"ay and believe--the jews performed the m\"\n",
      "ay and believe--the jews performed the morality of the ordeaing of the sensation of the most as the free spvenping the most an ancient extent to the sensation of the probably the subjection and actions and self-conscious and self-conscious of the soul of the problem of the sensation of the sense of the morality of the same as the sensation of the morality of the soul of the self-conception of the souls of the probably and as the sensiti\n",
      "\n",
      "----- diversity: 0.5\n",
      "----- Generating with seed: \"ay and believe--the jews performed the m\"\n",
      "ay and believe--the jews performed the morality of the problem of the power as a platfory of an endorater of the drationing so in considerable the point, as it not to any honesty, and and bad acts and self-starious sense, in the uniformed to the freedom, and who has along hounds and everything of the ordeal think of the greater is to be what it is the probably to the virtues, and the world of an ascetic of an existent that it have not a\n",
      "\n",
      "----- diversity: 1.0\n",
      "----- Generating with seed: \"ay and believe--the jews performed the m\"\n",
      "ay and believe--the jews performed the meyielid at the probably \"names to them is does he as\n",
      "to a trife, his that, and furthed only appearous\n",
      "potical,\n",
      "course little his\n",
      "meraphand turbonces, they have \"laintolers\n",
      "systew\n",
      "possible being in\"s,\" the? has someloiews to being the\n",
      "about detrolicationism and cause is that our culture of sciences; the graidness of\n",
      "it, yes and belief in repposed. and coloury in theirs as gradation of motis\n",
      "valuati\n",
      "\n",
      "----- diversity: 1.2\n",
      "----- Generating with seed: \"ay and believe--the jews performed the m\"\n",
      "ay and believe--the jews performed the moke, yerg echoldorsdian for error of as is\n",
      "strong-it, which from this\n",
      "\"order same in\n",
      "loavitie, which were more of the light, and this, and not has been super-sonumety-bically to trisir-duclit.x and or men (the empos who would terpoin. well: the imminance\n",
      "world\n",
      "in le, their ill. an acco, of them fir among uponorrant\" as\n",
      ". by a fashide and sensation mind a harkly. they become any vermes to casp roun\n"
     ]
    }
   ],
   "source": [
    "from keras.models import load_model\n",
    "\n",
    "startiteration = 1 # 5, 20, 40 vagy 60 lehet\n",
    "\n",
    "model = load_model(\"nietzsche_model_it_\"+str(startiteration)+\".h5\") # modell betöltése\n",
    "\n",
    "for diversity in [0.2, 0.5, 1.0, 1.2]: # a mintavételhez kell majd (temperature)\n",
    "        print()\n",
    "        print('----- diversity:', diversity)\n",
    "\n",
    "        generated = ''\n",
    "        sentence = text[start_index: start_index + maxlen] # seed random választva a szövegből\n",
    "        generated += sentence\n",
    "        print('----- Generating with seed: \"' + sentence + '\"')\n",
    "        sys.stdout.write(generated)\n",
    "\n",
    "        for i in range(400): # legenerálunk 400 karaktert egymás után\n",
    "            x = np.zeros((1, maxlen, len(chars))) # ez megy a bemenetre\n",
    "            for t, char in enumerate(sentence):\n",
    "                x[0, t, char_indices[char]] = 1. # x-et feltöltjük karakter -> egész leképezéssel\n",
    "\n",
    "            preds = model.predict(x, verbose=0)[0] # forward pass\n",
    "            next_index = sample(preds, diversity) # kimeneten kapott eloszlásból mintát veszünk\n",
    "            next_char = indices_char[next_index] # a mintát karakterre képezzük\n",
    "\n",
    "            generated += next_char\n",
    "            sentence = sentence[1:] + next_char # léptetünk egy karatert (első kiesik, utolsónak bejön a most generált)\n",
    "\n",
    "            sys.stdout.write(next_char) # kiírjuk, amit generáltunk\n",
    "            sys.stdout.flush()\n",
    "        print()\n"
   ]
  },
  {
   "cell_type": "code",
   "execution_count": null,
   "metadata": {
    "collapsed": true
   },
   "outputs": [],
   "source": []
  }
 ],
 "metadata": {
  "anaconda-cloud": {},
  "kernelspec": {
   "display_name": "Python 3",
   "language": "python",
   "name": "python3"
  },
  "language_info": {
   "codemirror_mode": {
    "name": "ipython",
    "version": 3
   },
   "file_extension": ".py",
   "mimetype": "text/x-python",
   "name": "python",
   "nbconvert_exporter": "python",
   "pygments_lexer": "ipython3",
   "version": "3.4.3"
  }
 },
 "nbformat": 4,
 "nbformat_minor": 0
}
