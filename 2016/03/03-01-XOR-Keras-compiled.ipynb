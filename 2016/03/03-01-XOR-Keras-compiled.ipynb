{
 "cells": [
  {
   "cell_type": "markdown",
   "metadata": {},
   "source": [
    "# Copyright\n",
    "\n",
    "<PRE>\n",
    "Jelen iPython notebook a Budapesti Műszaki és Gazdaságtudományi Egyetemen tartott \"Deep Learning a gyakorlatban Python és LUA alapon\" tantárgy segédanyagaként készült. \n",
    "A tantárgy honlapja: http://smartlab.tmit.bme.hu/oktatas-deep-learning\n",
    "Deep Learning kutatás: http://smartlab.tmit.bme.hu/deep-learning\n",
    "\n",
    "A notebook bármely részének újra felhasználása, publikálása csak a szerzők írásos beleegyezése esetén megegengedett.\n",
    "\n",
    "2016 (c) Császár Márk, Tóth Bálint Pál (toth.b kukac tmit pont bme pont hu)\n",
    "</PRE>"
   ]
  },
  {
   "cell_type": "markdown",
   "metadata": {},
   "source": [
    "# XOR probléma"
   ]
  },
  {
   "cell_type": "markdown",
   "metadata": {},
   "source": [
    "Az előzőleg (02_01_XOR) bemutatott XOR problémát e notebookban egy Python alapokra építkező, gépi tanulást elősegítő keretrendszerrel, a Kerassal fogjuk megoldani. A Keras az egyik legelterjedtebb mély tanuló keretrendszer, köszönhetően magas szintű megvalósításának. Backend-nek TensorFlow-t és Thenao-t is tud használni.\n",
    "A kódunk elején betöltjük a Keras csomagból a szükséges modulokat."
   ]
  },
  {
   "cell_type": "code",
   "execution_count": 1,
   "metadata": {
    "collapsed": false
   },
   "outputs": [
    {
     "name": "stderr",
     "output_type": "stream",
     "text": [
      "Using Theano backend.\n"
     ]
    }
   ],
   "source": [
    "# Először is, az egymáshoz képest lineárisan elhelyezkedő neurális hálózat modelljét.\n",
    "from keras.models import Sequential\n",
    "# Szükségünk van továbbá az előrecsatolt rétegekre, illetve a rajtuk elvégzett aktivációs függvényre.\n",
    "from keras.layers.core import Dense, Activation\n",
    "# A Callback függvény rengeteg hasznos információt szolgáltat a tanítási folyamat során, amelyekre kíváncsiak\n",
    "# szoktunk lenni. \n",
    "from keras.callbacks import Callback\n",
    "# A tanulási folyamat során a széles körben alkalmazott Stochastic Gradient Descent metódust alkalmazzuk mini-batch-eken.\n",
    "# Ennek segítségével tudjuk a tanulási paramétereket szabályozni.\n",
    "from keras.optimizers import SGD\n",
    "# A jól ismert Numpy betöltése.\n",
    "import numpy as np\n",
    "# Matplotlib grafikus megjelenítőcsomag meghívása\n",
    "import matplotlib.pyplot as plt\n",
    "%matplotlib inline"
   ]
  },
  {
   "cell_type": "markdown",
   "metadata": {},
   "source": [
    "Az előbb már említett Callback függvényre alapozva a TrainingHistory osztállyal tudunk kinyerni értékes metrikákat, amelyek a hálózat tanulási folyamatát jellemzik. "
   ]
  },
  {
   "cell_type": "code",
   "execution_count": 2,
   "metadata": {
    "collapsed": true
   },
   "outputs": [],
   "source": [
    "class TrainingHistory(Callback):\n",
    "    # Tanulási folyamat elején létrehozunk egy-egy üres listát a kinyerni kívánt metrikák tárolása céljából.\n",
    "    def on_train_begin(self, logs={}):\n",
    "        # Hiba mértéke a tanító adatokon.\n",
    "        self.losses = []\n",
    "        # Hiba mértéke a validációs adatokon.\n",
    "        self.valid_losses = []\n",
    "        # A modell jóságát, pontosságát mérő mutatószám a tanító adatokon. \n",
    "        self.accs = []\n",
    "        # A modell jóságát, pontosságát mérő mutatószám a validációs adatokon. \n",
    "        self.valid_accs = []\n",
    "        # A tanítási fázisok sorszámozása.\n",
    "        self.epoch = 0\n",
    "    \n",
    "    # Minden egyes tanítási fázis végén mentsük el, hogy hogyan teljesít aktuálisan a háló. \n",
    "    def on_epoch_end(self, epoch, logs={}):\n",
    "        if epoch % 1 == 0:\n",
    "            self.losses.append(logs.get('loss'))\n",
    "            self.valid_losses.append(logs.get('val_loss'))\n",
    "            self.accs.append(logs.get('acc'))\n",
    "            self.valid_accs.append(logs.get('val_acc'))\n",
    "            self.epoch += 1\n",
    "            \n",
    "history = TrainingHistory()"
   ]
  },
  {
   "cell_type": "code",
   "execution_count": 3,
   "metadata": {
    "collapsed": true
   },
   "outputs": [],
   "source": [
    "# Modell felépítése\n",
    "\n",
    "# A modell struktúráját az egymásra linárisan épülő rétegek adják.\n",
    "model = Sequential()\n",
    "# Az első rejtett réteg definiálása, amely két bemenetről kapja az adatokat.\n",
    "model.add(Dense(output_dim=10, input_dim=2))\n",
    "# A rétegen alkalmazott szigmoid (hiperbolikus tanges) aktivációs függvény.\n",
    "model.add(Activation(\"tanh\"))\n",
    "# Utolsó réteg definiálása, amelynek egy kimenete van.\n",
    "model.add(Dense(output_dim=1))\n",
    "# A rétegen alkalmazott szigmoid (hiperbolikus tanges) aktivációs függvény.\n",
    "model.add(Activation(\"tanh\"))\n",
    "# A tanulás előtt be kell állítani, hogy a tanulási folyamat milyen paraméterek mentén történjen.\n",
    "# Az első paraméter a hiba meghatározására az átlagos négyzetes hiba értéket fogjuk alkalmazni.\n",
    "model.compile(loss='mean_squared_error',\n",
    "              # A korábbiakban már említett SGD optimatizáló metódusban tudjuk meghatározni a tanulási rátát\n",
    "              # a momemtum módszer értékét, illetve, hogy használjon a háló Nesterov-momemtum módszert.\n",
    "              optimizer= SGD(lr=0.1, momentum=0.001, nesterov=True),\n",
    "              metrics=['accuracy'])"
   ]
  },
  {
   "cell_type": "markdown",
   "metadata": {},
   "source": [
    "Tanító adatok megadása és megjelenítése:"
   ]
  },
  {
   "cell_type": "code",
   "execution_count": 4,
   "metadata": {
    "collapsed": false
   },
   "outputs": [
    {
     "data": {
      "image/png": "[encoded data removed]",
      "text/plain": [
       "<matplotlib.figure.Figure at 0x7f42660e8198>"
      ]
     },
     "metadata": {},
     "output_type": "display_data"
    }
   ],
   "source": [
    "tr_set = np.array([[0,0],[0,1],[1,0],[1,1]], dtype= \"float32\")\n",
    "tr_vals = np.array([[0],[1],[1],[0]], dtype= \"float32\")\n",
    "\n",
    "# Igaz pontok elhelyezkedése\n",
    "true_x = [1, 0]\n",
    "true_y = [0, 1]\n",
    "\n",
    "# Hamis pontok elhelyezkedése\n",
    "false_x = [0, 1]\n",
    "false_y = [0, 1]\n",
    "\n",
    "# Jelöljük pirossal a hamis logikai értékeket, zölddel pedig az igazakat.\n",
    "plot1 = plt.plot(true_x, true_y,'gs')\n",
    "plot2 = plt.plot(false_x, false_y, 'rs')\n",
    "\n",
    "# A jobb ábrázálhatóság miatt, szélesebb tartományokat jelenítünk meg\n",
    "plt.xlim(-0.5, 1.5)\n",
    "plt.ylim(-0.5, 1.5)\n",
    "plt.grid(True)\n",
    "plt.show()"
   ]
  },
  {
   "cell_type": "markdown",
   "metadata": {},
   "source": [
    "Validációs adatok (azonos a tanító adatokkal, most azért van rájuk szükség, mert a Keras-nak külön meg kell adni)."
   ]
  },
  {
   "cell_type": "code",
   "execution_count": 5,
   "metadata": {
    "collapsed": true
   },
   "outputs": [],
   "source": [
    "val_set = np.array([[0,0],[0,1],[1,0],[1,1]], dtype= \"float32\")\n",
    "val_vals = np.array([[0],[1],[1],[0]], dtype= \"float32\")"
   ]
  },
  {
   "cell_type": "markdown",
   "metadata": {},
   "source": [
    "# A háló tanítása és tesztelése"
   ]
  },
  {
   "cell_type": "markdown",
   "metadata": {},
   "source": [
    "Tanítási folyamat és annak a paraméterei. A paraméterek sorát a tanulási adatokkal kell kezdeni. Ez után számos paramétert definiálhatunk, melyek rövid magyarázatát kommentekben olvashatjátok:"
   ]
  },
  {
   "cell_type": "code",
   "execution_count": 6,
   "metadata": {
    "collapsed": false
   },
   "outputs": [
    {
     "data": {
      "text/plain": [
       "<keras.callbacks.History at 0x7f425e685c18>"
      ]
     },
     "execution_count": 6,
     "metadata": {},
     "output_type": "execute_result"
    }
   ],
   "source": [
    "model.fit(tr_set,\n",
    "          # majd a kimenő adatokat.\n",
    "          tr_vals,\n",
    "          # A tanulási folyamat során beállíthatjuk, hogy a tanító adatsorból hány elem kerüljön bele egy-egy\n",
    "          # batch-be.\n",
    "          batch_size=4,\n",
    "          # Tanulási fázisok száma.\n",
    "          nb_epoch=2500,\n",
    "          # Verbose paraméter a tanulás során közli azokat az információkat, amelyek mi szeretnénk kinyerni.\n",
    "          # Hamis értékre azért volt szükség, hogy a tanulási folyamatot felgyorsítsuk. \n",
    "          verbose=0, \n",
    "          # A tanulással párhuzamosan a validáció is fut.\n",
    "          validation_data=(val_set, val_vals), \n",
    "          # A korábbiakban már tárgyalt tanulást jellemző metrikákat a history nevű változóban szeretnénk tárolni.\n",
    "          callbacks=[history], \n",
    "          # A bemenő adatokat keverje meg a program.\n",
    "          shuffle= True)"
   ]
  },
  {
   "cell_type": "markdown",
   "metadata": {},
   "source": [
    "A hálózat hibájának megjelenítése mint a tanító, mind a validációs adathalmazon:"
   ]
  },
  {
   "cell_type": "code",
   "execution_count": 7,
   "metadata": {
    "collapsed": false
   },
   "outputs": [
    {
     "data": {
      "image/png": "[encoded data removed]",
      "text/plain": [
       "<matplotlib.figure.Figure at 0x7f425de517f0>"
      ]
     },
     "metadata": {},
     "output_type": "display_data"
    }
   ],
   "source": [
    "plt.figure(figsize=(10, 5))\n",
    "plt.title('Hiba mértéke')\n",
    "plt.plot(np.arange(history.epoch), history.losses, color ='g', label='Hiba mértéke a tanító adatokon') \n",
    "plt.plot(np.arange(history.epoch), history.valid_losses, color ='b', label='Hiba mértéke a validációs adatokon')\n",
    "plt.legend(loc='upper right')\n",
    "plt.xlabel('Tanulási iterációk száma')\n",
    "plt.ylabel('y')\n",
    "plt.grid(True)\n",
    "plt.show()"
   ]
  },
  {
   "cell_type": "markdown",
   "metadata": {},
   "source": [
    "Tesztelés és megjelenítés fázisa:"
   ]
  },
  {
   "cell_type": "code",
   "execution_count": 8,
   "metadata": {
    "collapsed": false
   },
   "outputs": [
    {
     "name": "stdout",
     "output_type": "stream",
     "text": [
      "0 [ 0.  0.] 0.00  (elvárt eredmény 0)\n",
      "1 [ 0.  1.] 0.97  (elvárt eredmény 1)\n",
      "2 [ 1.  0.] 0.97  (elvárt eredmény 1)\n",
      "3 [ 1.  1.] 0.00  (elvárt eredmény 0)\n"
     ]
    },
    {
     "data": {
      "image/png": "[encoded data removed]",
      "text/plain": [
       "<matplotlib.figure.Figure at 0x7f425c580d68>"
      ]
     },
     "metadata": {},
     "output_type": "display_data"
    }
   ],
   "source": [
    "ts_set = np.array([[0,0],[0,1],[1,0],[1,1]], dtype= \"float32\")\n",
    "ts_vals = np.array([[0],[1],[1],[0]], dtype= \"float32\")\n",
    "\n",
    "# A hálózat becslésének beállításai\n",
    "pred_res = model.predict(ts_set, batch_size=32, verbose=0)\n",
    "\n",
    "# Szöveges megjelenítés:\n",
    "\n",
    "for i in range(len(ts_set)):\n",
    "    print (i, ts_set[i], '%.2f' % pred_res[i], ' (elvárt eredmény %d)' % ts_vals[i])\n",
    "\n",
    "# Grafikus megjelenítés\n",
    "plt.figure(figsize=(10, 5))\n",
    "plt.title('XOR logikai kapu')\n",
    "\n",
    "# Eredeti értékek megjelenítése:\n",
    "\n",
    "# Igaz pontok elhelyezkedése\n",
    "true_x = [1, 0]\n",
    "true_y = [0, 1]\n",
    "\n",
    "# Hamis pontok elhelyezkedése\n",
    "false_x = [0, 1]\n",
    "false_y = [0, 1]\n",
    "\n",
    "# Jelöljük pirossal a hamis logikai értékeket, zölddel pedig az igazakat.\n",
    "plot1 = plt.plot(true_x, true_y,'gs', label = 'Eredeti igaz értékek')\n",
    "plot2 = plt.plot(false_x, false_y, 'rs', label = 'Eredeti Hamis értékek')\n",
    "\n",
    "\n",
    "# Háló által becsült értékek megjelenítése:\n",
    "\n",
    "# Igaz pontok elhelyezkedése\n",
    "true_x = [1, 0]\n",
    "true_y = [pred_res[0], pred_res[2]]\n",
    "\n",
    "# Hamis pontok elhelyezkedése\n",
    "false_x = [0, 1]\n",
    "false_y = [pred_res[3], pred_res[1]]\n",
    "\n",
    "plot3 = plt.plot(true_x, true_y, 'bs', lw = 2, label = 'Becsült igaz értékek')\n",
    "plot4 = plt.plot(false_x, false_y, 'ys', lw = 2, label = 'Becsült hamis értékek')\n",
    "plt.legend(loc='upper right')\n",
    "plt.xlabel('x')\n",
    "plt.ylabel('y')\n",
    "plt.xlim(-1, 2)\n",
    "plt.ylim(-1, 2)\n",
    "plt.grid(True)\n",
    "plt.show()"
   ]
  },
  {
   "cell_type": "markdown",
   "metadata": {},
   "source": [
    "# Kód röviden\n",
    "Végül álljon itt a kód lényegi része, letisztázva:"
   ]
  },
  {
   "cell_type": "code",
   "execution_count": 10,
   "metadata": {
    "collapsed": false
   },
   "outputs": [
    {
     "name": "stdout",
     "output_type": "stream",
     "text": [
      "[[  4.50015068e-05]\n",
      " [  9.92915511e-01]\n",
      " [  9.92906451e-01]\n",
      " [  1.21891499e-04]]\n"
     ]
    }
   ],
   "source": [
    "import numpy as np\n",
    "from keras.models import Sequential\n",
    "from keras.layers.core import Activation, Dense\n",
    "from keras.optimizers import SGD\n",
    "\n",
    "X = np.array([[0,0],[0,1],[1,0],[1,1]], \"float32\")\n",
    "y = np.array([[0],[1],[1],[0]], \"float32\")\n",
    "\n",
    "model = Sequential()\n",
    "model.add(Dense(output_dim=10, input_dim=2))\n",
    "model.add(Activation(\"tanh\"))\n",
    "model.add(Dense(output_dim=1))\n",
    "model.add(Activation(\"tanh\"))\n",
    "\n",
    "sgd = SGD(lr=0.1, decay=1e-6, momentum=0.9, nesterov=True)\n",
    "model.compile(loss='mean_squared_error', optimizer=sgd)\n",
    "\n",
    "history = model.fit(X, y, nb_epoch=2500, batch_size=4, verbose=0)\n",
    "\n",
    "print(model.predict(X))"
   ]
  }
 ],
 "metadata": {
  "kernelspec": {
   "display_name": "Python 3",
   "language": "python",
   "name": "python3"
  },
  "language_info": {
   "codemirror_mode": {
    "name": "ipython",
    "version": 3
   },
   "file_extension": ".py",
   "mimetype": "text/x-python",
   "name": "python",
   "nbconvert_exporter": "python",
   "pygments_lexer": "ipython3",
   "version": "3.4.3"
  }
 },
 "nbformat": 4,
 "nbformat_minor": 0
}
