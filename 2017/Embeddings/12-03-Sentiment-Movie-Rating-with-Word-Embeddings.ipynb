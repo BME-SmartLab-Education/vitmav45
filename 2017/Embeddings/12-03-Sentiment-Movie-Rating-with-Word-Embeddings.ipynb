{
 "cells": [
  {
   "cell_type": "markdown",
   "metadata": {},
   "source": [
    "# Copyright\n",
    "\n",
    "<PRE>\n",
    "Jelen iPython notebook a Budapesti Műszaki és Gazdaságtudományi Egyetemen tartott \n",
    "\"Deep Learning a gyakorlatban Python és LUA alapon\" tantárgy segédanyagaként készült.\n",
    "\n",
    "A tantárgy honlapja: http://smartlab.tmit.bme.hu/oktatas-deep-learning \n",
    "Deep Learning kutatás: http://smartlab.tmit.bme.hu/deep-learning\n",
    "\n",
    "A forráskódot GPLv3 licensz védi. Újrafelhasználás esetén lehetőség szerint kérjük az alábbi szerzőt értesíteni.\n",
    "\n",
    "2016 (c) Szaszák György (szaszak kukac tmit pont bme pont hu)\n",
    "</PRE>\n"
   ]
  },
  {
   "cell_type": "code",
   "execution_count": 9,
   "metadata": {},
   "outputs": [],
   "source": [
    "import numpy as np\n",
    "from keras.datasets import imdb\n",
    "from keras.models import Sequential\n",
    "from keras.layers import Dense\n",
    "from keras.layers import Flatten\n",
    "from keras.layers import Dropout\n",
    "from keras.layers.embeddings import Embedding\n",
    "from keras.preprocessing import sequence\n",
    "# random seed a könnyebb reprodukálhatósághoz\n",
    "seed = 77\n",
    "np.random.seed(seed)"
   ]
  },
  {
   "cell_type": "markdown",
   "metadata": {},
   "source": [
    "## Sentiment elemzés (tetszik/nem tetszik) szóbeágyazás alapján filmkritikákból"
   ]
  },
  {
   "cell_type": "code",
   "execution_count": 10,
   "metadata": {},
   "outputs": [
    {
     "name": "stdout",
     "output_type": "stream",
     "text": [
      "Adataink: \n",
      "(25000,)\n",
      "(25000,)\n",
      "(15000,)\n",
      "(10000,)\n",
      "Osztályok: \n",
      "[0 1]\n",
      "Szavak száma: \n",
      "5998\n",
      "Egy minta: \n",
      "[1, 323, 675, 2324, 314, 2553, 314, 2553, 1972, 2710, 314, 2, 1972, 10, 10, 1738, 3774, 9, 6, 2610, 3283, 3504, 37, 497, 8, 79, 34, 19, 27, 292, 5, 8, 30, 6, 52, 1246, 8, 27, 107, 2847, 103, 6, 5922, 4313, 39, 68, 452, 2, 21, 103, 35, 2, 19, 301, 2847, 984, 33, 6, 780, 2, 1333, 29, 1077, 6, 1189, 8, 68, 837, 707, 8, 193, 6, 2, 33, 2393, 5956, 2, 5, 27, 1366, 7, 254, 349, 37, 1374, 11, 4, 3560, 2, 879, 2, 2424, 50, 5, 8, 1374, 309, 83, 6, 2, 53, 2, 415, 159, 196, 240, 623, 4, 2, 7, 2393, 8, 483, 5, 47, 4657, 90, 17, 6, 2, 2, 17, 4, 2084, 2, 2, 3415, 11, 21, 54, 2, 2, 1091, 1701, 497, 8, 81, 6, 2, 11, 1392, 1951, 285, 505, 2, 2, 10, 10, 17, 670, 852, 4676, 280, 3431, 11, 4, 22, 6, 2, 787, 2, 57, 1963, 1521, 74, 1053, 676, 758, 4, 564, 7, 2, 69, 6, 52, 326, 5, 6, 676, 8, 97, 12, 83, 49, 432, 7, 22, 21, 209, 4, 1256, 12, 186, 8, 276, 12, 32, 295, 83, 49, 432, 7, 3984, 22, 10, 10, 17, 6, 2, 49, 7, 4, 1423, 1979, 262, 6, 136, 33, 4, 130, 1005, 4, 1746, 2, 2, 2, 11, 2, 71, 179, 776, 5, 253, 8, 1466, 21, 4, 2, 168, 7, 4, 627, 9, 66, 6, 2, 23, 183, 49, 66, 338, 116, 18, 1825, 485, 284, 19, 35, 2, 1191, 198, 32, 120, 4, 273, 5, 6, 5598, 229, 19, 49, 2, 414, 26, 1963, 712, 18, 4, 22, 151, 53, 2921, 156, 40, 5, 60, 2, 1640, 3710, 26, 2, 8, 55, 392, 696, 531, 137, 4, 2, 5, 2, 2, 835, 1019, 193, 5926, 868, 1701, 127, 6, 338, 1601, 1195, 430, 39, 2, 1384, 1200, 2, 5, 2, 2, 1573, 4, 64, 3185, 317, 19, 101, 5039, 39, 4, 226, 155, 17, 4, 4785, 541, 2, 567, 1575, 6, 1141, 5351, 18, 2, 1554, 304, 120, 371, 6, 1049, 1434]\n",
      "0\n"
     ]
    }
   ],
   "source": [
    "# Betöltjük az adatokat (Keras támogatott)\n",
    "top_words=6000 # Limitáljuk a szavak számát, 6000 leggyakoribbat hagyjuk meg, többit kidobjuk\n",
    "skip_top=0 # Abból is kihagyhatjuk mondjuk a 20 leggyakoribbat -> érdemes így is futtatni és összehasonlítani az eredményt\n",
    "\n",
    "(X_train, y_train), (X_test, y_test) = imdb.load_data(num_words=top_words,skip_top=skip_top)\n",
    "\n",
    "# Nincs validációs halmaz, lecsípünk a teszthalmazból validációhoz (25k/25k -> 25k/15k/10k)\n",
    "X_val=X_test[:15000]\n",
    "X_test=X_test[15000:]\n",
    "y_val=y_test[:15000]\n",
    "y_test=y_test[15000:]\n",
    "\n",
    "# Adatok alakja, osztályok száma\n",
    "print(\"Adataink: \")\n",
    "print(X_train.shape)\n",
    "print(y_train.shape)\n",
    "\n",
    "print(y_val.shape)\n",
    "print(y_test.shape)\n",
    "\n",
    "print(\"Osztályok: \")\n",
    "print(np.unique(y_train))\n",
    "\n",
    "print(\"Szavak száma: \")\n",
    "print(len(np.unique(np.hstack(X_train))))\n",
    "\n",
    "print(\"Egy minta: \")\n",
    "print(X_val[0])\n",
    "print(y_val[0])"
   ]
  },
  {
   "cell_type": "markdown",
   "metadata": {},
   "source": [
    "## Padding egyenlő hosszra"
   ]
  },
  {
   "cell_type": "code",
   "execution_count": 11,
   "metadata": {
    "scrolled": true
   },
   "outputs": [
    {
     "name": "stdout",
     "output_type": "stream",
     "text": [
      "Első minta padding után\n",
      "[   0    0    0    0    0    0    0    0    0    0    0    0    0    0    0\n",
      "    0    0    0    0    0    0    0    0    0    0    0    0    0    0    0\n",
      "    0    0    0    0    0    0    0    0    0    0    0    0    0    0    0\n",
      "    0    0    0    0    0    0    0    0    0    0    0    0    0    0    0\n",
      "    0    0    0    0    0    0    0    0    0    0    0    0    0    0    0\n",
      "    0    0    0    0    0    0    0    0    0    0    0    0    0    0    0\n",
      "    0    0    0    0    0    0    0    0    0    0    0    0    0    0    0\n",
      "    0    0    0    0    0    0    0    0    0    0    0    0    0    0    0\n",
      "    0    0    0    0    0    0    0    0    0    0    0    0    0    0    0\n",
      "    0    0    0    0    0    0    0    0    0    0    0    0    0    0    0\n",
      "    0    0    0    0    0    0    0    0    0    0    0    0    0    0    0\n",
      "    0    0    0    0    0    0    0    0    0    0    0    0    0    0    0\n",
      "    0    0    0    0    0    0    0    0    0    0    0    0    0    0    0\n",
      "    0    0    0    0    0    0    0    0    0    0    0    0    0    0    0\n",
      "    0    0    0    0    0    0    0    1   14  123    9 1605    2 3221  465\n",
      "  246  253 2731    5  131  820 2170    4  177  587   35 1190    2    7  318\n",
      " 5540   13  963 4790    2  723    2    4    2  232   39 1052  834    9 5318\n",
      "   45  188  588  883  223    5 1145  209  126  582  125   17    2  820   25\n",
      "   66 3807   19  134  105    4  226  365    9   35 2388 1236  511   15  317\n",
      "   72  142    7    6    2   48   13   81  135   38  546  484    2    5  582\n",
      "  145   18   53  175    2  314   13   43  796  332   14    5   12  934    6\n",
      "  117   40 1843 1539   72    8  901   12   12   66    9   15   52   13   43\n",
      "  557    6    2   15   12   16  112    2   38   13  197  474 2222  125    6\n",
      "    2    7   52   80   14    9   31    7  148  287   15  271  467    4    2\n",
      "   88    4 2630 3675  191  822   46   89    8   97   12 1279    5 2225 1880\n",
      "   19   12   81  624    6  666 2077   48   25  774  460    5  358   14 1528\n",
      "  137   12    2  608   38   31   53  155   14  123    9 1096   51   15  817\n",
      "    9   15  175    2 3857  564   11  363    9 2146    2    6 1231   56   68\n",
      "    2  159   36  870  180    8  106   12    2  533   19   35   13 2856  398\n",
      "   15  552 2491    8  427 1337   11   68 2610    2  363 1455  673   11   85\n",
      "  715    4 3077   14    9    6  831  602    2 3910  159   25  202  129    2\n",
      "  248  534    8 1641 1279  278   42  375  893 2186    2   42  845   85   46\n",
      "    5   46 5174  134 3077 1418  713 5953   23  202   61    2  123    6 3087\n",
      "   45  253   52    2  253]\n"
     ]
    }
   ],
   "source": [
    "# Ennyi szót fogunk kritikánként figyelembe venni, ha ennél rövidebb kritika van, azt nullákkal kipaddingeli a pad_sequences().\n",
    "max_words = 500\n",
    "X_train = sequence.pad_sequences(X_train, maxlen=max_words)\n",
    "X_val = sequence.pad_sequences(X_val, maxlen=max_words)\n",
    "X_test = sequence.pad_sequences(X_test, maxlen=max_words)\n",
    "\n",
    "print(\"Első minta padding után\")\n",
    "print(X_train[0])"
   ]
  },
  {
   "cell_type": "markdown",
   "metadata": {},
   "source": [
    "## Modell összeállítása, tanítás és tesztelés"
   ]
  },
  {
   "cell_type": "code",
   "execution_count": 12,
   "metadata": {},
   "outputs": [
    {
     "name": "stdout",
     "output_type": "stream",
     "text": [
      "_________________________________________________________________\n",
      "Layer (type)                 Output Shape              Param #   \n",
      "=================================================================\n",
      "embedding_2 (Embedding)      (None, 500, 50)           300000    \n",
      "_________________________________________________________________\n",
      "dropout_3 (Dropout)          (None, 500, 50)           0         \n",
      "_________________________________________________________________\n",
      "flatten_2 (Flatten)          (None, 25000)             0         \n",
      "_________________________________________________________________\n",
      "dense_3 (Dense)              (None, 250)               6250250   \n",
      "_________________________________________________________________\n",
      "dropout_4 (Dropout)          (None, 250)               0         \n",
      "_________________________________________________________________\n",
      "dense_4 (Dense)              (None, 1)                 251       \n",
      "=================================================================\n",
      "Total params: 6,550,501\n",
      "Trainable params: 6,550,501\n",
      "Non-trainable params: 0\n",
      "_________________________________________________________________\n",
      "None\n"
     ]
    }
   ],
   "source": [
    "embedding_dim=50\n",
    "\n",
    "model = Sequential()\n",
    "# Mi csináljuk az embeddinget is\n",
    "model.add(Embedding(top_words, embedding_dim, input_length=max_words))\n",
    "model.add(Dropout(0.2))\n",
    "model.add(Flatten())\n",
    "model.add(Dense(250, activation='relu'))\n",
    "model.add(Dropout(0.2))\n",
    "model.add(Dense(1, activation='sigmoid'))\n",
    "model.compile(loss='binary_crossentropy', optimizer='adam', metrics=['accuracy'])\n",
    "print(model.summary())"
   ]
  },
  {
   "cell_type": "code",
   "execution_count": 13,
   "metadata": {},
   "outputs": [
    {
     "name": "stdout",
     "output_type": "stream",
     "text": [
      "Train on 25000 samples, validate on 15000 samples\n",
      "Epoch 1/2\n",
      "25000/25000 [==============================] - 70s 3ms/step - loss: 0.5055 - acc: 0.7212 - val_loss: 0.2981 - val_acc: 0.8739\n",
      "Epoch 2/2\n",
      "25000/25000 [==============================] - 78s 3ms/step - loss: 0.1929 - acc: 0.9251 - val_loss: 0.3006 - val_acc: 0.8764\n"
     ]
    },
    {
     "data": {
      "text/plain": [
       "<keras.callbacks.History at 0x7f922baedb38>"
      ]
     },
     "execution_count": 13,
     "metadata": {},
     "output_type": "execute_result"
    }
   ],
   "source": [
    "# Tanítás (csak 2 epoch, nincs túltanulás elleni védelmünk)\n",
    "model.fit(X_train, y_train, validation_data=(X_val, y_val), epochs=2, batch_size=128, verbose=1)"
   ]
  },
  {
   "cell_type": "code",
   "execution_count": 6,
   "metadata": {},
   "outputs": [
    {
     "name": "stdout",
     "output_type": "stream",
     "text": [
      "Accuracy: 87.86%\n"
     ]
    }
   ],
   "source": [
    "# Kiértékelés a tesztadatokon\n",
    "scores = model.evaluate(X_test, y_test, verbose=0)\n",
    "print(\"Accuracy: %.2f%%\" % (scores[1]*100))"
   ]
  },
  {
   "cell_type": "code",
   "execution_count": null,
   "metadata": {},
   "outputs": [],
   "source": []
  }
 ],
 "metadata": {
  "kernelspec": {
   "display_name": "Python 3",
   "language": "python",
   "name": "python3"
  },
  "language_info": {
   "codemirror_mode": {
    "name": "ipython",
    "version": 3
   },
   "file_extension": ".py",
   "mimetype": "text/x-python",
   "name": "python",
   "nbconvert_exporter": "python",
   "pygments_lexer": "ipython3",
   "version": "3.4.3"
  }
 },
 "nbformat": 4,
 "nbformat_minor": 1
}
