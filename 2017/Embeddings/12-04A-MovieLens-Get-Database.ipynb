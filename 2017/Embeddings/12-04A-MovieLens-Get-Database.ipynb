{
 "cells": [
  {
   "cell_type": "markdown",
   "metadata": {},
   "source": [
    "# Copyright\n",
    "\n",
    "<PRE>\n",
    "Jelen iPython notebook a Budapesti Műszaki és Gazdaságtudományi Egyetemen tartott \n",
    "\"Deep Learning a gyakorlatban Python és LUA alapon\" tantárgy segédanyagaként készült a   \n",
    "https://github.com/bradleypallen/keras-movielens-cf oldalon található forrás alapján.\n",
    "\n",
    "A tantárgy honlapja: http://smartlab.tmit.bme.hu/oktatas-deep-learning \n",
    "Deep Learning kutatás: http://smartlab.tmit.bme.hu/deep-learning\n",
    "\n",
    "A forráskódot MIT licensz védi.\n",
    "</PRE>"
   ]
  },
  {
   "cell_type": "markdown",
   "metadata": {},
   "source": [
    "## Importok"
   ]
  },
  {
   "cell_type": "code",
   "execution_count": 1,
   "metadata": {},
   "outputs": [],
   "source": [
    "import os\n",
    "import pandas as pd"
   ]
  },
  {
   "cell_type": "markdown",
   "metadata": {},
   "source": [
    "## Tanítóadatok"
   ]
  },
  {
   "cell_type": "code",
   "execution_count": 2,
   "metadata": {},
   "outputs": [],
   "source": [
    "# ! wget -q http://files.grouplens.org/datasets/movielens/ml-1m.zip#\n",
    "# ! unzip ml-1m.zip"
   ]
  },
  {
   "cell_type": "markdown",
   "metadata": {},
   "source": [
    "## Konstansok\n"
   ]
  },
  {
   "cell_type": "code",
   "execution_count": 3,
   "metadata": {},
   "outputs": [],
   "source": [
    "BASE_DIR = '.' # Modify this if needed to the local directory that the MovieLens 1M Dataset has been unzipped into. \n",
    "MOVIELENS_DIR = BASE_DIR + '/ml-1m/'\n",
    "USER_DATA_FILE = 'users.dat'\n",
    "MOVIE_DATA_FILE = 'movies.dat'\n",
    "RATING_DATA_FILE = 'ratings.dat'\n",
    "AGES = { 1: \"Under 18\", 18: \"18-24\", 25: \"25-34\", 35: \"35-44\", 45: \"45-49\", 50: \"50-55\", 56: \"56+\" }\n",
    "OCCUPATIONS = { 0: \"other or not specified\", 1: \"academic/educator\", 2: \"artist\", 3: \"clerical/admin\",\n",
    "                4: \"college/grad student\", 5: \"customer service\", 6: \"doctor/health care\",\n",
    "                7: \"executive/managerial\", 8: \"farmer\", 9: \"homemaker\", 10: \"K-12 student\", 11: \"lawyer\",\n",
    "                12: \"programmer\", 13: \"retired\", 14: \"sales/marketing\", 15: \"scientist\", 16: \"self-employed\",\n",
    "                17: \"technician/engineer\", 18: \"tradesman/craftsman\", 19: \"unemployed\", 20: \"writer\" }\n",
    "RATINGS_CSV_FILE = 'ml1m_ratings.csv'\n",
    "USERS_CSV_FILE = 'ml1m_users.csv'\n",
    "MOVIES_CSV_FILE = 'ml1m_movies.csv'"
   ]
  },
  {
   "cell_type": "markdown",
   "metadata": {},
   "source": [
    "##  MovieLens 1M adatok betöltése\n",
    "\n",
    "A MovieLens 1M adathalmaz a http://files.grouplens.org/datasets/movielens/ml-1m.zip oldalon érhető el. Felhasználókról, filemkről tartalmaz adatokat (értékelést). Van olyan film, amelyhez nem tartozik értékelés."
   ]
  },
  {
   "cell_type": "code",
   "execution_count": 5,
   "metadata": {},
   "outputs": [
    {
     "name": "stdout",
     "output_type": "stream",
     "text": [
      "Értékelések száma:  1000209\n",
      "Értékelések mentve ide: ml1m_ratings.csv\n"
     ]
    }
   ],
   "source": [
    "ratings = pd.read_csv(os.path.join(MOVIELENS_DIR, RATING_DATA_FILE), \n",
    "                    sep='::', \n",
    "                    engine='python', \n",
    "                    encoding='latin-1',\n",
    "                    names=['userid', 'movieid', 'rating', 'timestamp'])\n",
    "max_userid = ratings['userid'].drop_duplicates().max()\n",
    "max_movieid = ratings['movieid'].drop_duplicates().max()\n",
    "ratings['user_emb_id'] = ratings['userid'] - 1\n",
    "ratings['movie_emb_id'] = ratings['movieid'] - 1\n",
    "print ('Értékelések száma: ', len(ratings))\n",
    "ratings.to_csv(RATINGS_CSV_FILE, \n",
    "               sep='\\t', \n",
    "               header=True, \n",
    "               encoding='latin-1', \n",
    "               columns=['userid', 'movieid', 'rating', 'timestamp', 'user_emb_id', 'movie_emb_id'])\n",
    "print ('Értékelések mentve ide:', RATINGS_CSV_FILE)"
   ]
  },
  {
   "cell_type": "code",
   "execution_count": 6,
   "metadata": {},
   "outputs": [
    {
     "name": "stdout",
     "output_type": "stream",
     "text": [
      "6040 betöltve az összes 6040 felhasználói profil közül.\n",
      "Felhasználói profilok mentve ide:  ml1m_users.csv\n"
     ]
    }
   ],
   "source": [
    "users = pd.read_csv(os.path.join(MOVIELENS_DIR, USER_DATA_FILE), \n",
    "                    sep='::', \n",
    "                    engine='python', \n",
    "                    encoding='latin-1',\n",
    "                    names=['userid', 'gender', 'age', 'occupation', 'zipcode'])\n",
    "users['age_desc'] = users['age'].apply(lambda x: AGES[x])\n",
    "users['occ_desc'] = users['occupation'].apply(lambda x: OCCUPATIONS[x])\n",
    "print (len(users), 'betöltve az összes', max_userid, 'felhasználói profil közül.')\n",
    "users.to_csv(USERS_CSV_FILE, \n",
    "             sep='\\t', \n",
    "             header=True, \n",
    "             encoding='latin-1',\n",
    "             columns=['userid', 'gender', 'age', 'occupation', 'zipcode', 'age_desc', 'occ_desc'])\n",
    "print ('Felhasználói profilok mentve ide: ', USERS_CSV_FILE)"
   ]
  },
  {
   "cell_type": "code",
   "execution_count": 7,
   "metadata": {},
   "outputs": [
    {
     "name": "stdout",
     "output_type": "stream",
     "text": [
      "3883 betöltve az összes 3952 filmprofil közül.\n",
      "Filmprofilok mentve ide:  ml1m_movies.csv\n"
     ]
    }
   ],
   "source": [
    "movies = pd.read_csv(os.path.join(MOVIELENS_DIR, MOVIE_DATA_FILE), \n",
    "                    sep='::', \n",
    "                    engine='python', \n",
    "                    encoding='latin-1',\n",
    "                    names=['movieid', 'title', 'genre'])\n",
    "print (len(movies), 'betöltve az összes', max_movieid, 'filmprofil közül.')\n",
    "movies.to_csv(MOVIES_CSV_FILE, \n",
    "              sep='\\t', \n",
    "              header=True, \n",
    "              columns=['movieid', 'title', 'genre'])\n",
    "print ('Filmprofilok mentve ide: ', MOVIES_CSV_FILE)"
   ]
  },
  {
   "cell_type": "code",
   "execution_count": 8,
   "metadata": {},
   "outputs": [
    {
     "name": "stdout",
     "output_type": "stream",
     "text": [
      "6040 felhasználó az összes 6040 közül étékelt legalább egy filmet.\n"
     ]
    }
   ],
   "source": [
    "# Hány felhazsnálótól van egyáltalán adatunk\n",
    "print (len(ratings['userid'].drop_duplicates()), 'felhasználó az összes', max_userid, 'közül értékelt legalább egy filmet.')"
   ]
  },
  {
   "cell_type": "code",
   "execution_count": 12,
   "metadata": {},
   "outputs": [
    {
     "name": "stdout",
     "output_type": "stream",
     "text": [
      "3706 film az összes 3952 közül kapott értékelést.\n"
     ]
    }
   ],
   "source": [
    "# Mennyi értékelésünk van filmekre\n",
    "print (len(ratings['movieid'].drop_duplicates()), 'film az összes', max_movieid, 'közül kapott értékelést.')"
   ]
  }
 ],
 "metadata": {
  "kernelspec": {
   "display_name": "Python 3",
   "language": "python",
   "name": "python3"
  },
  "language_info": {
   "codemirror_mode": {
    "name": "ipython",
    "version": 3
   },
   "file_extension": ".py",
   "mimetype": "text/x-python",
   "name": "python",
   "nbconvert_exporter": "python",
   "pygments_lexer": "ipython3",
   "version": "3.4.3"
  }
 },
 "nbformat": 4,
 "nbformat_minor": 1
}
