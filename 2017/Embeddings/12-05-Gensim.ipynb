{
 "cells": [
  {
   "cell_type": "markdown",
   "metadata": {},
   "source": [
    "# Copyright\n",
    "<PRE>\n",
    "Jelen iPython notebook a Budapesti Műszaki és Gazdaságtudományi Egyetemen tartott \n",
    "\"Deep Learning a gyakorlatban Python és LUA alapon\" tantárgy segédanyagaként készült. \n",
    "\n",
    "A tantárgy honlapja: http://smartlab.tmit.bme.hu/oktatas-deep-learning \n",
    "Deep Learning kutatás: http://smartlab.tmit.bme.hu/deep-learning\n",
    "\n",
    "A forráskódot GPLv3 licensz védi. Újrafelhasználás esetén lehetőség szerint kérjük az alábbi szerzőt értesíteni.\n",
    "\n",
    "2017 (c) Szaszák György (szaszak kukac tmit pont bme pont hu)\n",
    "</PRE>"
   ]
  },
  {
   "cell_type": "markdown",
   "metadata": {},
   "source": [
    "A feladat, hogy 2 python alól is elérhető word2vec alkalmazással szóbeágyazásokat generáljunk, és ezeket összevessük, illetve fasttext-tel a karakter N-gram alapú \"rásegítés\" hatásait elemezzük."
   ]
  },
  {
   "cell_type": "code",
   "execution_count": 3,
   "metadata": {},
   "outputs": [
    {
     "name": "stdout",
     "output_type": "stream",
     "text": [
      "Archive:  text8.zip\n",
      "  inflating: text8                   \n"
     ]
    }
   ],
   "source": [
    "# Angol wikipédia mentésen dolgozunk\n",
    "\n",
    "import os.path\n",
    "\n",
    "if not os.path.isfile('text8'):\n",
    "    !wget -c http://mattmahoney.net/dc/text8.zip\n",
    "    !unzip text8.zip"
   ]
  },
  {
   "cell_type": "code",
   "execution_count": 13,
   "metadata": {},
   "outputs": [],
   "source": [
    "import fasttext\n",
    "\n",
    "# Fasttext felparaméterezése\n",
    "lr = 0.05\n",
    "dim = 100\n",
    "ws = 5\n",
    "epoch = 5\n",
    "minCount = 5\n",
    "neg = 5\n",
    "loss = 'ns'\n",
    "t = 1e-4\n",
    "\n",
    "from gensim.models import Word2Vec\n",
    "from gensim.models.word2vec import Text8Corpus\n",
    "\n",
    "# gensim word2vec felparaméterezése (az összehasonlíthatósághoz ugyanúgy)\n",
    "params = {\n",
    "    'alpha': lr,\n",
    "    'size': dim,\n",
    "    'window': ws,\n",
    "    'iter': epoch,\n",
    "    'min_count': minCount,\n",
    "    'sample': t,\n",
    "    'sg': 1,\n",
    "    'hs': 0,\n",
    "    'negative': neg\n",
    "}"
   ]
  },
  {
   "cell_type": "code",
   "execution_count": 7,
   "metadata": {},
   "outputs": [
    {
     "ename": "DeprecationWarning",
     "evalue": "Deprecated. Use model.wv.save_word2vec_format instead.",
     "output_type": "error",
     "traceback": [
      "\u001b[0;31m---------------------------------------------------------------------------\u001b[0m",
      "\u001b[0;31mDeprecationWarning\u001b[0m                        Traceback (most recent call last)",
      "\u001b[0;32m<ipython-input-7-a5374ed06f67>\u001b[0m in \u001b[0;36m<module>\u001b[0;34m()\u001b[0m\n\u001b[1;32m      9\u001b[0m \u001b[0;31m# Gensim word2vec\u001b[0m\u001b[0;34m\u001b[0m\u001b[0;34m\u001b[0m\u001b[0m\n\u001b[1;32m     10\u001b[0m \u001b[0mgs_model\u001b[0m \u001b[0;34m=\u001b[0m \u001b[0mWord2Vec\u001b[0m\u001b[0;34m(\u001b[0m\u001b[0mText8Corpus\u001b[0m\u001b[0;34m(\u001b[0m\u001b[0;34m'text8'\u001b[0m\u001b[0;34m)\u001b[0m\u001b[0;34m,\u001b[0m \u001b[0;34m**\u001b[0m\u001b[0mparams\u001b[0m\u001b[0;34m)\u001b[0m\u001b[0;34m\u001b[0m\u001b[0m\n\u001b[0;32m---> 11\u001b[0;31m \u001b[0mgs_model\u001b[0m\u001b[0;34m.\u001b[0m\u001b[0msave_word2vec_format\u001b[0m\u001b[0;34m(\u001b[0m\u001b[0mos\u001b[0m\u001b[0;34m.\u001b[0m\u001b[0mpath\u001b[0m\u001b[0;34m.\u001b[0m\u001b[0mjoin\u001b[0m\u001b[0;34m(\u001b[0m\u001b[0;34m''\u001b[0m\u001b[0;34m,\u001b[0m \u001b[0;34m'{:s}.vec'\u001b[0m\u001b[0;34m.\u001b[0m\u001b[0mformat\u001b[0m\u001b[0;34m(\u001b[0m\u001b[0;34m'gensim_model'\u001b[0m\u001b[0;34m)\u001b[0m\u001b[0;34m)\u001b[0m\u001b[0;34m)\u001b[0m\u001b[0;34m\u001b[0m\u001b[0m\n\u001b[0m",
      "\u001b[0;32m/usr/local/lib/python3.4/dist-packages/gensim/models/word2vec.py\u001b[0m in \u001b[0;36msave_word2vec_format\u001b[0;34m(self, fname, fvocab, binary)\u001b[0m\n\u001b[1;32m   1560\u001b[0m     \u001b[0;32mdef\u001b[0m \u001b[0msave_word2vec_format\u001b[0m\u001b[0;34m(\u001b[0m\u001b[0mself\u001b[0m\u001b[0;34m,\u001b[0m \u001b[0mfname\u001b[0m\u001b[0;34m,\u001b[0m \u001b[0mfvocab\u001b[0m\u001b[0;34m=\u001b[0m\u001b[0;32mNone\u001b[0m\u001b[0;34m,\u001b[0m \u001b[0mbinary\u001b[0m\u001b[0;34m=\u001b[0m\u001b[0;32mFalse\u001b[0m\u001b[0;34m)\u001b[0m\u001b[0;34m:\u001b[0m\u001b[0;34m\u001b[0m\u001b[0m\n\u001b[1;32m   1561\u001b[0m         \u001b[0;34m\"\"\"Deprecated. Use model.wv.save_word2vec_format instead.\"\"\"\u001b[0m\u001b[0;34m\u001b[0m\u001b[0m\n\u001b[0;32m-> 1562\u001b[0;31m         \u001b[0;32mraise\u001b[0m \u001b[0mDeprecationWarning\u001b[0m\u001b[0;34m(\u001b[0m\u001b[0;34m\"Deprecated. Use model.wv.save_word2vec_format instead.\"\u001b[0m\u001b[0;34m)\u001b[0m\u001b[0;34m\u001b[0m\u001b[0m\n\u001b[0m\u001b[1;32m   1563\u001b[0m \u001b[0;34m\u001b[0m\u001b[0m\n\u001b[1;32m   1564\u001b[0m     \u001b[0;32mdef\u001b[0m \u001b[0mget_latest_training_loss\u001b[0m\u001b[0;34m(\u001b[0m\u001b[0mself\u001b[0m\u001b[0;34m)\u001b[0m\u001b[0;34m:\u001b[0m\u001b[0;34m\u001b[0m\u001b[0m\n",
      "\u001b[0;31mDeprecationWarning\u001b[0m: Deprecated. Use model.wv.save_word2vec_format instead."
     ]
    }
   ],
   "source": [
    "# Tanítsunk be három modellt (hosszú, i7 4 magon kb 20 perc a 3 együtt)\n",
    "\n",
    "# Fasttext skipgram model\n",
    "skipgram_model = fasttext.skipgram('text8', 'fasttext_model', lr=lr, dim=dim, ws=ws, epoch=epoch, neg=neg, loss=loss, t=t)\n",
    "\n",
    "# Fasttext skipgram model karakter N-gramok nélkül (default 3..6 lenne)\n",
    "skipgram_nc_model = fasttext.skipgram('text8', 'fasttext_nochar_model', lr=lr, dim=dim, ws=ws, epoch=epoch, neg=neg, loss=loss, t=t, maxn=0)\n",
    "\n",
    "# Gensim word2vec\n",
    "gs_model = Word2Vec(Text8Corpus('text8'), **params)\n",
    "gs_model.wv.save_word2vec_format('gensim_model')"
   ]
  },
  {
   "cell_type": "markdown",
   "metadata": {},
   "source": [
    "## Embeddingek kiértékelése\n",
    "\n",
    "Annál jobbnak tekintjük a beágyazást, minél inkább koherens, azaz az egyes leképezett szavak alaki (toldalékolás) és jelentésbeli konzekvens megfeleléseit jól tükrözi. Maga a nyelv sem konzekvens és koherens ebből a szempontból egyébként, ezért nem várhatunk komplett és minden relációt jól tükröző modellt, de ha ebbe az irányba haladunk, az már jó eredmény.\n",
    "\n",
    "A kiértékelést két szempont szerint szokás végezni, az egyik alaki, a másik jelentés szerint működik. Az alapötlet mindkét esetben hasonló:\n",
    "\n",
    "### Módhatározó képzése melléknévből:\n",
    "diff_adverbial_reference = ( suddenly - sudden)\n",
    "\n",
    "diff_adverbial_test = ( calmly - diff_adverbial_reference )\n",
    "\n",
    "similarity (diff_adverbial_test, calmly) = ?\n",
    "\n",
    "### Jelentésbeli hasonlóság konzekvens leképezése:\n",
    "diff_pure_kingness = ( king - man )\n",
    "\n",
    "sum_pure_kingness_and_woman = ( woman + diff_pure_kingness )\n",
    "\n",
    "similarity (sum_pure_kingness_and_woman, queen) = ?\n"
   ]
  },
  {
   "cell_type": "code",
   "execution_count": 17,
   "metadata": {},
   "outputs": [
    {
     "name": "stdout",
     "output_type": "stream",
     "text": [
      "--2017-11-22 21:03:55--  https://raw.githubusercontent.com/tmikolov/word2vec/master/questions-words.txt\n",
      "raw.githubusercontent.com (raw.githubusercontent.com) feloldása… 151.101.12.133\n",
      "Csatlakozás a következőhöz: raw.githubusercontent.com (raw.githubusercontent.com)[151.101.12.133]:443… kapcsolódva.\n",
      "HTTP kérés elküldve, várakozás válaszra… 200 OK\n",
      "Hossz: 603955 (590K) [text/plain]\n",
      "Mentés ide: „questions-words.txt”\n",
      "\n",
      "100%[======================================>] 603.955     1,80MB/s   idő 0,3s  \n",
      "\n",
      "2017-11-22 21:03:56 (1,80 MB/s) -- „questions-words.txt” mentve [603955/603955]\n",
      "\n"
     ]
    }
   ],
   "source": [
    "# szóbeágyazások összehasonlítására szolgáló mintafájl\n",
    "!wget https://raw.githubusercontent.com/tmikolov/word2vec/master/questions-words.txt"
   ]
  },
  {
   "cell_type": "code",
   "execution_count": 2,
   "metadata": {},
   "outputs": [],
   "source": [
    "# Összehasonlításhoz a logolást bőbeszédűbbre állítjuk\n",
    "import logging\n",
    "logging.basicConfig(format='%(asctime)s : %(levelname)s : %(message)s', level=logging.INFO)\n",
    "\n",
    "# Segédfüggvény alapos teszteléshez (https://github.com/jayantj/gensim/blob/9f3e275ddad22afd54b7986654f3033f9baf8983/docs/notebooks/Word2Vec_FastText_Comparison)\n",
    "\n",
    "def print_accuracy(model, questions_file):\n",
    "    print('Evaluating...\\n')\n",
    "    acc = model.accuracy(questions_file)\n",
    "\n",
    "    # Jelentésreprezentációbeli illeszkedés (szemantikai hasonlóság, azaz közel eső jelentés)\n",
    "    sem_correct = sum((len(acc[i]['correct']) for i in range(5)))\n",
    "    sem_total = sum((len(acc[i]['correct']) + len(acc[i]['incorrect'])) for i in range(5))\n",
    "    sem_acc = 100*float(sem_correct)/sem_total\n",
    "    print('\\nSemantic: {:d}/{:d}, Accuracy: {:.2f}%'.format(sem_correct, sem_total, sem_acc))\n",
    "    \n",
    "    # Hasonló íráskép alapú illeszkedés (szintaktikai hasonlóság, azaz közel eső szóalak)\n",
    "    syn_correct = sum((len(acc[i]['correct']) for i in range(5, len(acc)-1)))\n",
    "    syn_total = sum((len(acc[i]['correct']) + len(acc[i]['incorrect'])) for i in range(5,len(acc)-1))\n",
    "    syn_acc = 100*float(syn_correct)/syn_total\n",
    "    print('Syntactic: {:d}/{:d}, Accuracy: {:.2f}%\\n'.format(syn_correct, syn_total, syn_acc))\n",
    "    return (sem_acc, syn_acc)\n"
   ]
  },
  {
   "cell_type": "code",
   "execution_count": 3,
   "metadata": {},
   "outputs": [
    {
     "name": "stderr",
     "output_type": "stream",
     "text": [
      "2017-11-23 09:43:48,864 : INFO : 'pattern' package not found; tag filters are not available for English\n",
      "2017-11-23 09:43:48,869 : INFO : loading projection weights from gensim_model.vec\n"
     ]
    },
    {
     "name": "stdout",
     "output_type": "stream",
     "text": [
      "\n",
      "Loading Gensim embeddings\n"
     ]
    },
    {
     "name": "stderr",
     "output_type": "stream",
     "text": [
      "2017-11-23 09:43:55,019 : INFO : loaded (71290, 100) matrix from gensim_model.vec\n",
      "2017-11-23 09:43:55,055 : INFO : precomputing L2-norms of word weight vectors\n"
     ]
    },
    {
     "name": "stdout",
     "output_type": "stream",
     "text": [
      "Accuracy for Word2Vec:\n",
      "Evaluating...\n",
      "\n"
     ]
    },
    {
     "name": "stderr",
     "output_type": "stream",
     "text": [
      "2017-11-23 09:43:57,782 : INFO : capital-common-countries: 70.0% (354/506)\n",
      "2017-11-23 09:44:05,786 : INFO : capital-world: 47.5% (689/1452)\n",
      "2017-11-23 09:44:07,495 : INFO : currency: 20.1% (54/268)\n",
      "2017-11-23 09:44:16,402 : INFO : city-in-state: 23.2% (365/1571)\n",
      "2017-11-23 09:44:18,312 : INFO : family: 62.1% (190/306)\n",
      "2017-11-23 09:44:22,670 : INFO : gram1-adjective-to-adverb: 15.7% (119/756)\n",
      "2017-11-23 09:44:24,450 : INFO : gram2-opposite: 15.4% (47/306)\n",
      "2017-11-23 09:44:31,676 : INFO : gram3-comparative: 49.0% (618/1260)\n",
      "2017-11-23 09:44:35,902 : INFO : gram4-superlative: 29.2% (148/506)\n",
      "2017-11-23 09:44:43,571 : INFO : gram5-present-participle: 26.4% (262/992)\n",
      "2017-11-23 09:44:55,226 : INFO : gram6-nationality-adjective: 75.6% (1037/1371)\n",
      "2017-11-23 09:45:06,074 : INFO : gram7-past-tense: 32.9% (438/1332)\n",
      "2017-11-23 09:45:12,971 : INFO : gram8-plural: 44.4% (440/992)\n",
      "2017-11-23 09:45:16,984 : INFO : gram9-plural-verbs: 25.2% (164/650)\n",
      "2017-11-23 09:45:16,986 : INFO : total: 40.1% (4925/12268)\n",
      "2017-11-23 09:45:16,994 : INFO : loading projection weights from fasttext_model.vec\n"
     ]
    },
    {
     "name": "stdout",
     "output_type": "stream",
     "text": [
      "\n",
      "Semantic: 1652/4103, Accuracy: 40.26%\n",
      "Syntactic: 3273/8165, Accuracy: 40.09%\n",
      "\n",
      "\n",
      "Loading FastText embeddings\n"
     ]
    },
    {
     "name": "stderr",
     "output_type": "stream",
     "text": [
      "2017-11-23 09:45:23,479 : INFO : loaded (71290, 100) matrix from fasttext_model.vec\n",
      "2017-11-23 09:45:23,506 : INFO : precomputing L2-norms of word weight vectors\n"
     ]
    },
    {
     "name": "stdout",
     "output_type": "stream",
     "text": [
      "Accuracy for FastText (with n-grams):\n",
      "Evaluating...\n",
      "\n"
     ]
    },
    {
     "name": "stderr",
     "output_type": "stream",
     "text": [
      "2017-11-23 09:45:26,416 : INFO : capital-common-countries: 62.6% (317/506)\n",
      "2017-11-23 09:45:36,919 : INFO : capital-world: 42.8% (622/1452)\n",
      "2017-11-23 09:45:38,772 : INFO : currency: 15.3% (41/268)\n",
      "2017-11-23 09:45:47,095 : INFO : city-in-state: 20.3% (306/1511)\n",
      "2017-11-23 09:45:48,823 : INFO : family: 49.0% (150/306)\n",
      "2017-11-23 09:45:52,614 : INFO : gram1-adjective-to-adverb: 71.6% (541/756)\n",
      "2017-11-23 09:45:54,194 : INFO : gram2-opposite: 55.6% (170/306)\n",
      "2017-11-23 09:46:00,812 : INFO : gram3-comparative: 71.0% (894/1260)\n",
      "2017-11-23 09:46:03,452 : INFO : gram4-superlative: 53.8% (272/506)\n",
      "2017-11-23 09:46:08,583 : INFO : gram5-present-participle: 57.2% (567/992)\n",
      "2017-11-23 09:46:15,638 : INFO : gram6-nationality-adjective: 94.1% (1290/1371)\n",
      "2017-11-23 09:46:22,510 : INFO : gram7-past-tense: 35.9% (478/1332)\n",
      "2017-11-23 09:46:27,649 : INFO : gram8-plural: 87.1% (864/992)\n",
      "2017-11-23 09:46:31,019 : INFO : gram9-plural-verbs: 56.3% (366/650)\n",
      "2017-11-23 09:46:31,022 : INFO : total: 56.3% (6878/12208)\n",
      "2017-11-23 09:46:31,029 : INFO : loading projection weights from fasttext_nochar_model.vec\n"
     ]
    },
    {
     "name": "stdout",
     "output_type": "stream",
     "text": [
      "\n",
      "Semantic: 1436/4043, Accuracy: 35.52%\n",
      "Syntactic: 5442/8165, Accuracy: 66.65%\n",
      "\n",
      "\n",
      "Loading FastText embeddings without char N-gram\n"
     ]
    },
    {
     "name": "stderr",
     "output_type": "stream",
     "text": [
      "2017-11-23 09:46:36,830 : INFO : loaded (71290, 100) matrix from fasttext_nochar_model.vec\n",
      "2017-11-23 09:46:36,929 : INFO : precomputing L2-norms of word weight vectors\n"
     ]
    },
    {
     "name": "stdout",
     "output_type": "stream",
     "text": [
      "Accuracy for FastText (without n-grams):\n",
      "Evaluating...\n",
      "\n"
     ]
    },
    {
     "name": "stderr",
     "output_type": "stream",
     "text": [
      "2017-11-23 09:46:39,614 : INFO : capital-common-countries: 73.7% (373/506)\n",
      "2017-11-23 09:46:47,149 : INFO : capital-world: 47.5% (690/1452)\n",
      "2017-11-23 09:46:48,560 : INFO : currency: 19.4% (52/268)\n",
      "2017-11-23 09:46:57,920 : INFO : city-in-state: 25.7% (388/1511)\n",
      "2017-11-23 09:46:59,919 : INFO : family: 52.9% (162/306)\n",
      "2017-11-23 09:47:04,573 : INFO : gram1-adjective-to-adverb: 13.8% (104/756)\n",
      "2017-11-23 09:47:06,562 : INFO : gram2-opposite: 14.1% (43/306)\n",
      "2017-11-23 09:47:14,413 : INFO : gram3-comparative: 52.2% (658/1260)\n",
      "2017-11-23 09:47:17,680 : INFO : gram4-superlative: 27.7% (140/506)\n",
      "2017-11-23 09:47:24,310 : INFO : gram5-present-participle: 21.9% (217/992)\n",
      "2017-11-23 09:47:31,626 : INFO : gram6-nationality-adjective: 79.5% (1090/1371)\n",
      "2017-11-23 09:47:38,752 : INFO : gram7-past-tense: 30.0% (399/1332)\n",
      "2017-11-23 09:47:44,138 : INFO : gram8-plural: 53.7% (533/992)\n",
      "2017-11-23 09:47:48,241 : INFO : gram9-plural-verbs: 26.8% (174/650)\n",
      "2017-11-23 09:47:48,251 : INFO : total: 41.1% (5023/12208)\n"
     ]
    },
    {
     "name": "stdout",
     "output_type": "stream",
     "text": [
      "\n",
      "Semantic: 1665/4043, Accuracy: 41.18%\n",
      "Syntactic: 3358/8165, Accuracy: 41.13%\n",
      "\n"
     ]
    }
   ],
   "source": [
    "from gensim.models.keyedvectors import KeyedVectors\n",
    "\n",
    "word_analogies_file = 'questions-words.txt'\n",
    "accuracies = []\n",
    "\n",
    "print('\\nLoading Gensim embeddings') # betöltjük, mert a tanítást nem várjuk végig, korábban lefuttattuk\n",
    "model_gensim = KeyedVectors.load_word2vec_format('gensim_model.vec')\n",
    "print('Accuracy for Word2Vec:')\n",
    "accuracies.append(print_accuracy(model_gensim, word_analogies_file))\n",
    "\n",
    "print('\\nLoading FastText embeddings')\n",
    "fasttext_model = KeyedVectors.load_word2vec_format('fasttext_model.vec')\n",
    "print('Accuracy for FastText (with n-grams):')\n",
    "accuracies.append(print_accuracy(fasttext_model, word_analogies_file))\n",
    "\n",
    "print('\\nLoading FastText embeddings without char N-gram')\n",
    "fasttext_nc_model = KeyedVectors.load_word2vec_format('fasttext_nochar_model.vec')\n",
    "print('Accuracy for FastText (without n-grams):')\n",
    "accuracies.append(print_accuracy(fasttext_nc_model, word_analogies_file))\n",
    "\n"
   ]
  },
  {
   "cell_type": "code",
   "execution_count": 11,
   "metadata": {},
   "outputs": [
    {
     "data": {
      "image/png": "[encoded data removed]",
      "text/plain": [
       "<matplotlib.figure.Figure at 0x7f63eb28a940>"
      ]
     },
     "metadata": {},
     "output_type": "display_data"
    }
   ],
   "source": [
    "%matplotlib inline\n",
    "import matplotlib.pyplot as plt\n",
    "\n",
    "def plot(ax, data, corpus_name='text8'):\n",
    "    width = 0.25\n",
    "    pos = [(i, i + width, i + 2*width) for i in range(len(data))]\n",
    "    colors = ['#EE3224', '#F78F1E', '#FFC222']\n",
    "    acc_ax = ax.twinx()\n",
    "    # tanítási idő (most nem játszik)\n",
    "    ax.bar(pos[0],\n",
    "            data[0],\n",
    "            width,\n",
    "            alpha=0.5,\n",
    "            color=colors\n",
    "            )\n",
    "    # Szemantikus pontosság (acc)\n",
    "    acc_ax.bar(pos[1],\n",
    "            data[1],\n",
    "            width,\n",
    "            alpha=0.5,\n",
    "            color=colors\n",
    "            )\n",
    "\n",
    "    # Szintaktikai pontosság (acc)\n",
    "    acc_ax.bar(pos[2],\n",
    "            data[2],\n",
    "            width,\n",
    "            alpha=0.5,\n",
    "            color=colors\n",
    "            )\n",
    "\n",
    "    ax.set_ylabel('Training time (s)')\n",
    "    acc_ax.set_ylabel('Accuracy (%)')\n",
    "    ax.set_title(corpus_name)\n",
    "\n",
    "    acc_ax.set_xticks([p[0] + 1.5 * width for p in pos])\n",
    "    acc_ax.set_xticklabels(['Training Time', 'Semantic Accuracy', 'Syntactic Accuracy'])\n",
    "\n",
    "    # Tengelyfeliratokhoz trükközés\n",
    "    proxies = [ax.bar([0], [0], width=0, color=c, alpha=0.5)[0] for c in colors]\n",
    "    models = ('Gensim', 'FastText', 'FastText (without char N-grams)')\n",
    "    ax.legend((proxies), models, loc='upper left')\n",
    "    \n",
    "    ax.set_xlim(pos[0][0]-width, pos[-1][0]+width*4)\n",
    "    ax.set_ylim([0, max(data[0])*1.1] )\n",
    "    acc_ax.set_ylim([0, max(data[1] + data[2])*1.1] )\n",
    "\n",
    "    plt.grid()\n",
    "\n",
    "# Megjelenítés ábrán\n",
    "fig = plt.figure(figsize=(10,15))\n",
    "evaluation_data = {}\n",
    "evaluation_data['text8'] = [(392, 876, 416)] # A tanítási időket most átemeltük korábbról fixen, mert nincs idő futtatni az órán\n",
    "evaluation_data['text8'] += [[acc[0] for acc in accuracies], [acc[1] for acc in accuracies]]\n",
    "\n",
    "for corpus, subplot in zip(sorted(evaluation_data.keys()), [311, 312, 313]):\n",
    "    ax = fig.add_subplot(subplot)\n",
    "    plot(ax, evaluation_data[corpus], corpus)\n",
    "\n",
    "plt.show()"
   ]
  },
  {
   "cell_type": "code",
   "execution_count": null,
   "metadata": {},
   "outputs": [],
   "source": []
  }
 ],
 "metadata": {
  "kernelspec": {
   "display_name": "Python 3",
   "language": "python",
   "name": "python3"
  },
  "language_info": {
   "codemirror_mode": {
    "name": "ipython",
    "version": 3
   },
   "file_extension": ".py",
   "mimetype": "text/x-python",
   "name": "python",
   "nbconvert_exporter": "python",
   "pygments_lexer": "ipython3",
   "version": "3.4.3"
  }
 },
 "nbformat": 4,
 "nbformat_minor": 2
}
